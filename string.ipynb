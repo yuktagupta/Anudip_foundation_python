{
  "nbformat": 4,
  "nbformat_minor": 0,
  "metadata": {
    "colab": {
      "provenance": [],
      "authorship_tag": "ABX9TyMbLEjsdjTnSAYZ7dk3Glis",
      "include_colab_link": true
    },
    "kernelspec": {
      "name": "python3",
      "display_name": "Python 3"
    },
    "language_info": {
      "name": "python"
    }
  },
  "cells": [
    {
      "cell_type": "markdown",
      "metadata": {
        "id": "view-in-github",
        "colab_type": "text"
      },
      "source": [
        "<a href=\"https://colab.research.google.com/github/yuktagupta/Anudip_foundation_python/blob/main/string.ipynb\" target=\"_parent\"><img src=\"https://colab.research.google.com/assets/colab-badge.svg\" alt=\"Open In Colab\"/></a>"
      ]
    },
    {
      "cell_type": "code",
      "execution_count": null,
      "metadata": {
        "id": "6qKG2Z_hVbj1",
        "colab": {
          "base_uri": "https://localhost:8080/"
        },
        "outputId": "8f903521-c201-4fb8-9470-0a4999ed06a1"
      },
      "outputs": [
        {
          "output_type": "stream",
          "name": "stdout",
          "text": [
            "Enter a string: data analaysis is fun \n",
            "Number of vowels: 8\n"
          ]
        }
      ],
      "source": [
        "## Wap to cound number of all the vowels in a string input (my way )\n",
        "text = input(\"Enter a string: \")\n",
        "vowels = \"aeiouAEIOU\"\n",
        "vowel_count = 0\n",
        "for char in text:\n",
        "    if char in vowels:\n",
        "        vowel_count += 1\n",
        "print(\"Number of vowels:\", vowel_count)\n"
      ]
    },
    {
      "cell_type": "code",
      "source": [
        "## sir way\n",
        "st =input(\"enter a string\")\n",
        "vowels = \"aeiouAEIOU\"\n",
        "count =0\n",
        "for i in st:\n",
        "  if i in vowels:\n",
        "    count+=1\n",
        "print(\"number of vowels are\",count)"
      ],
      "metadata": {
        "colab": {
          "base_uri": "https://localhost:8080/"
        },
        "id": "kBS6itdKhLMM",
        "outputId": "a8807231-1f92-4937-a4db-eda908bb1b3f"
      },
      "execution_count": null,
      "outputs": [
        {
          "output_type": "stream",
          "name": "stdout",
          "text": [
            "enter a stringdata analaysis is fun \n",
            "number of vowels are 8\n"
          ]
        }
      ]
    },
    {
      "cell_type": "code",
      "source": [
        "text = \" Python \"\n",
        "stripped_text = text.strip() # \"Python\"\n",
        "lstripped_text = text.lstrip() # \"Python \"\n",
        "rstripped_text = text.rstrip() # \" Python\""
      ],
      "metadata": {
        "id": "AK6ptm4xpMhM"
      },
      "execution_count": null,
      "outputs": []
    },
    {
      "cell_type": "code",
      "source": [
        "sentence = \"I like apples, and I like bananas.\"\n",
        "new_sentence = sentence.replace(\"like\", \"love\")\n",
        "print(new_sentence)"
      ],
      "metadata": {
        "colab": {
          "base_uri": "https://localhost:8080/"
        },
        "id": "fB6xPuLTpNCB",
        "outputId": "fbb7c097-8731-4d99-9d27-5a9e29af4dae"
      },
      "execution_count": null,
      "outputs": [
        {
          "output_type": "stream",
          "name": "stdout",
          "text": [
            "I love apples, and I love bananas.\n"
          ]
        }
      ]
    },
    {
      "cell_type": "code",
      "source": [
        "## 1. Write a Python program to count the occurrences of each word in agiven sentence\n",
        "#string = “To change the overall look of your document. To change the look\n",
        "#available in the gallery”\n",
        "from collections import Counter\n",
        "sentence = \"To change the overall look of your document. To change the look available in the gallery\"\n",
        "sentence = sentence.lower()\n",
        "sentence = sentence.replace('.', '')\n",
        "words = sentence.split()\n",
        "word_counts = Counter(words)\n",
        "print(\"Word Frequency in the Sentence:\\n\")\n",
        "for word, count in word_counts.items():\n",
        "    print(f\"{word}: {count}\")\n"
      ],
      "metadata": {
        "colab": {
          "base_uri": "https://localhost:8080/"
        },
        "id": "bRlys6g_h5jl",
        "outputId": "dd8c71cb-c1ad-4712-bd95-11bc77733d34"
      },
      "execution_count": null,
      "outputs": [
        {
          "output_type": "stream",
          "name": "stdout",
          "text": [
            "Word Frequency in the Sentence:\n",
            "\n",
            "to: 2\n",
            "change: 2\n",
            "the: 3\n",
            "overall: 1\n",
            "look: 2\n",
            "of: 1\n",
            "your: 1\n",
            "document: 1\n",
            "available: 1\n",
            "in: 1\n",
            "gallery: 1\n"
          ]
        }
      ]
    },
    {
      "cell_type": "code",
      "source": [
        "str1 = \"apple\"\n",
        "str2 = \"apple\"\n",
        "result = str1 == str2\n",
        "print(result)# True"
      ],
      "metadata": {
        "colab": {
          "base_uri": "https://localhost:8080/"
        },
        "id": "Ux-KoIuhpQZw",
        "outputId": "282c7e4a-44f4-4b87-b106-6c2f8243be3c"
      },
      "execution_count": null,
      "outputs": [
        {
          "output_type": "stream",
          "name": "stdout",
          "text": [
            "True\n"
          ]
        }
      ]
    },
    {
      "cell_type": "code",
      "source": [
        "str1 = \"apple\"\n",
        "str2 = \"banana\"\n",
        "result = str1 != str2\n",
        "print(result)# True"
      ],
      "metadata": {
        "colab": {
          "base_uri": "https://localhost:8080/"
        },
        "id": "WDB9EN5xpeb5",
        "outputId": "e529f414-8d44-4336-a92e-383530294894"
      },
      "execution_count": null,
      "outputs": [
        {
          "output_type": "stream",
          "name": "stdout",
          "text": [
            "True\n"
          ]
        }
      ]
    },
    {
      "cell_type": "code",
      "source": [
        "str1 = \"apple\"\n",
        "str2 = \"banana\"\n",
        "result = str1 < str2 # True\n",
        "result = str1 > str2 # False\n",
        "print(result)"
      ],
      "metadata": {
        "colab": {
          "base_uri": "https://localhost:8080/"
        },
        "id": "VCFgeLrMpnFR",
        "outputId": "256d9f1e-7552-4f23-cfed-34a8399eb1e8"
      },
      "execution_count": null,
      "outputs": [
        {
          "output_type": "stream",
          "name": "stdout",
          "text": [
            "False\n"
          ]
        }
      ]
    },
    {
      "cell_type": "code",
      "source": [
        "name = \"Alice\"\n",
        "age = 30\n",
        "formatted_str = \"My name is %s, and I am %d years old.\" % (name, age)\n",
        "print(formatted_str)"
      ],
      "metadata": {
        "colab": {
          "base_uri": "https://localhost:8080/"
        },
        "id": "9ntc1QptptDq",
        "outputId": "517a3f6c-5d83-4e56-dfac-9a9ba79bc421"
      },
      "execution_count": null,
      "outputs": [
        {
          "output_type": "stream",
          "name": "stdout",
          "text": [
            "My name is Alice, and I am 30 years old.\n"
          ]
        }
      ]
    },
    {
      "cell_type": "code",
      "source": [
        "from os import killpg\n",
        "name = \"Alice\"\n",
        "age = 30\n",
        "from os import killpg\n",
        "name = \"Alice\"\n",
        "age = 30\n",
        "score = 95.5\n",
        "weight =50\n",
        "formatted_str = \"Name: %s, Age: %d, Score: %.2f, weight: %.2f\" % (name, age, score ,weight)\n",
        "print(formatted_str)"
      ],
      "metadata": {
        "colab": {
          "base_uri": "https://localhost:8080/"
        },
        "id": "NO9uebX2pzux",
        "outputId": "274f5c94-917c-49c6-8c12-bf74ea89de55"
      },
      "execution_count": null,
      "outputs": [
        {
          "output_type": "stream",
          "name": "stdout",
          "text": [
            "Name: Alice, Age: 30, Score: 95.50, weight: 50.00\n"
          ]
        }
      ]
    },
    {
      "cell_type": "markdown",
      "source": [
        "# split string\n"
      ],
      "metadata": {
        "id": "rfSMfdtNqdo1"
      }
    },
    {
      "cell_type": "code",
      "source": [
        "str1 = \"Emma-is-a-data-scientist\"\n",
        "print(\"Original String is:\", str1)\n",
        "sub_strings = str1.split(\"-\")\n",
        "print(\"Displaying each substring\")\n",
        "for sub in sub_strings:\n",
        "  print(sub)"
      ],
      "metadata": {
        "colab": {
          "base_uri": "https://localhost:8080/"
        },
        "id": "8TVrZ3Wmp4gJ",
        "outputId": "b63f167b-90a1-40e0-d58f-ba7aef136e59"
      },
      "execution_count": null,
      "outputs": [
        {
          "output_type": "stream",
          "name": "stdout",
          "text": [
            "Original String is: Emma-is-a-data-scientist\n",
            "Displaying each substring\n",
            "Emma\n",
            "is\n",
            "a\n",
            "data\n",
            "scientist\n"
          ]
        }
      ]
    },
    {
      "cell_type": "code",
      "source": [
        "##1. Hi! Can you write a program in python to remove spaces from a given string\n",
        "input_string = \"Hi! Can you write a program in python to remove spaces from a given string\"\n",
        "\n",
        "no_space_string = input_string.replace(\" \", \"\")\n",
        "\n",
        "print(\"Original String:\", input_string)\n",
        "print(\"String without spaces:\", no_space_string)\n"
      ],
      "metadata": {
        "colab": {
          "base_uri": "https://localhost:8080/"
        },
        "id": "wzcn-0bgqgO6",
        "outputId": "5161fbf2-b56c-4ed7-8aa8-051e217f4b68"
      },
      "execution_count": null,
      "outputs": [
        {
          "output_type": "stream",
          "name": "stdout",
          "text": [
            "Original String: Hi! Can you write a program in python to remove spaces from a given string\n",
            "String without spaces: Hi!Canyouwriteaprograminpythontoremovespacesfromagivenstring\n"
          ]
        }
      ]
    },
    {
      "cell_type": "code",
      "source": [
        "input_string = \"Hello12345World\"\n",
        "result_string = ''\n",
        "for char in input_string:\n",
        "  if not char.isdigit():\n",
        "    result_string += char\n",
        "print(result_string) # Output: \"HelloWorld\""
      ],
      "metadata": {
        "colab": {
          "base_uri": "https://localhost:8080/"
        },
        "id": "CGES92uSqvKz",
        "outputId": "07abdb22-f5c9-4bb8-da3e-4ebe55e229aa"
      },
      "execution_count": null,
      "outputs": [
        {
          "output_type": "stream",
          "name": "stdout",
          "text": [
            "HelloWorld\n"
          ]
        }
      ]
    },
    {
      "cell_type": "code",
      "source": [
        "#2. Write a Python program to remove a newline in Python\n",
        "#String = \"\\nBest \\nDeeptech \\nPython \\nTraining\\n\"\n",
        "string = \"\\nBest \\nDeeptech \\nPython \\nTraining\\n\"\n",
        "cleaned_string = string.replace(\"\\n\", \"\")\n",
        "print(\"Original String with Newlines:\")\n",
        "print(string)\n",
        "print(\"\\nString without Newlines:\")\n",
        "print(cleaned_string)\n"
      ],
      "metadata": {
        "colab": {
          "base_uri": "https://localhost:8080/"
        },
        "id": "xmkO4eY6q_WC",
        "outputId": "a0f87ca6-0a0c-4071-ab60-b6d30c40e566"
      },
      "execution_count": null,
      "outputs": [
        {
          "output_type": "stream",
          "name": "stdout",
          "text": [
            "Original String with Newlines:\n",
            "\n",
            "Best \n",
            "Deeptech \n",
            "Python \n",
            "Training\n",
            "\n",
            "\n",
            "String without Newlines:\n",
            "Best Deeptech Python Training\n"
          ]
        }
      ]
    },
    {
      "cell_type": "code",
      "source": [
        "#1. Write a Python program to Count all letters, digits, and special symbols from the given string\n",
        "#Input = “P@#yn26at^&i5ve”\n",
        "#Output: Chars = 8 Digits = 2 Symbol = 3\n",
        "input_str = \"P@#yn26at^&i5ve\"\n",
        "chars = 0\n",
        "digits = 0\n",
        "symbols = 0\n",
        "for char in input_str:\n",
        "    if char.isalpha():\n",
        "        chars += 1\n",
        "    elif char.isdigit():\n",
        "        digits += 1\n",
        "    else:\n",
        "        symbols += 1\n",
        "print(\"Chars =\", chars, \"Digits =\", digits, \"Symbol =\", symbols)\n",
        "\n"
      ],
      "metadata": {
        "colab": {
          "base_uri": "https://localhost:8080/"
        },
        "id": "GqmL3OUbuByC",
        "outputId": "472e9b3b-ac89-437a-8c91-97a26bb6eeaa"
      },
      "execution_count": null,
      "outputs": [
        {
          "output_type": "stream",
          "name": "stdout",
          "text": [
            "Chars = 8 Digits = 3 Symbol = 4\n"
          ]
        }
      ]
    },
    {
      "cell_type": "code",
      "source": [
        "#2. Write a Python program to remove duplicate characters of a given string.\n",
        "#Input = “String and String Function”\n",
        "#Output: String and Function\n",
        "input_str = \"String and String Function\"\n",
        "result = \"\"\n",
        "seen = set()\n",
        "for char in input_str:\n",
        "    if char not in seen:\n",
        "        seen.add(char)\n",
        "        result += char\n",
        "result = 'join(result_words)\n",
        "print(\"Output:\", result)\n"
      ],
      "metadata": {
        "colab": {
          "base_uri": "https://localhost:8080/",
          "height": 106
        },
        "id": "5rMvdzYBvlET",
        "outputId": "5b9e886a-8d98-4f4b-ab54-bfe5d1103a2a"
      },
      "execution_count": null,
      "outputs": [
        {
          "output_type": "error",
          "ename": "SyntaxError",
          "evalue": "unterminated string literal (detected at line 11) (<ipython-input-35-063c0ac8bdc0>, line 11)",
          "traceback": [
            "\u001b[0;36m  File \u001b[0;32m\"<ipython-input-35-063c0ac8bdc0>\"\u001b[0;36m, line \u001b[0;32m11\u001b[0m\n\u001b[0;31m    result = 'join(result_words)\u001b[0m\n\u001b[0m             ^\u001b[0m\n\u001b[0;31mSyntaxError\u001b[0m\u001b[0;31m:\u001b[0m unterminated string literal (detected at line 11)\n"
          ]
        }
      ]
    },
    {
      "cell_type": "code",
      "source": [
        "#2. Write a Python program to remove duplicate characters of a given string.\n",
        "#Input = “String and String Function”\n",
        "#Output: String and Function\n",
        "\n",
        "input_str = \"String and String Function\"\n",
        "words = input_str.split()\n",
        "seen = set()\n",
        "result_words = []\n",
        "for word in words:\n",
        "    if word not in seen:\n",
        "        seen.add(word)\n",
        "        result_words.append(word)\n",
        "result = ' '.join(result_words)\n",
        "print(\"Output:\", result)\n"
      ],
      "metadata": {
        "colab": {
          "base_uri": "https://localhost:8080/"
        },
        "id": "h3CvHCWswWSC",
        "outputId": "e7a5dc51-3b1e-4e62-865e-fd4879a2a084"
      },
      "execution_count": null,
      "outputs": [
        {
          "output_type": "stream",
          "name": "stdout",
          "text": [
            "Output: String and Function\n"
          ]
        }
      ]
    },
    {
      "cell_type": "code",
      "source": [],
      "metadata": {
        "id": "JEvdhYW1wkyB"
      },
      "execution_count": null,
      "outputs": []
    }
  ]
}