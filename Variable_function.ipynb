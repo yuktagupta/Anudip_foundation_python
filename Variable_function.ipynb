{
  "nbformat": 4,
  "nbformat_minor": 0,
  "metadata": {
    "colab": {
      "provenance": [],
      "authorship_tag": "ABX9TyMhiFEKnawzHZ/wG47Nh+7i",
      "include_colab_link": true
    },
    "kernelspec": {
      "name": "python3",
      "display_name": "Python 3"
    },
    "language_info": {
      "name": "python"
    }
  },
  "cells": [
    {
      "cell_type": "markdown",
      "metadata": {
        "id": "view-in-github",
        "colab_type": "text"
      },
      "source": [
        "<a href=\"https://colab.research.google.com/github/yuktagupta/Anudip_foundation_python/blob/main/Variable_function.ipynb\" target=\"_parent\"><img src=\"https://colab.research.google.com/assets/colab-badge.svg\" alt=\"Open In Colab\"/></a>"
      ]
    },
    {
      "cell_type": "code",
      "execution_count": null,
      "metadata": {
        "colab": {
          "base_uri": "https://localhost:8080/"
        },
        "id": "N1Lg7DPYTz4K",
        "outputId": "c9aaefb5-b6ca-4295-8f92-63e58a08fce6"
      },
      "outputs": [
        {
          "output_type": "stream",
          "name": "stdout",
          "text": [
            "you are kid\n"
          ]
        }
      ],
      "source": [
        "age = 10\n",
        "if age > 27 :\n",
        "    print(\"you are adult\")\n",
        "else:\n",
        "    print (\"you are kid\")\n",
        "\n",
        "\n"
      ]
    },
    {
      "cell_type": "code",
      "source": [
        "score = (int(input(\"Enter your Score:\")))\n",
        "\n",
        "if score >80:\n",
        "    print (\"your grades are very very very Good!!!!\")\n",
        "elif score >70:\n",
        "    print(\"your grades are good!!\")\n",
        "elif score >60:\n",
        "    print(\"your grades are average!\")\n",
        "elif score >50:\n",
        "    print (\"your grades are poor\")\n",
        "else:\n",
        "    print(\"you are a shame of your family\")\n",
        "\n"
      ],
      "metadata": {
        "colab": {
          "base_uri": "https://localhost:8080/"
        },
        "id": "EAZA_r9gT7LP",
        "outputId": "682e8711-02a7-4ce4-ecc3-9f6bebb23a58"
      },
      "execution_count": null,
      "outputs": [
        {
          "output_type": "stream",
          "name": "stdout",
          "text": [
            "Enter your Score:45\n",
            "you are a shame of your family\n"
          ]
        }
      ]
    },
    {
      "cell_type": "code",
      "source": [
        "###ell me a leap year\n",
        "year = int((input(\"Enter the Year:\")))\n",
        "if (year % 4 ==0 and year % 100 != 0 )or (year % 400 == 0):\n",
        "    print(\"this is leap Year\")\n",
        "else:\n",
        "    print(\"The year is not a leap year\")"
      ],
      "metadata": {
        "colab": {
          "base_uri": "https://localhost:8080/"
        },
        "id": "D8fRa7szT9eZ",
        "outputId": "3c63fe15-19d5-4c17-8c94-844780ad562c"
      },
      "execution_count": null,
      "outputs": [
        {
          "output_type": "stream",
          "name": "stdout",
          "text": [
            "Enter the Year:2024\n",
            "this is leap Year\n"
          ]
        }
      ]
    },
    {
      "cell_type": "code",
      "source": [
        "\n",
        "def add_number(a,b):\n",
        "  result = a + b\n",
        "  return result\n",
        "  print(result)"
      ],
      "metadata": {
        "id": "jkO3bUUPUE4b"
      },
      "execution_count": null,
      "outputs": []
    },
    {
      "cell_type": "code",
      "source": [
        "sum_result = add_number(5,6)\n",
        "print (sum_result)"
      ],
      "metadata": {
        "colab": {
          "base_uri": "https://localhost:8080/"
        },
        "id": "BVHmdhLbU8R9",
        "outputId": "ac4b7265-789e-4be4-f553-ea9251e8b872"
      },
      "execution_count": null,
      "outputs": [
        {
          "output_type": "stream",
          "name": "stdout",
          "text": [
            "11\n"
          ]
        }
      ]
    },
    {
      "cell_type": "code",
      "source": [],
      "metadata": {
        "id": "tKJtn8b1VFeb"
      },
      "execution_count": null,
      "outputs": []
    }
  ]
}