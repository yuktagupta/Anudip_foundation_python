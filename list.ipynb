{
  "nbformat": 4,
  "nbformat_minor": 0,
  "metadata": {
    "colab": {
      "provenance": [],
      "authorship_tag": "ABX9TyM4/nwsxskxX7e15J8VFlor",
      "include_colab_link": true
    },
    "kernelspec": {
      "name": "python3",
      "display_name": "Python 3"
    },
    "language_info": {
      "name": "python"
    }
  },
  "cells": [
    {
      "cell_type": "markdown",
      "metadata": {
        "id": "view-in-github",
        "colab_type": "text"
      },
      "source": [
        "<a href=\"https://colab.research.google.com/github/yuktagupta/Anudip_foundation_python/blob/main/list.ipynb\" target=\"_parent\"><img src=\"https://colab.research.google.com/assets/colab-badge.svg\" alt=\"Open In Colab\"/></a>"
      ]
    },
    {
      "cell_type": "code",
      "execution_count": null,
      "metadata": {
        "colab": {
          "base_uri": "https://localhost:8080/"
        },
        "id": "kGFTV3KnZIJ3",
        "outputId": "71d5a47f-8661-491d-d841-46856b55bb50"
      },
      "outputs": [
        {
          "output_type": "stream",
          "name": "stdout",
          "text": [
            "[10, 20, 30, 40]\n"
          ]
        }
      ],
      "source": [
        "l = [10,20,30,40]\n",
        "print(l)"
      ]
    },
    {
      "cell_type": "markdown",
      "source": [
        "#slicing"
      ],
      "metadata": {
        "id": "Low1zC5rai-D"
      }
    },
    {
      "cell_type": "code",
      "source": [
        "l[:1]"
      ],
      "metadata": {
        "colab": {
          "base_uri": "https://localhost:8080/"
        },
        "id": "dk9bZRtcaIc8",
        "outputId": "075d5261-ab8d-4395-a2f1-deb0fa484162"
      },
      "execution_count": null,
      "outputs": [
        {
          "output_type": "execute_result",
          "data": {
            "text/plain": [
              "[10]"
            ]
          },
          "metadata": {},
          "execution_count": 3
        }
      ]
    },
    {
      "cell_type": "code",
      "source": [
        "l[1:5]"
      ],
      "metadata": {
        "colab": {
          "base_uri": "https://localhost:8080/"
        },
        "id": "mB09lJesaPDD",
        "outputId": "f4dd1120-e24d-4e15-8b0a-70363584f184"
      },
      "execution_count": null,
      "outputs": [
        {
          "output_type": "execute_result",
          "data": {
            "text/plain": [
              "[20, 30, 40]"
            ]
          },
          "metadata": {},
          "execution_count": 4
        }
      ]
    },
    {
      "cell_type": "code",
      "source": [
        "l[2:]"
      ],
      "metadata": {
        "colab": {
          "base_uri": "https://localhost:8080/"
        },
        "id": "aBRB6KbMaYKh",
        "outputId": "0aba4d7d-1a6a-422d-8eb7-2ea774c90df5"
      },
      "execution_count": null,
      "outputs": [
        {
          "output_type": "execute_result",
          "data": {
            "text/plain": [
              "[30, 40]"
            ]
          },
          "metadata": {},
          "execution_count": 5
        }
      ]
    },
    {
      "cell_type": "code",
      "source": [
        "l[-1]"
      ],
      "metadata": {
        "colab": {
          "base_uri": "https://localhost:8080/"
        },
        "id": "bSa4tOuiaaoh",
        "outputId": "c713bfe3-a95d-4058-fa6c-8281b17074da"
      },
      "execution_count": null,
      "outputs": [
        {
          "output_type": "execute_result",
          "data": {
            "text/plain": [
              "40"
            ]
          },
          "metadata": {},
          "execution_count": 6
        }
      ]
    },
    {
      "cell_type": "code",
      "source": [
        "l[2]=100"
      ],
      "metadata": {
        "id": "k4RxMNDCa5JL"
      },
      "execution_count": null,
      "outputs": []
    },
    {
      "cell_type": "code",
      "source": [
        "l"
      ],
      "metadata": {
        "colab": {
          "base_uri": "https://localhost:8080/"
        },
        "id": "OBWbZRRWa8nJ",
        "outputId": "bc33dc11-5ea0-4051-febd-ebe9c00dec15"
      },
      "execution_count": null,
      "outputs": [
        {
          "output_type": "execute_result",
          "data": {
            "text/plain": [
              "[10, 20, 100, 40]"
            ]
          },
          "metadata": {},
          "execution_count": 9
        }
      ]
    },
    {
      "cell_type": "code",
      "source": [
        "#wap to print all the element in reverse order\n",
        "l[::1]"
      ],
      "metadata": {
        "colab": {
          "base_uri": "https://localhost:8080/"
        },
        "id": "ZNC7Nx2Ja-6x",
        "outputId": "482fbc16-548a-4f2a-d1e4-ee18197f060e"
      },
      "execution_count": null,
      "outputs": [
        {
          "output_type": "execute_result",
          "data": {
            "text/plain": [
              "[10, 20, 100, 40]"
            ]
          },
          "metadata": {},
          "execution_count": 10
        }
      ]
    },
    {
      "cell_type": "code",
      "source": [
        "l.append(\"Apple\")"
      ],
      "metadata": {
        "id": "K7xAIXFcdpRb"
      },
      "execution_count": null,
      "outputs": []
    },
    {
      "cell_type": "code",
      "source": [
        "l"
      ],
      "metadata": {
        "colab": {
          "base_uri": "https://localhost:8080/"
        },
        "id": "jMHo2ubfdwn5",
        "outputId": "a8850237-ad77-4bcf-f417-c123cf759743"
      },
      "execution_count": null,
      "outputs": [
        {
          "output_type": "execute_result",
          "data": {
            "text/plain": [
              "[10, 20, 100, 40, 'Apple', 'Apple', 'Apple']"
            ]
          },
          "metadata": {},
          "execution_count": 14
        }
      ]
    },
    {
      "cell_type": "code",
      "source": [
        "r=[]\n",
        "for i in range(len(1)-1,-1,-1):\n",
        "  r.append(l[i])"
      ],
      "metadata": {
        "colab": {
          "base_uri": "https://localhost:8080/",
          "height": 176
        },
        "id": "y42iFVkQd5Fp",
        "outputId": "3b970b7e-3551-401a-96bc-76c09cb277fa"
      },
      "execution_count": null,
      "outputs": [
        {
          "output_type": "error",
          "ename": "TypeError",
          "evalue": "object of type 'int' has no len()",
          "traceback": [
            "\u001b[0;31m---------------------------------------------------------------------------\u001b[0m",
            "\u001b[0;31mTypeError\u001b[0m                                 Traceback (most recent call last)",
            "\u001b[0;32m<ipython-input-18-1b7c9ad478ea>\u001b[0m in \u001b[0;36m<cell line: 0>\u001b[0;34m()\u001b[0m\n\u001b[1;32m      1\u001b[0m \u001b[0mr\u001b[0m\u001b[0;34m=\u001b[0m\u001b[0;34m[\u001b[0m\u001b[0;34m]\u001b[0m\u001b[0;34m\u001b[0m\u001b[0;34m\u001b[0m\u001b[0m\n\u001b[0;32m----> 2\u001b[0;31m \u001b[0;32mfor\u001b[0m \u001b[0mi\u001b[0m \u001b[0;32min\u001b[0m \u001b[0mrange\u001b[0m\u001b[0;34m(\u001b[0m\u001b[0mlen\u001b[0m\u001b[0;34m(\u001b[0m\u001b[0;36m1\u001b[0m\u001b[0;34m)\u001b[0m\u001b[0;34m-\u001b[0m\u001b[0;36m1\u001b[0m\u001b[0;34m,\u001b[0m\u001b[0;34m-\u001b[0m\u001b[0;36m1\u001b[0m\u001b[0;34m,\u001b[0m\u001b[0;34m-\u001b[0m\u001b[0;36m1\u001b[0m\u001b[0;34m)\u001b[0m\u001b[0;34m:\u001b[0m\u001b[0;34m\u001b[0m\u001b[0;34m\u001b[0m\u001b[0m\n\u001b[0m\u001b[1;32m      3\u001b[0m   \u001b[0mr\u001b[0m\u001b[0;34m.\u001b[0m\u001b[0mappend\u001b[0m\u001b[0;34m(\u001b[0m\u001b[0ml\u001b[0m\u001b[0;34m[\u001b[0m\u001b[0mi\u001b[0m\u001b[0;34m]\u001b[0m\u001b[0;34m)\u001b[0m\u001b[0;34m\u001b[0m\u001b[0;34m\u001b[0m\u001b[0m\n",
            "\u001b[0;31mTypeError\u001b[0m: object of type 'int' has no len()"
          ]
        }
      ]
    },
    {
      "cell_type": "code",
      "source": [
        "#wap to print all the element in reverse order\n",
        "r=[]\n",
        "for i in range(len(l)-1,-1,-1): # Changed len(1) to len(l)\n",
        "  r.append(l[i])"
      ],
      "metadata": {
        "id": "rt_Yk5eweadD"
      },
      "execution_count": null,
      "outputs": []
    },
    {
      "cell_type": "code",
      "source": [
        "r"
      ],
      "metadata": {
        "colab": {
          "base_uri": "https://localhost:8080/"
        },
        "id": "9y4t1on6exCq",
        "outputId": "4261c2e8-5048-4f1f-c63e-1558cc0a4317"
      },
      "execution_count": null,
      "outputs": [
        {
          "output_type": "execute_result",
          "data": {
            "text/plain": [
              "['Apple', 'Apple', 'Apple', 40, 100, 20, 10]"
            ]
          },
          "metadata": {},
          "execution_count": 21
        }
      ]
    },
    {
      "cell_type": "code",
      "source": [
        "list=[10,20,30,40,50,60,70]\n",
        "print (list)"
      ],
      "metadata": {
        "colab": {
          "base_uri": "https://localhost:8080/"
        },
        "id": "aO-5TTFlfY0p",
        "outputId": "b0f33f13-d590-4b37-b838-188523e0441f"
      },
      "execution_count": null,
      "outputs": [
        {
          "output_type": "stream",
          "name": "stdout",
          "text": [
            "[10, 20, 30, 40, 50, 60, 70]\n"
          ]
        }
      ]
    },
    {
      "cell_type": "code",
      "source": [
        "r = []\n",
        "for i in range(len(list)-1,-1,-1):\n",
        "  r.append(list[i])"
      ],
      "metadata": {
        "id": "Uu2KIjOTez5R"
      },
      "execution_count": null,
      "outputs": []
    },
    {
      "cell_type": "code",
      "source": [
        "r"
      ],
      "metadata": {
        "colab": {
          "base_uri": "https://localhost:8080/"
        },
        "id": "IFWu3x6kfwKD",
        "outputId": "65d534dc-249c-4b01-b821-a0648e0f004f"
      },
      "execution_count": null,
      "outputs": [
        {
          "output_type": "execute_result",
          "data": {
            "text/plain": [
              "[70, 60, 50, 40, 30, 20, 10]"
            ]
          },
          "metadata": {},
          "execution_count": 29
        }
      ]
    },
    {
      "cell_type": "code",
      "source": [
        "list.insert[1, 80]"
      ],
      "metadata": {
        "colab": {
          "base_uri": "https://localhost:8080/",
          "height": 141
        },
        "id": "FH0d3dJLgn4q",
        "outputId": "f5451357-5fbe-4f03-9e77-89ce56cb0a91"
      },
      "execution_count": null,
      "outputs": [
        {
          "output_type": "error",
          "ename": "TypeError",
          "evalue": "'builtin_function_or_method' object is not subscriptable",
          "traceback": [
            "\u001b[0;31m---------------------------------------------------------------------------\u001b[0m",
            "\u001b[0;31mTypeError\u001b[0m                                 Traceback (most recent call last)",
            "\u001b[0;32m<ipython-input-35-06a87cb23692>\u001b[0m in \u001b[0;36m<cell line: 0>\u001b[0;34m()\u001b[0m\n\u001b[0;32m----> 1\u001b[0;31m \u001b[0mlist\u001b[0m\u001b[0;34m.\u001b[0m\u001b[0minsert\u001b[0m\u001b[0;34m[\u001b[0m\u001b[0;36m1\u001b[0m\u001b[0;34m,\u001b[0m \u001b[0;36m80\u001b[0m\u001b[0;34m]\u001b[0m\u001b[0;34m\u001b[0m\u001b[0;34m\u001b[0m\u001b[0m\n\u001b[0m",
            "\u001b[0;31mTypeError\u001b[0m: 'builtin_function_or_method' object is not subscriptable"
          ]
        }
      ]
    },
    {
      "cell_type": "code",
      "source": [
        "# Replace square brackets with parentheses to call the insert method\n",
        "list.insert(1, 80)"
      ],
      "metadata": {
        "id": "eGF9Jmxng6FL"
      },
      "execution_count": null,
      "outputs": []
    },
    {
      "cell_type": "code",
      "source": [
        "list"
      ],
      "metadata": {
        "colab": {
          "base_uri": "https://localhost:8080/"
        },
        "id": "QCG3hfKDhEJB",
        "outputId": "635702a8-f098-42f4-dd22-b2090ed136fa"
      },
      "execution_count": null,
      "outputs": [
        {
          "output_type": "execute_result",
          "data": {
            "text/plain": [
              "[10, 20, 30, 40, 50, 60, 70]"
            ]
          },
          "metadata": {},
          "execution_count": 36
        }
      ]
    },
    {
      "cell_type": "code",
      "source": [
        "list.remove(10)"
      ],
      "metadata": {
        "id": "TJi2uYz8hE8J"
      },
      "execution_count": null,
      "outputs": []
    },
    {
      "cell_type": "code",
      "source": [
        "list"
      ],
      "metadata": {
        "colab": {
          "base_uri": "https://localhost:8080/"
        },
        "id": "ROrGKeElhU75",
        "outputId": "d1377d1c-d2a4-4433-ec2f-652eddb87b31"
      },
      "execution_count": null,
      "outputs": [
        {
          "output_type": "execute_result",
          "data": {
            "text/plain": [
              "[20, 30, 40, 50, 60, 70]"
            ]
          },
          "metadata": {},
          "execution_count": 41
        }
      ]
    },
    {
      "cell_type": "code",
      "source": [
        "list.count(40)"
      ],
      "metadata": {
        "colab": {
          "base_uri": "https://localhost:8080/"
        },
        "id": "7Gg8LHANhX6J",
        "outputId": "c7cf6c41-8be9-46c3-a8a6-525e2cce0f17"
      },
      "execution_count": null,
      "outputs": [
        {
          "output_type": "execute_result",
          "data": {
            "text/plain": [
              "1"
            ]
          },
          "metadata": {},
          "execution_count": 42
        }
      ]
    },
    {
      "cell_type": "code",
      "source": [
        "n1=[10,28,8,18,23]"
      ],
      "metadata": {
        "id": "Wr0v_Ub6hslK"
      },
      "execution_count": null,
      "outputs": []
    },
    {
      "cell_type": "code",
      "source": [
        "n1.sort()"
      ],
      "metadata": {
        "id": "vEf76i-Th-2K"
      },
      "execution_count": null,
      "outputs": []
    },
    {
      "cell_type": "code",
      "source": [
        "n1"
      ],
      "metadata": {
        "colab": {
          "base_uri": "https://localhost:8080/"
        },
        "id": "7PJCt8vyiBCZ",
        "outputId": "845b4d51-5fc6-4b7c-bf87-0c939b2f98e5"
      },
      "execution_count": null,
      "outputs": [
        {
          "output_type": "execute_result",
          "data": {
            "text/plain": [
              "[8, 10, 18, 23, 28]"
            ]
          },
          "metadata": {},
          "execution_count": 50
        }
      ]
    },
    {
      "cell_type": "code",
      "source": [
        "n1.sort(reverse= True)"
      ],
      "metadata": {
        "id": "j3aTeiAviDXJ"
      },
      "execution_count": null,
      "outputs": []
    },
    {
      "cell_type": "code",
      "source": [
        "n1"
      ],
      "metadata": {
        "colab": {
          "base_uri": "https://localhost:8080/"
        },
        "id": "5SS1dQnoiTaK",
        "outputId": "b85cfe6c-c8ee-4c24-d1ec-9a1ebb1afc0e"
      },
      "execution_count": null,
      "outputs": [
        {
          "output_type": "execute_result",
          "data": {
            "text/plain": [
              "[28, 23, 18, 10, 8]"
            ]
          },
          "metadata": {},
          "execution_count": 52
        }
      ]
    },
    {
      "cell_type": "markdown",
      "source": [
        "***list comparison ***"
      ],
      "metadata": {
        "id": "kiWvJ5zmjyma"
      }
    },
    {
      "cell_type": "code",
      "source": [
        "n1"
      ],
      "metadata": {
        "colab": {
          "base_uri": "https://localhost:8080/"
        },
        "id": "ek-xK60RiVBp",
        "outputId": "868b293d-3b1a-4975-ba43-97345fbd8c3f"
      },
      "execution_count": null,
      "outputs": [
        {
          "output_type": "execute_result",
          "data": {
            "text/plain": [
              "[28, 23, 18, 10, 8]"
            ]
          },
          "metadata": {},
          "execution_count": 53
        }
      ]
    },
    {
      "cell_type": "code",
      "source": [
        "sq =[a**2 for a in n1]"
      ],
      "metadata": {
        "id": "8o4K7mj1j_U6"
      },
      "execution_count": null,
      "outputs": []
    },
    {
      "cell_type": "code",
      "source": [
        "sq"
      ],
      "metadata": {
        "colab": {
          "base_uri": "https://localhost:8080/"
        },
        "id": "mYscCR4Vk0qp",
        "outputId": "419b05dc-3acb-40e4-c187-c3d29bf4a4b5"
      },
      "execution_count": null,
      "outputs": [
        {
          "output_type": "execute_result",
          "data": {
            "text/plain": [
              "[784, 529, 324, 100, 64]"
            ]
          },
          "metadata": {},
          "execution_count": 55
        }
      ]
    },
    {
      "cell_type": "code",
      "source": [
        "for index,value in enumerate(n1):\n",
        "  print(index,value)"
      ],
      "metadata": {
        "colab": {
          "base_uri": "https://localhost:8080/"
        },
        "id": "vWkJEG82k1NJ",
        "outputId": "d10a86df-42ad-437e-f93b-b85ba2fcdf77"
      },
      "execution_count": null,
      "outputs": [
        {
          "output_type": "stream",
          "name": "stdout",
          "text": [
            "0 28\n",
            "1 23\n",
            "2 18\n",
            "3 10\n",
            "4 8\n"
          ]
        }
      ]
    },
    {
      "cell_type": "code",
      "source": [
        "#Hi! Can you create a program using a list which allows us to manage our to-do list interactively, including adding tasks, marking tasks as done, removing tasks, and viewing the current task. The tasks are stored in a list, where each task is represented as a list containing the task name and a boolean value indicating whether it's done or not.\n",
        "def display_menu():\n",
        "    print(\"\\n--- To-Do List Menu ---\")\n",
        "    print(\"1. View Tasks\")\n",
        "    print(\"2. Add Task\")\n",
        "    print(\"3. Mark Task as Done\")\n",
        "    print(\"4. Remove Task\")\n",
        "    print(\"5. Exit\")\n",
        "\n",
        "def view_tasks(todo_list):\n",
        "    if not todo_list:\n",
        "        print(\"Your to-do list is empty.\")\n",
        "        return\n",
        "    print(\"\\nCurrent Tasks:\")\n",
        "    for i, task in enumerate(todo_list):\n",
        "        status = \"✔️ Done\" if task[1] else \"❌ Not Done\"\n",
        "        print(f\"{i + 1}. {task[0]} - {status}\")\n",
        "\n",
        "def add_task(todo_list):\n",
        "    task_name = input(\"Enter the task name: \")\n",
        "    todo_list.append([task_name, False])\n",
        "    print(f\"Task '{task_name}' added.\")\n",
        "\n",
        "def mark_task_done(todo_list):\n",
        "    view_tasks(todo_list)\n",
        "    try:\n",
        "        index = int(input(\"Enter the task number to mark as done: \")) - 1\n",
        "        if 0 <= index < len(todo_list):\n",
        "            todo_list[index][1] = True\n",
        "            print(f\"Task '{todo_list[index][0]}' marked as done.\")\n",
        "        else:\n",
        "            print(\"Invalid task number.\")\n",
        "    except ValueError:\n",
        "        print(\"Please enter a valid number.\")\n",
        "\n",
        "def remove_task(todo_list):\n",
        "    view_tasks(todo_list)\n",
        "    try:\n",
        "        index = int(input(\"Enter the task number to remove: \")) - 1\n",
        "        if 0 <= index < len(todo_list):\n",
        "            removed_task = todo_list.pop(index)\n",
        "            print(f\"Task '{removed_task[0]}' removed.\")\n",
        "        else:\n",
        "            print(\"Invalid task number.\")\n",
        "    except ValueError:\n",
        "        print(\"Please enter a valid number.\")\n",
        "\n",
        "def main():\n",
        "    todo_list = []\n",
        "    while True:\n",
        "        display_menu()\n",
        "        choice = input(\"Choose an option (1-5): \")\n",
        "\n",
        "        if choice == '1':\n",
        "            view_tasks(todo_list)\n",
        "        elif choice == '2':\n",
        "            add_task(todo_list)\n",
        "        elif choice == '3':\n",
        "            mark_task_done(todo_list)\n",
        "        elif choice == '4':\n",
        "            remove_task(todo_list)\n",
        "        elif choice == '5':\n",
        "            print(\"Exiting to-do list program. Goodbye!\")\n",
        "            break\n",
        "        else:\n",
        "            print(\"Invalid choice. Please select a number between 1 and 5.\")\n",
        "\n",
        "if __name__ == \"__main__\":\n",
        "    main()\n"
      ],
      "metadata": {
        "colab": {
          "base_uri": "https://localhost:8080/"
        },
        "id": "jOlqqC88lvia",
        "outputId": "dae6151f-24b3-43f1-8e50-70baab208fcf"
      },
      "execution_count": null,
      "outputs": [
        {
          "output_type": "stream",
          "name": "stdout",
          "text": [
            "\n",
            "--- To-Do List Menu ---\n",
            "1. View Tasks\n",
            "2. Add Task\n",
            "3. Mark Task as Done\n",
            "4. Remove Task\n",
            "5. Exit\n",
            "Choose an option (1-5): 1\n",
            "Your to-do list is empty.\n",
            "\n",
            "--- To-Do List Menu ---\n",
            "1. View Tasks\n",
            "2. Add Task\n",
            "3. Mark Task as Done\n",
            "4. Remove Task\n",
            "5. Exit\n",
            "Choose an option (1-5): 5\n",
            "Exiting to-do list program. Goodbye!\n"
          ]
        }
      ]
    },
    {
      "cell_type": "code",
      "source": [
        "def display_menu():\n",
        "    print(\"\\nTo-Do List Manager with Prioritization\")\n",
        "    print(\"1. Add a task\")\n",
        "    print(\"2. Mark task as done\")\n",
        "    print(\"3. Remove a task\")\n",
        "    print(\"4. View tasks\")\n",
        "    print(\"5. Exit\")\n",
        "\n",
        "def add_task(todo_list):\n",
        "    task_name = input(\"Enter the task name: \")\n",
        "    priority = input(\"Enter priority (High/Medium/Low): \").capitalize()\n",
        "    while priority not in [\"High\", \"Medium\", \"Low\"]:\n",
        "        print(\"Invalid priority. Please enter High, Medium, or Low.\")\n",
        "        priority = input(\"Enter priority (High/Medium/Low): \").capitalize()\n",
        "    todo_list.append([task_name, False, priority])\n",
        "    print(f\"Task '{task_name}' with priority '{priority}' added.\")\n",
        "\n",
        "def mark_task_done(todo_list):\n",
        "    view_tasks(todo_list)\n",
        "    try:\n",
        "        task_index = int(input(\"Enter the task number to mark as done: \")) - 1\n",
        "        if 0 <= task_index < len(todo_list):\n",
        "            todo_list[task_index][1] = True\n",
        "            print(f\"Task '{todo_list[task_index][0]}' marked as done.\")\n",
        "        else:\n",
        "            print(\"Invalid task number.\")\n",
        "    except ValueError:\n",
        "        print(\"Please enter a valid number.\")\n",
        "\n",
        "def remove_task(todo_list):\n",
        "    view_tasks(todo_list)\n",
        "    try:\n",
        "        task_index = int(input(\"Enter the task number to remove: \")) - 1\n",
        "        if 0 <= task_index < len(todo_list):\n",
        "            removed = todo_list.pop(task_index)\n",
        "            print(f\"Task '{removed[0]}' removed.\")\n",
        "        else:\n",
        "            print(\"Invalid task number.\")\n",
        "    except ValueError:\n",
        "        print(\"Please enter a valid number.\")\n",
        "\n",
        "def view_tasks(todo_list):\n",
        "    if not todo_list:\n",
        "        print(\"No tasks in the list.\")\n",
        "    else:\n",
        "        print(\"\\nCurrent To-Do List:\")\n",
        "        sorted_list = sorted(todo_list, key=lambda x: [\"High\", \"Medium\", \"Low\"].index(x[2]))\n",
        "        for i, task in enumerate(sorted_list):\n",
        "            status = \"Done\" if task[1] else \"Not done\"\n",
        "            print(f\"{i + 1}. {task[0]} - [{status}] - Priority: {task[2]}\")\n",
        "\n",
        "def main():\n",
        "    todo_list = []\n",
        "    while True:\n",
        "        display_menu()\n",
        "        choice = input(\"Enter your choice (1-5): \")\n",
        "        if choice == '1':\n",
        "            add_task(todo_list)\n",
        "        elif choice == '2':\n",
        "            mark_task_done(todo_list)\n",
        "        elif choice == '3':\n",
        "            remove_task(todo_list)\n",
        "        elif choice == '4':\n",
        "            view_tasks(todo_list)\n",
        "        elif choice == '5':\n",
        "            print(\"Exiting To-Do List Manager. Goodbye!\")\n",
        "            break\n",
        "        else:\n",
        "            print(\"Invalid choice. Please select from 1 to 5.\")\n",
        "\n",
        "if __name__ == \"__main__\":\n",
        "    main()\n"
      ],
      "metadata": {
        "colab": {
          "base_uri": "https://localhost:8080/"
        },
        "id": "YvVfsVWHnm3b",
        "outputId": "9703868d-9c20-49d7-8bcb-3b0ac4c47e7e"
      },
      "execution_count": null,
      "outputs": [
        {
          "output_type": "stream",
          "name": "stdout",
          "text": [
            "\n",
            "To-Do List Manager with Prioritization\n",
            "1. Add a task\n",
            "2. Mark task as done\n",
            "3. Remove a task\n",
            "4. View tasks\n",
            "5. Exit\n",
            "Enter your choice (1-5): 1\n",
            "Enter the task name: going walking \n",
            "Enter priority (High/Medium/Low): high\n",
            "Task 'going walking ' with priority 'High' added.\n",
            "\n",
            "To-Do List Manager with Prioritization\n",
            "1. Add a task\n",
            "2. Mark task as done\n",
            "3. Remove a task\n",
            "4. View tasks\n",
            "5. Exit\n",
            "Enter your choice (1-5): 4\n",
            "\n",
            "Current To-Do List:\n",
            "1. going walking  - [Not done] - Priority: High\n",
            "\n",
            "To-Do List Manager with Prioritization\n",
            "1. Add a task\n",
            "2. Mark task as done\n",
            "3. Remove a task\n",
            "4. View tasks\n",
            "5. Exit\n",
            "Enter your choice (1-5): 5\n",
            "Exiting To-Do List Manager. Goodbye!\n"
          ]
        }
      ]
    },
    {
      "cell_type": "code",
      "source": [
        "## Write a Python program to get the largest and smallest number from a list without builtin functions.\n",
        "def find_largest_and_smallest(numbers):\n",
        "    if len(numbers) == 0:\n",
        "        return None, None\n",
        "    largest = numbers[0]\n",
        "    smallest = numbers[0]\n",
        "\n",
        "    for num in numbers[1:]:\n",
        "        if num > largest:\n",
        "            largest = num\n",
        "        if num < smallest:\n",
        "            smallest = num\n",
        "\n",
        "    return largest, smallest\n",
        "\n",
        "my_list = [12, 45, 2, 33, 89, 5, -10, 100]\n",
        "largest, smallest = find_largest_and_smallest(my_list)\n",
        "\n",
        "print(\"Original list:\", my_list)\n",
        "print(\"Largest number:\", largest)\n",
        "print(\"Smallest number:\", smallest)\n",
        "\n"
      ],
      "metadata": {
        "colab": {
          "base_uri": "https://localhost:8080/"
        },
        "id": "FdEUgB5Sn1Lb",
        "outputId": "68c77a5e-c168-4796-908c-490f21e4983f"
      },
      "execution_count": null,
      "outputs": [
        {
          "output_type": "stream",
          "name": "stdout",
          "text": [
            "Original list: [12, 45, 2, 33, 89, 5, -10, 100]\n",
            "Largest number: 100\n",
            "Smallest number: -10\n"
          ]
        }
      ]
    },
    {
      "cell_type": "code",
      "source": [
        " #Write a Python program to find duplicate values from a list and display those\n",
        " def find_duplicates(numbers):\n",
        "    duplicates = []\n",
        "    seen = []\n",
        "\n",
        "    for num in numbers:\n",
        "        if num in seen:\n",
        "            if num not in duplicates:\n",
        "                duplicates.append(num)\n",
        "        else:\n",
        "            seen.append(num)\n",
        "\n",
        "    return duplicates\n",
        "    my_list = [4, 2, 7, 4, 9, 2, 5, 7, 1, 2]\n",
        "    duplicates = find_duplicates(my_list)\n",
        "    print(\"Original list:\", my_list)\n",
        "    if duplicates:\n",
        "      print(\"Duplicate values found:\", duplicates)\n",
        "    else:\n",
        "      print(\"No duplicate values found.\")"
      ],
      "metadata": {
        "id": "cBeGIn2Vo18q"
      },
      "execution_count": null,
      "outputs": []
    },
    {
      "cell_type": "markdown",
      "source": [
        "## Tuple"
      ],
      "metadata": {
        "id": "uSmEHtk8pxmj"
      }
    },
    {
      "cell_type": "code",
      "source": [
        "t =(10,20,30,40)"
      ],
      "metadata": {
        "id": "z4lZY8HApWer"
      },
      "execution_count": null,
      "outputs": []
    },
    {
      "cell_type": "code",
      "source": [
        "t"
      ],
      "metadata": {
        "colab": {
          "base_uri": "https://localhost:8080/"
        },
        "id": "MtgJVa2WqGZC",
        "outputId": "5e158956-2224-4405-dbb5-78c99032854a"
      },
      "execution_count": null,
      "outputs": [
        {
          "output_type": "execute_result",
          "data": {
            "text/plain": [
              "(10, 20, 30, 40)"
            ]
          },
          "metadata": {},
          "execution_count": 67
        }
      ]
    },
    {
      "cell_type": "code",
      "source": [
        "my_tuple = (1, 2, 3)\n"
      ],
      "metadata": {
        "id": "psAqcyX7qG2p"
      },
      "execution_count": null,
      "outputs": []
    },
    {
      "cell_type": "code",
      "source": [
        "my_list = [4, 5, 6]\n",
        "tuple_from_list = tuple(my_list)\n",
        "my_string = \"abc\"\n",
        "tuple_from_string = tuple(my_string)"
      ],
      "metadata": {
        "id": "GqGQMD9fqvKM"
      },
      "execution_count": null,
      "outputs": []
    },
    {
      "cell_type": "code",
      "source": [
        "single_element_tuple = (42,)"
      ],
      "metadata": {
        "id": "UOvQ2Nvhq1cj"
      },
      "execution_count": null,
      "outputs": []
    },
    {
      "cell_type": "code",
      "source": [
        "empty_tuple=()"
      ],
      "metadata": {
        "id": "m0ay6w_5q9Ok"
      },
      "execution_count": null,
      "outputs": []
    },
    {
      "cell_type": "code",
      "source": [
        "tuple1 = (1, 2, 3)\n",
        "# Using the tuple() constructor\n",
        "list1 = [4, 5, 6]\n",
        "tuple2 = tuple(list1)\n",
        "string1 = \"abc\"\n",
        "tuple3 = tuple(string1)\n",
        "# Creating a singleton tuple\n",
        "singleton_tuple = (42,)\n",
        "# Creating an empty tuple\n",
        "empty_tuple = ()\n",
        "print(tuple1)\n",
        "print(tuple2)\n",
        "print(tuple3)\n",
        "print(singleton_tuple)\n",
        "print(empty_tuple)"
      ],
      "metadata": {
        "colab": {
          "base_uri": "https://localhost:8080/"
        },
        "id": "HltWK4q6rDyb",
        "outputId": "d3699c60-a981-47a8-e7d2-0d216e119f09"
      },
      "execution_count": null,
      "outputs": [
        {
          "output_type": "stream",
          "name": "stdout",
          "text": [
            "(1, 2, 3)\n",
            "(4, 5, 6)\n",
            "('a', 'b', 'c')\n",
            "(42,)\n",
            "()\n"
          ]
        }
      ]
    },
    {
      "cell_type": "code",
      "source": [
        "tuple1 = (1, 2, 3)\n",
        "tuple2 = (4, 5, 6)\n",
        "result_tuple = tuple1 + tuple2 # (1, 2, 3, 4, 5, 6)\n",
        "print (result_tuple)"
      ],
      "metadata": {
        "colab": {
          "base_uri": "https://localhost:8080/"
        },
        "id": "UBRNfWfQwszg",
        "outputId": "4f1889c4-0589-4b38-b25a-8b97f9331e64"
      },
      "execution_count": null,
      "outputs": [
        {
          "output_type": "stream",
          "name": "stdout",
          "text": [
            "(1, 2, 3, 4, 5, 6)\n"
          ]
        }
      ]
    },
    {
      "cell_type": "code",
      "source": [
        "my_tuple = (10, 20, 30, 40, 50)\n",
        "# Accessing individual elements\n",
        "first_element = my_tuple[0] # Retrieves the first element (10)\n",
        "second_element = my_tuple[1]"
      ],
      "metadata": {
        "id": "82AJv9U0rNjE"
      },
      "execution_count": null,
      "outputs": []
    },
    {
      "cell_type": "code",
      "source": [
        "print(my_tuple)"
      ],
      "metadata": {
        "colab": {
          "base_uri": "https://localhost:8080/"
        },
        "id": "ZPfobZDIrkxl",
        "outputId": "58835ac9-d382-4432-fc48-313206714207"
      },
      "execution_count": null,
      "outputs": [
        {
          "output_type": "stream",
          "name": "stdout",
          "text": [
            "(10, 20, 30, 40, 50)\n"
          ]
        }
      ]
    },
    {
      "cell_type": "code",
      "source": [
        "last_element = my_tuple[-1]\n",
        "second_last_element = my_tuple[-2]"
      ],
      "metadata": {
        "id": "8x_dBSuvrpfb"
      },
      "execution_count": null,
      "outputs": []
    },
    {
      "cell_type": "code",
      "source": [
        "my_tuple = (10, 20, 30, 40, 50)\n",
        "# Slicing to get a subset of elements\n",
        "subset = my_tuple[1:4]"
      ],
      "metadata": {
        "id": "87q84-2KruNc"
      },
      "execution_count": null,
      "outputs": []
    },
    {
      "cell_type": "code",
      "source": [
        "my_tuple = (10, 5, 30, 15)\n",
        "minimum = min(my_tuple) # 5\n"
      ],
      "metadata": {
        "id": "LDzKKtBNrwmT"
      },
      "execution_count": null,
      "outputs": []
    },
    {
      "cell_type": "code",
      "source": [
        "my_tuple"
      ],
      "metadata": {
        "colab": {
          "base_uri": "https://localhost:8080/"
        },
        "id": "yRFZ3HdQr1tD",
        "outputId": "2ae04606-ec2d-4cb9-b2e0-bd0c8b524114"
      },
      "execution_count": null,
      "outputs": [
        {
          "output_type": "execute_result",
          "data": {
            "text/plain": [
              "(10, 5, 30, 15)"
            ]
          },
          "metadata": {},
          "execution_count": 80
        }
      ]
    },
    {
      "cell_type": "code",
      "source": [
        "maximum = max(my_tuple)"
      ],
      "metadata": {
        "id": "850eEME1r4bb"
      },
      "execution_count": null,
      "outputs": []
    },
    {
      "cell_type": "code",
      "source": [
        "my_tuple"
      ],
      "metadata": {
        "colab": {
          "base_uri": "https://localhost:8080/"
        },
        "id": "wAdm7DcwsCOL",
        "outputId": "0d33468e-127a-4c2f-8d6b-0f14a6556c79"
      },
      "execution_count": null,
      "outputs": [
        {
          "output_type": "execute_result",
          "data": {
            "text/plain": [
              "(10, 5, 30, 15)"
            ]
          },
          "metadata": {},
          "execution_count": 82
        }
      ]
    },
    {
      "cell_type": "code",
      "source": [
        "my_tuple = (10, 20, 30, 20, 40)\n",
        "index = my_tuple.index(20)"
      ],
      "metadata": {
        "id": "SnfKazVfsD46"
      },
      "execution_count": null,
      "outputs": []
    },
    {
      "cell_type": "code",
      "source": [
        "print(my_tuple)"
      ],
      "metadata": {
        "colab": {
          "base_uri": "https://localhost:8080/"
        },
        "id": "atT4JNKGsIAN",
        "outputId": "8f7f9d11-ebc3-48b1-efed-440060ec10a2"
      },
      "execution_count": null,
      "outputs": [
        {
          "output_type": "stream",
          "name": "stdout",
          "text": [
            "(10, 20, 30, 20, 40)\n"
          ]
        }
      ]
    },
    {
      "cell_type": "code",
      "source": [
        "#Hi! Can you create a program using tuple that manages student records, including student names, exam scores, and final grades.\n",
        "def calculate_grade(score):\n",
        "    if score >= 90:\n",
        "        return \"A\"\n",
        "    elif score >= 80:\n",
        "        return \"B\"\n",
        "    elif score >= 70:\n",
        "        return \"C\"\n",
        "    elif score >= 60:\n",
        "        return \"D\"\n",
        "    else:\n",
        "        return \"F\"\n",
        "\n",
        "def add_student(records):\n",
        "    name = input(\"Enter student name: \")\n",
        "    try:\n",
        "        score = float(input(\"Enter exam score (0-100): \"))\n",
        "        if 0 <= score <= 100:\n",
        "            grade = calculate_grade(score)\n",
        "            student = (name, score, grade)\n",
        "            records.append(student)\n",
        "            print(f\"Record added: {student}\")\n",
        "        else:\n",
        "            print(\"Score must be between 0 and 100.\")\n",
        "    except ValueError:\n",
        "        print(\"Invalid score. Please enter a number.\")\n",
        "\n",
        "def view_students(records):\n",
        "    if not records:\n",
        "        print(\"No student records found.\")\n",
        "    else:\n",
        "        print(\"\\nStudent Records:\")\n",
        "        for i, student in enumerate(records, start=1):\n",
        "            print(f\"{i}. Name: {student[0]}, Score: {student[1]}, Grade: {student[2]}\")\n",
        "\n",
        "def main():\n",
        "    student_records = []\n",
        "\n",
        "    while True:\n",
        "        print(\"\\nStudent Record Manager\")\n",
        "        print(\"1. Add student\")\n",
        "        print(\"2. View students\")\n",
        "        print(\"3. Exit\")\n",
        "\n",
        "        choice = input(\"Enter your choice (1-3): \")\n",
        "\n",
        "        if choice == '1':\n",
        "            add_student(student_records)\n",
        "        elif choice == '2':\n",
        "            view_students(student_records)\n",
        "        elif choice == '3':\n",
        "            print(\"Exiting the program. Goodbye!\")\n",
        "            break\n",
        "        else:\n",
        "            print(\"Invalid choice. Please select 1, 2, or 3.\")\n",
        "\n",
        "if __name__ == \"__main__\":\n",
        "    main()\n"
      ],
      "metadata": {
        "colab": {
          "base_uri": "https://localhost:8080/"
        },
        "id": "FrCjBR8jsJzz",
        "outputId": "748d6886-2aa3-43ec-dffa-01e7609d842f"
      },
      "execution_count": null,
      "outputs": [
        {
          "output_type": "stream",
          "name": "stdout",
          "text": [
            "\n",
            "Student Record Manager\n",
            "1. Add student\n",
            "2. View students\n",
            "3. Exit\n",
            "Enter your choice (1-3): 1\n",
            "Enter student name: Yukta Gupta\n",
            "Enter exam score (0-100): 99\n",
            "Record added: ('Yukta Gupta', 99.0, 'A')\n",
            "\n",
            "Student Record Manager\n",
            "1. Add student\n",
            "2. View students\n",
            "3. Exit\n",
            "Enter your choice (1-3): 2\n",
            "\n",
            "Student Records:\n",
            "1. Name: Yukta Gupta, Score: 99.0, Grade: A\n",
            "\n",
            "Student Record Manager\n",
            "1. Add student\n",
            "2. View students\n",
            "3. Exit\n",
            "Enter your choice (1-3): 3\n",
            "Exiting the program. Goodbye!\n"
          ]
        }
      ]
    },
    {
      "cell_type": "markdown",
      "source": [
        "### SET"
      ],
      "metadata": {
        "id": "GGZKSE8OxsOB"
      }
    },
    {
      "cell_type": "code",
      "source": [
        "a={10,20,30,20}"
      ],
      "metadata": {
        "id": "ExMMgTPVsoyz"
      },
      "execution_count": null,
      "outputs": []
    },
    {
      "cell_type": "code",
      "source": [
        "a"
      ],
      "metadata": {
        "colab": {
          "base_uri": "https://localhost:8080/"
        },
        "id": "GUusSQzlx5V7",
        "outputId": "90a8a999-c837-4d56-b673-2c732a41d268"
      },
      "execution_count": null,
      "outputs": [
        {
          "output_type": "execute_result",
          "data": {
            "text/plain": [
              "{10, 20, 30}"
            ]
          },
          "metadata": {},
          "execution_count": 89
        }
      ]
    },
    {
      "cell_type": "code",
      "source": [
        "tuple1 = (10, 20, 30, 40, 50)\n",
        "tuple1 = tuple1[::-1]\n",
        "print(tuple1)"
      ],
      "metadata": {
        "colab": {
          "base_uri": "https://localhost:8080/"
        },
        "id": "rMT8nQUFx5zT",
        "outputId": "e12953ae-ae09-4366-9115-f5c21fccfe54"
      },
      "execution_count": null,
      "outputs": [
        {
          "output_type": "stream",
          "name": "stdout",
          "text": [
            "(50, 40, 30, 20, 10)\n"
          ]
        }
      ]
    },
    {
      "cell_type": "code",
      "source": [
        "my_list = [1, 2, 2, 3, 4]\n",
        "my_set = set(my_list)"
      ],
      "metadata": {
        "id": "aP2Y-BkOzNsr"
      },
      "execution_count": null,
      "outputs": []
    },
    {
      "cell_type": "code",
      "source": [
        "my_list"
      ],
      "metadata": {
        "colab": {
          "base_uri": "https://localhost:8080/"
        },
        "id": "vUegygCtzRyM",
        "outputId": "2b5bf04b-2e1d-48aa-c13e-165b032f9d56"
      },
      "execution_count": null,
      "outputs": [
        {
          "output_type": "execute_result",
          "data": {
            "text/plain": [
              "[1, 2, 2, 3, 4]"
            ]
          },
          "metadata": {},
          "execution_count": 92
        }
      ]
    },
    {
      "cell_type": "code",
      "source": [
        "my_set = {1, 2, 3}\n",
        "my_set.add(4)"
      ],
      "metadata": {
        "id": "fW29mAxCzUkD"
      },
      "execution_count": null,
      "outputs": []
    },
    {
      "cell_type": "code",
      "source": [
        "my_set"
      ],
      "metadata": {
        "colab": {
          "base_uri": "https://localhost:8080/"
        },
        "id": "D62N2UjHzYRL",
        "outputId": "98f2f704-d19f-4c29-b4c3-fbf092adfc95"
      },
      "execution_count": null,
      "outputs": [
        {
          "output_type": "execute_result",
          "data": {
            "text/plain": [
              "{1, 2, 3, 4}"
            ]
          },
          "metadata": {},
          "execution_count": 94
        }
      ]
    },
    {
      "cell_type": "code",
      "source": [
        "my_set = {1, 2, 3}\n",
        "my_set.remove(2) # Removes 2 from the set\n",
        "my_set.discard(4)"
      ],
      "metadata": {
        "id": "9xalbz1MzaO7"
      },
      "execution_count": null,
      "outputs": []
    },
    {
      "cell_type": "code",
      "source": [
        "my_set"
      ],
      "metadata": {
        "colab": {
          "base_uri": "https://localhost:8080/"
        },
        "id": "x1yyMjXWzekr",
        "outputId": "bad27feb-75ef-4271-ee82-655572b75543"
      },
      "execution_count": null,
      "outputs": [
        {
          "output_type": "execute_result",
          "data": {
            "text/plain": [
              "{1, 3}"
            ]
          },
          "metadata": {},
          "execution_count": 96
        }
      ]
    },
    {
      "cell_type": "code",
      "source": [
        "my_set = {1, 2, 3}\n",
        "my_set.clear()"
      ],
      "metadata": {
        "id": "RNfZjdm4zfib"
      },
      "execution_count": null,
      "outputs": []
    },
    {
      "cell_type": "code",
      "source": [
        "set1 = {1, 2, 3}\n",
        "set2 = {3, 4, 5}\n",
        "intersection_result = set1.intersection(set2)"
      ],
      "metadata": {
        "id": "4Jmvmi92ziBL"
      },
      "execution_count": null,
      "outputs": []
    },
    {
      "cell_type": "code",
      "source": [
        "set1 = {1, 2, 3}\n",
        "set2 = {3, 4, 5}\n",
        "difference_result = set1.difference(set2)"
      ],
      "metadata": {
        "id": "fR0spxGL0rF0"
      },
      "execution_count": null,
      "outputs": []
    },
    {
      "cell_type": "code",
      "source": [
        "set2"
      ],
      "metadata": {
        "colab": {
          "base_uri": "https://localhost:8080/"
        },
        "id": "kgtKJIBO0vx1",
        "outputId": "34b39c50-4c7a-4cc6-a462-b38e8748069b"
      },
      "execution_count": null,
      "outputs": [
        {
          "output_type": "execute_result",
          "data": {
            "text/plain": [
              "{3, 4, 5}"
            ]
          },
          "metadata": {},
          "execution_count": 100
        }
      ]
    },
    {
      "cell_type": "code",
      "source": [
        "#1.Hi! Can you create a program Finding mutual friends between two sets of friends?\n",
        "# Program to find mutual friends between two sets\n",
        "\n",
        "# Program to find mutual friends between two sets\n",
        "\n",
        "def find_mutual_friends(friends_a, friends_b):\n",
        "    # Convert lists to sets\n",
        "    set_a = set(friends_a)\n",
        "    set_b = set(friends_b)\n",
        "\n",
        "    # Find intersection\n",
        "    mutual_friends = set_a.intersection(set_b)\n",
        "\n",
        "    return list(mutual_friends)\n",
        "\n",
        "# Example usage\n",
        "friends_of_alice = [\"Bob\", \"Charlie\", \"David\", \"Eva\"]\n",
        "friends_of_john = [\"Charlie\", \"Eva\", \"Frank\", \"Grace\"]\n",
        "\n",
        "mutual = find_mutual_friends(friends_of_alice, friends_of_john)\n",
        "print(\"Mutual friends:\", mutual)\n"
      ],
      "metadata": {
        "colab": {
          "base_uri": "https://localhost:8080/",
          "height": 315
        },
        "id": "5rTeAxOx0yA0",
        "outputId": "b15e1897-6d05-4df8-8e8e-7496ed3c4104"
      },
      "execution_count": null,
      "outputs": [
        {
          "output_type": "error",
          "ename": "TypeError",
          "evalue": "'list' object is not callable",
          "traceback": [
            "\u001b[0;31m---------------------------------------------------------------------------\u001b[0m",
            "\u001b[0;31mTypeError\u001b[0m                                 Traceback (most recent call last)",
            "\u001b[0;32m<ipython-input-104-714b2b7bdfc8>\u001b[0m in \u001b[0;36m<cell line: 0>\u001b[0;34m()\u001b[0m\n\u001b[1;32m     18\u001b[0m \u001b[0mfriends_of_john\u001b[0m \u001b[0;34m=\u001b[0m \u001b[0;34m[\u001b[0m\u001b[0;34m\"Charlie\"\u001b[0m\u001b[0;34m,\u001b[0m \u001b[0;34m\"Eva\"\u001b[0m\u001b[0;34m,\u001b[0m \u001b[0;34m\"Frank\"\u001b[0m\u001b[0;34m,\u001b[0m \u001b[0;34m\"Grace\"\u001b[0m\u001b[0;34m]\u001b[0m\u001b[0;34m\u001b[0m\u001b[0;34m\u001b[0m\u001b[0m\n\u001b[1;32m     19\u001b[0m \u001b[0;34m\u001b[0m\u001b[0m\n\u001b[0;32m---> 20\u001b[0;31m \u001b[0mmutual\u001b[0m \u001b[0;34m=\u001b[0m \u001b[0mfind_mutual_friends\u001b[0m\u001b[0;34m(\u001b[0m\u001b[0mfriends_of_alice\u001b[0m\u001b[0;34m,\u001b[0m \u001b[0mfriends_of_john\u001b[0m\u001b[0;34m)\u001b[0m\u001b[0;34m\u001b[0m\u001b[0;34m\u001b[0m\u001b[0m\n\u001b[0m\u001b[1;32m     21\u001b[0m \u001b[0mprint\u001b[0m\u001b[0;34m(\u001b[0m\u001b[0;34m\"Mutual friends:\"\u001b[0m\u001b[0;34m,\u001b[0m \u001b[0mmutual\u001b[0m\u001b[0;34m)\u001b[0m\u001b[0;34m\u001b[0m\u001b[0;34m\u001b[0m\u001b[0m\n",
            "\u001b[0;32m<ipython-input-104-714b2b7bdfc8>\u001b[0m in \u001b[0;36mfind_mutual_friends\u001b[0;34m(friends_a, friends_b)\u001b[0m\n\u001b[1;32m     12\u001b[0m     \u001b[0mmutual_friends\u001b[0m \u001b[0;34m=\u001b[0m \u001b[0mset_a\u001b[0m\u001b[0;34m.\u001b[0m\u001b[0mintersection\u001b[0m\u001b[0;34m(\u001b[0m\u001b[0mset_b\u001b[0m\u001b[0;34m)\u001b[0m\u001b[0;34m\u001b[0m\u001b[0;34m\u001b[0m\u001b[0m\n\u001b[1;32m     13\u001b[0m \u001b[0;34m\u001b[0m\u001b[0m\n\u001b[0;32m---> 14\u001b[0;31m     \u001b[0;32mreturn\u001b[0m \u001b[0mlist\u001b[0m\u001b[0;34m(\u001b[0m\u001b[0mmutual_friends\u001b[0m\u001b[0;34m)\u001b[0m\u001b[0;34m\u001b[0m\u001b[0;34m\u001b[0m\u001b[0m\n\u001b[0m\u001b[1;32m     15\u001b[0m \u001b[0;34m\u001b[0m\u001b[0m\n\u001b[1;32m     16\u001b[0m \u001b[0;31m# Example usage\u001b[0m\u001b[0;34m\u001b[0m\u001b[0;34m\u001b[0m\u001b[0m\n",
            "\u001b[0;31mTypeError\u001b[0m: 'list' object is not callable"
          ]
        }
      ]
    },
    {
      "cell_type": "code",
      "source": [
        "my_set={1, 2, 3, 3, 4}# Duplicate elements are automatically removed\n",
        "print(\"Before Adding Any Elements\")\n",
        "print(my_set)\n",
        "# Adding elements to a set\n",
        "my_set.add(5) # Adding a new element\n",
        "print(my_set) # Output: {1, 2, 3, 4, 5}\n",
        "print(\"After Adding Elements\")\n",
        "print(my_set)\n",
        "print(\"Before Removing Elements\")\n",
        "print(my_set)\n",
        "# Removing elements from a set\n",
        "my_set.remove(3) # Removing an element\n",
        "print(my_set) # Output: {1, 2, 4, 5}\n",
        "print(\"After Removing Elements\")\n",
        "print(my_set)\n",
        "# Set operations\n",
        "set1 = {1, 2, 3}\n",
        "set2 = {3, 4, 5}\n",
        "union_result = set1.union(set2) # Union display all values by merging both set\n",
        "print(\"After Union\")\n",
        "print(\"Set 1=\",set1)\n",
        "print(\"Set 2=\",set2)\n",
        "print(\"Display All unique values From both set\", union_result) # Output: {1, 2, 3, 4, 5}\n",
        "intersection_result = set1.intersection(set2) # Intersection display common values\n",
        "print(\"After Intersection\")\n",
        "print(\"Set 1=\",set1)\n",
        "print(\"Set 2=\",set2)\n",
        "print(\"Display only common values From both set\",intersection_result) # Output: {3}\n",
        "difference_result = set1.difference(set2) # Difference display elements from the first\n",
        "set that are not present in the second set\n",
        "print(\"After Difference\")\n",
        "my_set={1, 2, 3, 3, 4}# Duplicate elements are automatically removed\n",
        "print(\"Before Adding Any Elements\")\n",
        "print(my_set)\n",
        "# Adding elements to a set\n",
        "my_set.add(5) # Adding a new element\n",
        "print(my_set) # Output: {1, 2, 3, 4, 5}\n",
        "print(\"After Adding Elements\")\n",
        "print(my_set)\n",
        "print(\"Before Removing Elements\")\n",
        "print(my_set)\n",
        "# Removing elements from a set\n",
        "my_set.remove(3) # Removing an element\n",
        "print(my_set) # Output: {1, 2, 4, 5}\n",
        "print(\"After Removing Elements\")\n",
        "print(my_set)\n",
        "# Set operations\n",
        "set1 = {1, 2, 3}\n",
        "set2 = {3, 4, 5}\n",
        "union_result = set1.union(set2) # Union display all values by merging both set\n",
        "print(\"After Union\")\n",
        "print(\"Set 1=\",set1)\n",
        "print(\"Set 2=\",set2)\n",
        "print(\"Display All unique values From both set\", union_result) # Output: {1, 2, 3, 4, 5}\n",
        "intersection_result = set1.intersection(set2) # Intersection display common values\n",
        "print(\"After Intersection\")\n",
        "print(\"Set 1=\",set1)\n",
        "print(\"Set 2=\",set2)\n",
        "print(\"Display only common values From both set\",intersection_result) # Output: {3}\n",
        "difference_result = set1.difference(set2) # Difference display elements from the first\n",
        "print(\"After Difference\")\n",
        "print(\"Set 1=\",set1)\n",
        "print(\"Set 2=\",set2)\n",
        "print(\"elements from the first set that are not present in the second set\",difference_result)"
      ],
      "metadata": {
        "colab": {
          "base_uri": "https://localhost:8080/",
          "height": 106
        },
        "id": "G8JBJ9e53IKD",
        "outputId": "de67769e-c52b-4302-b110-2dba54bddd64"
      },
      "execution_count": null,
      "outputs": [
        {
          "output_type": "error",
          "ename": "SyntaxError",
          "evalue": "invalid syntax (<ipython-input-106-469abca55df1>, line 30)",
          "traceback": [
            "\u001b[0;36m  File \u001b[0;32m\"<ipython-input-106-469abca55df1>\"\u001b[0;36m, line \u001b[0;32m30\u001b[0m\n\u001b[0;31m    set that are not present in the second set\u001b[0m\n\u001b[0m        ^\u001b[0m\n\u001b[0;31mSyntaxError\u001b[0m\u001b[0;31m:\u001b[0m invalid syntax\n"
          ]
        }
      ]
    },
    {
      "cell_type": "code",
      "source": [
        "###1. Write a Python program to Get Only unique items from two sets.\n",
        "Input:\n",
        "set1 = {10, 20, 30, 40, 50}\n",
        "set2 = {30, 40, 50, 60, 70}\n",
        "Output:\n",
        "{70, 40, 10, 50, 20, 60, 30}\n",
        "2. Write a Python program to Return a set of elements present in Set A or B, but\n",
        "not both.\n",
        "Input:\n",
        "set1 = {10, 20, 30, 40, 50}\n",
        "set2 = {30, 40, 50, 60, 70}\n",
        "Output:\n",
        "{20, 70, 10, 60}"
      ],
      "metadata": {
        "id": "rgKCbwLz3zQ9",
        "colab": {
          "base_uri": "https://localhost:8080/",
          "height": 106
        },
        "outputId": "df6bf183-21f3-4012-9ac9-18a13b89cb1d"
      },
      "execution_count": null,
      "outputs": [
        {
          "output_type": "error",
          "ename": "SyntaxError",
          "evalue": "invalid syntax (<ipython-input-1-ad101421bd5e>, line 2)",
          "traceback": [
            "\u001b[0;36m  File \u001b[0;32m\"<ipython-input-1-ad101421bd5e>\"\u001b[0;36m, line \u001b[0;32m2\u001b[0m\n\u001b[0;31m    Input:\u001b[0m\n\u001b[0m          ^\u001b[0m\n\u001b[0;31mSyntaxError\u001b[0m\u001b[0;31m:\u001b[0m invalid syntax\n"
          ]
        }
      ]
    },
    {
      "cell_type": "markdown",
      "source": [
        "# Dictionary\n"
      ],
      "metadata": {
        "id": "bOAn8y-ClKJb"
      }
    },
    {
      "cell_type": "code",
      "source": [
        "d ={\"name\":\"yukta\",\"age\":\"20\",\"class\":12}"
      ],
      "metadata": {
        "id": "Pmx1qrhGlI2L"
      },
      "execution_count": null,
      "outputs": []
    },
    {
      "cell_type": "code",
      "source": [
        "d"
      ],
      "metadata": {
        "colab": {
          "base_uri": "https://localhost:8080/"
        },
        "id": "WjE92cM8lgVh",
        "outputId": "996977d8-2acd-4210-b7b3-365dc25b5cb2"
      },
      "execution_count": null,
      "outputs": [
        {
          "output_type": "execute_result",
          "data": {
            "text/plain": [
              "{'name': 'yukta', 'age': '20', 'class': 12}"
            ]
          },
          "metadata": {},
          "execution_count": 3
        }
      ]
    },
    {
      "cell_type": "code",
      "source": [
        "d.values()"
      ],
      "metadata": {
        "colab": {
          "base_uri": "https://localhost:8080/"
        },
        "id": "SJcDPoJ2lgzi",
        "outputId": "373cc9be-ce15-487a-b7e4-d54af75ec9a0"
      },
      "execution_count": null,
      "outputs": [
        {
          "output_type": "execute_result",
          "data": {
            "text/plain": [
              "dict_values(['yukta', '20', 12])"
            ]
          },
          "metadata": {},
          "execution_count": 4
        }
      ]
    },
    {
      "cell_type": "code",
      "source": [
        "d.keys()###got error because of \"key\" and its \"Keys\""
      ],
      "metadata": {
        "colab": {
          "base_uri": "https://localhost:8080/"
        },
        "id": "Lk4UKkUpljYN",
        "outputId": "ebc93116-b458-4bda-ff2c-758e09951f52"
      },
      "execution_count": null,
      "outputs": [
        {
          "output_type": "execute_result",
          "data": {
            "text/plain": [
              "dict_keys(['name', 'age', 'class'])"
            ]
          },
          "metadata": {},
          "execution_count": 6
        }
      ]
    },
    {
      "cell_type": "code",
      "source": [
        "d.get(\"Name\")##\"  \""
      ],
      "metadata": {
        "id": "J4eCl2JQoQTH"
      },
      "execution_count": null,
      "outputs": []
    },
    {
      "cell_type": "code",
      "source": [
        "d1 ={\"name\":\"vivek\",\"age\":\"20\",\"class\":12}"
      ],
      "metadata": {
        "id": "CjH_CW-Fog8f"
      },
      "execution_count": null,
      "outputs": []
    },
    {
      "cell_type": "code",
      "source": [
        "d1.clear()## \"clean\" worng \" clear\"right"
      ],
      "metadata": {
        "id": "RhSvNIuGowt_"
      },
      "execution_count": null,
      "outputs": []
    },
    {
      "cell_type": "code",
      "source": [
        "d1"
      ],
      "metadata": {
        "colab": {
          "base_uri": "https://localhost:8080/"
        },
        "id": "HNSQr9TZoyQW",
        "outputId": "de9e6a24-aecd-4ba7-9af0-b30480d5429c"
      },
      "execution_count": null,
      "outputs": [
        {
          "output_type": "execute_result",
          "data": {
            "text/plain": [
              "{}"
            ]
          },
          "metadata": {},
          "execution_count": 14
        }
      ]
    },
    {
      "cell_type": "code",
      "source": [
        "d.items()"
      ],
      "metadata": {
        "colab": {
          "base_uri": "https://localhost:8080/"
        },
        "id": "c9Cxu3z4o7TF",
        "outputId": "f4cf2231-573e-4210-e77c-11353594758c"
      },
      "execution_count": null,
      "outputs": [
        {
          "output_type": "execute_result",
          "data": {
            "text/plain": [
              "dict_items([('name', 'yukta'), ('age', '20'), ('class', 12)])"
            ]
          },
          "metadata": {},
          "execution_count": 15
        }
      ]
    },
    {
      "cell_type": "code",
      "source": [
        "d1.items()"
      ],
      "metadata": {
        "colab": {
          "base_uri": "https://localhost:8080/"
        },
        "id": "Uq6K7AT-o92d",
        "outputId": "59ff384b-86cc-442a-8312-6e17c84cbafb"
      },
      "execution_count": null,
      "outputs": [
        {
          "output_type": "execute_result",
          "data": {
            "text/plain": [
              "dict_items([])"
            ]
          },
          "metadata": {},
          "execution_count": 16
        }
      ]
    },
    {
      "cell_type": "code",
      "source": [
        "my_dict = {\"name\": \"Alice\", \"age\": 25}\n",
        "items = my_dict.items() # Returns a view object with [(\"name\", \"Alice\"), (\"age\", 25)]"
      ],
      "metadata": {
        "id": "jaTnjIG9pBLt"
      },
      "execution_count": null,
      "outputs": []
    },
    {
      "cell_type": "code",
      "source": [
        "my_dict"
      ],
      "metadata": {
        "colab": {
          "base_uri": "https://localhost:8080/"
        },
        "id": "CRf03BBerL_v",
        "outputId": "c67d715e-2a28-46bd-d2e4-9fa7f584ec68"
      },
      "execution_count": null,
      "outputs": [
        {
          "output_type": "execute_result",
          "data": {
            "text/plain": [
              "{'name': 'Alice', 'age': 25}"
            ]
          },
          "metadata": {},
          "execution_count": 18
        }
      ]
    },
    {
      "cell_type": "code",
      "source": [
        "my_dict = {\"name\": \"Alice\", \"age\": 25}\n",
        "value = my_dict.pop(\"name\") # Removes the \"name\" key and returns \"Alice\"\n",
        "value = my_dict.pop(\"address\", \"Unknown\") # Returns \"Unknown\" because \"address\"key doesn't exist"
      ],
      "metadata": {
        "id": "CgRXIHlRrOnk"
      },
      "execution_count": null,
      "outputs": []
    },
    {
      "cell_type": "code",
      "source": [
        "my_dict"
      ],
      "metadata": {
        "colab": {
          "base_uri": "https://localhost:8080/"
        },
        "id": "oFghh5_Mr1GX",
        "outputId": "9d66241e-1598-4671-d7ed-127691fc7685"
      },
      "execution_count": null,
      "outputs": [
        {
          "output_type": "execute_result",
          "data": {
            "text/plain": [
              "{'age': 25}"
            ]
          },
          "metadata": {},
          "execution_count": 20
        }
      ]
    },
    {
      "cell_type": "code",
      "source": [
        "my_dict = {\"name\": \"Alice\", \"age\": 25}\n",
        "my_dict.update({\"address\": \"123 Main St\"})"
      ],
      "metadata": {
        "id": "NoJBpsptr32F"
      },
      "execution_count": null,
      "outputs": []
    },
    {
      "cell_type": "code",
      "source": [
        "my_dict"
      ],
      "metadata": {
        "colab": {
          "base_uri": "https://localhost:8080/"
        },
        "id": "ckoyMvuasSY-",
        "outputId": "e853585f-a65f-4e5d-ef0b-8d670d7379be"
      },
      "execution_count": null,
      "outputs": [
        {
          "output_type": "execute_result",
          "data": {
            "text/plain": [
              "{'name': 'Alice', 'age': 25, 'address': '123 Main St'}"
            ]
          },
          "metadata": {},
          "execution_count": 22
        }
      ]
    },
    {
      "cell_type": "code",
      "source": [],
      "metadata": {
        "id": "wqeDvT3fvD8X"
      },
      "execution_count": null,
      "outputs": []
    },
    {
      "cell_type": "markdown",
      "source": [
        "OOPS"
      ],
      "metadata": {
        "id": "Phavp9ft06wE"
      }
    },
    {
      "cell_type": "code",
      "source": [
        "class Number :\n",
        "  x=10\n",
        "obj =Number()\n",
        "print(obj.x)"
      ],
      "metadata": {
        "id": "gpEE-GJt1DYl",
        "colab": {
          "base_uri": "https://localhost:8080/"
        },
        "outputId": "bcda58e3-585b-4b66-9da7-fa586859ca9f"
      },
      "execution_count": null,
      "outputs": [
        {
          "output_type": "stream",
          "name": "stdout",
          "text": [
            "10\n"
          ]
        }
      ]
    },
    {
      "cell_type": "code",
      "source": [
        "class Animal:\n",
        "  def __int__(self,type):\n",
        "    self.t =type\n",
        "  def habitat(Self):\n",
        "    print(self.t,\"Lives in forest\")\n",
        "  def category(self):\n",
        "    print(\"i am\",self.t)\n",
        "  def legs(self):\n",
        "    print(self.t,\"Have 4 legs\")\n",
        "  def tail(self):\n",
        "    print(self.t,\"have1 tail\")"
      ],
      "metadata": {
        "id": "_bAT2Mnf25CG"
      },
      "execution_count": null,
      "outputs": []
    },
    {
      "cell_type": "code",
      "source": [
        "obj = Animal(\"Elephant\")\n",
        "obj.legs()"
      ],
      "metadata": {
        "colab": {
          "base_uri": "https://localhost:8080/",
          "height": 158
        },
        "id": "ujqaTFB45lUP",
        "outputId": "4a9e24c5-5e5c-4b80-f915-b39630ae4ca2"
      },
      "execution_count": null,
      "outputs": [
        {
          "output_type": "error",
          "ename": "TypeError",
          "evalue": "Animal() takes no arguments",
          "traceback": [
            "\u001b[0;31m---------------------------------------------------------------------------\u001b[0m",
            "\u001b[0;31mTypeError\u001b[0m                                 Traceback (most recent call last)",
            "\u001b[0;32m<ipython-input-31-1beb5eeddbb4>\u001b[0m in \u001b[0;36m<cell line: 0>\u001b[0;34m()\u001b[0m\n\u001b[0;32m----> 1\u001b[0;31m \u001b[0mobj\u001b[0m \u001b[0;34m=\u001b[0m \u001b[0mAnimal\u001b[0m\u001b[0;34m(\u001b[0m\u001b[0;34m\"Elephant\"\u001b[0m\u001b[0;34m)\u001b[0m\u001b[0;34m\u001b[0m\u001b[0;34m\u001b[0m\u001b[0m\n\u001b[0m\u001b[1;32m      2\u001b[0m \u001b[0mobj\u001b[0m\u001b[0;34m.\u001b[0m\u001b[0mlegs\u001b[0m\u001b[0;34m(\u001b[0m\u001b[0;34m)\u001b[0m\u001b[0;34m\u001b[0m\u001b[0;34m\u001b[0m\u001b[0m\n",
            "\u001b[0;31mTypeError\u001b[0m: Animal() takes no arguments"
          ]
        }
      ]
    },
    {
      "cell_type": "code",
      "source": [
        "class Animal:\n",
        "  def __init__(self, type): # Corrected method name to __init__\n",
        "    self.t = type\n",
        "  def habitat(self): # Changed Self to self\n",
        "    print(self.t,\"Lives in forest\")\n",
        "  def category(self): # Changed Self to self\n",
        "    print(\"i am\",self.t)\n",
        "  def legs(self): # Changed Self to self\n",
        "    print(self.t,\"Have 4 legs\")\n",
        "  def tail(self): # Changed Self to self\n",
        "    print(self.t,\"have1 tail\")\n",
        "\n",
        "# Now you can create an instance with an argument\n",
        "obj = Animal(\"Elephant\")\n",
        "obj.legs()"
      ],
      "metadata": {
        "colab": {
          "base_uri": "https://localhost:8080/"
        },
        "id": "DcXmoMQy5sdV",
        "outputId": "6ebeacd4-e09d-4b25-967d-53da29b114d0"
      },
      "execution_count": null,
      "outputs": [
        {
          "output_type": "stream",
          "name": "stdout",
          "text": [
            "Elephant Have 4 legs\n"
          ]
        }
      ]
    },
    {
      "cell_type": "code",
      "source": [
        "##inhertenca\n",
        "class Babyanimal (Animal):\n",
        "  def height (self):\n",
        "    print(\"we have smaller height as compare to our parents\")"
      ],
      "metadata": {
        "id": "buLXUrs35-fI"
      },
      "execution_count": null,
      "outputs": []
    },
    {
      "cell_type": "code",
      "source": [
        "o = Babyanimal (\"Cat\")\n",
        "o.habitat()"
      ],
      "metadata": {
        "colab": {
          "base_uri": "https://localhost:8080/"
        },
        "id": "xbuqWfHD6pRX",
        "outputId": "965414e1-7ced-4abf-93f5-50397de32e9a"
      },
      "execution_count": null,
      "outputs": [
        {
          "output_type": "stream",
          "name": "stdout",
          "text": [
            "Cat Lives in forest\n"
          ]
        }
      ]
    },
    {
      "cell_type": "markdown",
      "source": [
        "Polymorphism"
      ],
      "metadata": {
        "id": "532rnGsA7nxe"
      }
    },
    {
      "cell_type": "code",
      "source": [
        "class India:\n",
        "  def Capital(self):\n",
        "    print(\"New Delhi\")\n",
        "  def capital(self):\n",
        "    print(\"28 states\")\n",
        "  def nationalanimal(self):\n",
        "    print(\"Tiger\")\n",
        "  def Nationalbird(self):\n",
        "    print(\"peacock\")\n",
        "class USA:\n",
        "  def Capital(self):\n",
        "    print(\"Washington\")\n",
        "  def capital(self):\n",
        "    print(\"50 states\")\n",
        "  def nationalanimal(self):\n",
        "    print(\"American bison\")\n",
        "  def Nationalbird(self):\n",
        "    print(\"Eagle\")"
      ],
      "metadata": {
        "id": "-mdXngrG63TV"
      },
      "execution_count": null,
      "outputs": []
    },
    {
      "cell_type": "code",
      "source": [
        "o = USA()\n",
        "o = India()"
      ],
      "metadata": {
        "id": "cBpoOD4j_C7n"
      },
      "execution_count": null,
      "outputs": []
    },
    {
      "cell_type": "code",
      "source": [
        "o.Nationalbird()"
      ],
      "metadata": {
        "colab": {
          "base_uri": "https://localhost:8080/"
        },
        "id": "LL66hyfG_QmN",
        "outputId": "4e1f8da0-e144-4ec1-f1be-b4298eb59e5e"
      },
      "execution_count": null,
      "outputs": [
        {
          "output_type": "stream",
          "name": "stdout",
          "text": [
            "peacock\n"
          ]
        }
      ]
    },
    {
      "cell_type": "code",
      "source": [
        "#Abstraction\n",
        "from abc import ABC, abstractmethod"
      ],
      "metadata": {
        "id": "svRxkeI-_Xj1"
      },
      "execution_count": null,
      "outputs": []
    },
    {
      "cell_type": "code",
      "source": [
        "class Bank(ABC):\n",
        "  @abstractmethod\n",
        "  def security(self):\n",
        "    pass\n",
        "class App (Bank):\n",
        "  def withdraw (self):\n",
        "    print(\"you can withdraw know\")\n",
        "  def security(self):\n",
        "     print(\"Now is it secured\")\n",
        "obj =App ()\n",
        "obj.withdraw()\n",
        "obj.security()"
      ],
      "metadata": {
        "colab": {
          "base_uri": "https://localhost:8080/"
        },
        "id": "CXpG-snFBO7s",
        "outputId": "5eef9697-e02f-46c7-9ab9-caa36363acba"
      },
      "execution_count": null,
      "outputs": [
        {
          "output_type": "stream",
          "name": "stdout",
          "text": [
            "you can withdraw know\n",
            "Now is it secured\n"
          ]
        }
      ]
    },
    {
      "cell_type": "code",
      "source": [
        "##wap to create a vehicle class certain methods and inherit the properties of this class of car class\n",
        "class Vehicle:\n",
        "    def __init__(self, brand, model, year):\n",
        "        self.brand = brand\n",
        "        self.model = model\n",
        "        self.year = year\n",
        "\n",
        "    def start_engine(self):\n",
        "        print(f\"The engine of {self.brand} {self.model} is starting...\")\n",
        "\n",
        "    def stop_engine(self):\n",
        "        print(f\"The engine of {self.brand} {self.model} is stopping...\")\n",
        "\n",
        "    def display_info(self):\n",
        "        print(f\"Vehicle Info: {self.year} {self.brand} {self.model}\")\n",
        "\n",
        "class Car(Vehicle):\n",
        "    def __init__(self, brand, model, year, doors):\n",
        "        super().__init__(brand, model, year)  # Inherit from Vehicle\n",
        "        self.doors = doors\n",
        "\n",
        "    def open_trunk(self):\n",
        "        print(f\"The trunk of the {self.brand} {self.model} is now open.\")\n",
        "\n",
        "    def display_info(self):  # Method overriding\n",
        "        super().display_info()\n",
        "        print(f\"Number of doors: {self.doors}\")\n",
        "\n",
        "my_car = Car(\"Toyota\", \"Camry\", 2023, 4)\n",
        "\n",
        "my_car.start_engine()\n",
        "my_car.display_info()\n",
        "my_car.open_trunk()\n",
        "my_car.stop_engine()\n",
        "\n"
      ],
      "metadata": {
        "colab": {
          "base_uri": "https://localhost:8080/"
        },
        "id": "AUsTcHTYCEOG",
        "outputId": "c61d1740-e50f-4343-91d5-55762236019d"
      },
      "execution_count": null,
      "outputs": [
        {
          "output_type": "stream",
          "name": "stdout",
          "text": [
            "The engine of Toyota Camry is starting...\n",
            "Vehicle Info: 2023 Toyota Camry\n",
            "Number of doors: 4\n",
            "The trunk of the Toyota Camry is now open.\n",
            "The engine of Toyota Camry is stopping...\n"
          ]
        }
      ]
    },
    {
      "cell_type": "code",
      "source": [
        "class Vehicle:\n",
        "    def type(self):\n",
        "        print(\"This is a vehicle.\")\n",
        "    def wheels(self):\n",
        "        print(\"Vehicles can have 2, 4, or more wheels.\")\n",
        "    def fuel_type(self):\n",
        "        print(\"Vehicles may use petrol, diesel, or electricity.\")\n",
        "    def max_speed(self):\n",
        "        print(\"Speed varies depending on the type of vehicle.\")\n",
        "\n",
        "class Car(Vehicle):\n",
        "    def car_brand(self):\n",
        "        print(\"This is a car of brand Toyota.\")\n",
        "    def fuel_type(self):\n",
        "        print(\"Cars usually use petrol, diesel, or electricity.\")\n",
        "    def max_speed(self):\n",
        "        print(\"Cars usually have a max speed of 120-240 km/h.\")\n",
        "\n",
        "my_car = Car()\n",
        "my_car.type()\n",
        "my_car.wheels()\n",
        "my_car.fuel_type()\n",
        "my_car.max_speed()\n",
        "my_car.car_brand()\n"
      ],
      "metadata": {
        "colab": {
          "base_uri": "https://localhost:8080/"
        },
        "id": "Ura6joVwF3ac",
        "outputId": "3f34a706-0cfd-4ff9-83f1-e040bb838f0c"
      },
      "execution_count": null,
      "outputs": [
        {
          "output_type": "stream",
          "name": "stdout",
          "text": [
            "This is a vehicle.\n",
            "Vehicles can have 2, 4, or more wheels.\n",
            "Cars usually use petrol, diesel, or electricity.\n",
            "Cars usually have a max speed of 120-240 km/h.\n",
            "This is a car of brand Toyota.\n"
          ]
        }
      ]
    },
    {
      "cell_type": "markdown",
      "source": [
        "### Exception Handling"
      ],
      "metadata": {
        "id": "dmCOLAiYEPSO"
      }
    },
    {
      "cell_type": "code",
      "source": [
        "try:\n",
        "  a=20\n",
        "  b=10\n",
        "  print(a/b)\n",
        "except ZeroDivisionError:\n",
        "  print(\"we can not divide by zero\")\n",
        "else:\n"
      ],
      "metadata": {
        "id": "o6QCGaojGiYU",
        "colab": {
          "base_uri": "https://localhost:8080/"
        },
        "outputId": "beb1b36c-eaa9-4eef-c4f6-0c412e288d0b"
      },
      "execution_count": null,
      "outputs": [
        {
          "output_type": "stream",
          "name": "stdout",
          "text": [
            "2.0\n"
          ]
        }
      ]
    },
    {
      "cell_type": "code",
      "source": [],
      "metadata": {
        "id": "ZsG4GdjLEkCE"
      },
      "execution_count": null,
      "outputs": []
    }
  ]
}