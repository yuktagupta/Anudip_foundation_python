{
  "nbformat": 4,
  "nbformat_minor": 0,
  "metadata": {
    "colab": {
      "provenance": [],
      "authorship_tag": "ABX9TyM5jLL5t2Pz12cPV5L0H2he",
      "include_colab_link": true
    },
    "kernelspec": {
      "name": "python3",
      "display_name": "Python 3"
    },
    "language_info": {
      "name": "python"
    }
  },
  "cells": [
    {
      "cell_type": "markdown",
      "metadata": {
        "id": "view-in-github",
        "colab_type": "text"
      },
      "source": [
        "<a href=\"https://colab.research.google.com/github/yuktagupta/Anudip_foundation_python/blob/main/mock_interview_question.ipynb\" target=\"_parent\"><img src=\"https://colab.research.google.com/assets/colab-badge.svg\" alt=\"Open In Colab\"/></a>"
      ]
    },
    {
      "cell_type": "code",
      "execution_count": null,
      "metadata": {
        "colab": {
          "base_uri": "https://localhost:8080/"
        },
        "id": "qNIH9okIcLJr",
        "outputId": "6c60f1c3-422f-46ad-97c3-2ad22e36f438"
      },
      "outputs": [
        {
          "output_type": "stream",
          "name": "stdout",
          "text": [
            "atpuG atkuY\n"
          ]
        }
      ],
      "source": [
        "#print reverse string\n",
        "text =\"Yukta Gupta\"\n",
        "reversed_text = text[ ::-1]\n",
        "print(reversed_text)"
      ]
    },
    {
      "cell_type": "code",
      "source": [
        "##print primary no.\n",
        "for num in range (2 ,100):\n",
        "  is_prime =True\n",
        "  for i in range (2,int(num**0.5)+1):\n",
        "    if num % i ==0:\n",
        "        is_prime=False\n",
        "    break\n",
        "  if is_prime:\n",
        "    print(num ,end =\" \")"
      ],
      "metadata": {
        "colab": {
          "base_uri": "https://localhost:8080/"
        },
        "id": "PpJw7BkysDXr",
        "outputId": "5f6a0a99-5a91-4eb7-b9b3-f9c9bc56d227"
      },
      "execution_count": null,
      "outputs": [
        {
          "output_type": "stream",
          "name": "stdout",
          "text": [
            "2 3 5 7 9 11 13 15 17 19 21 23 25 27 29 31 33 35 37 39 41 43 45 47 49 51 53 55 57 59 61 63 65 67 69 71 73 75 77 79 81 83 85 87 89 91 93 95 97 99 "
          ]
        }
      ]
    },
    {
      "cell_type": "code",
      "source": [],
      "metadata": {
        "id": "7X3L7sFFs901"
      },
      "execution_count": null,
      "outputs": []
    }
  ]
}