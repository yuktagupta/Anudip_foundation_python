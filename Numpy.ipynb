{
  "nbformat": 4,
  "nbformat_minor": 0,
  "metadata": {
    "colab": {
      "provenance": [],
      "authorship_tag": "ABX9TyNjai2HHD6UuMTaBpBXQt96",
      "include_colab_link": true
    },
    "kernelspec": {
      "name": "python3",
      "display_name": "Python 3"
    },
    "language_info": {
      "name": "python"
    }
  },
  "cells": [
    {
      "cell_type": "markdown",
      "metadata": {
        "id": "view-in-github",
        "colab_type": "text"
      },
      "source": [
        "<a href=\"https://colab.research.google.com/github/yuktagupta/Anudip_foundation_python/blob/main/Numpy.ipynb\" target=\"_parent\"><img src=\"https://colab.research.google.com/assets/colab-badge.svg\" alt=\"Open In Colab\"/></a>"
      ]
    },
    {
      "cell_type": "code",
      "execution_count": null,
      "metadata": {
        "colab": {
          "base_uri": "https://localhost:8080/"
        },
        "id": "6Boxm0x7Uq6z",
        "outputId": "01bbe53f-bd78-4f8b-d682-28585abcf43a"
      },
      "outputs": [
        {
          "output_type": "stream",
          "name": "stdout",
          "text": [
            "Requirement already satisfied: numpy in /usr/local/lib/python3.11/dist-packages (2.0.2)\n"
          ]
        }
      ],
      "source": [
        "pip install numpy"
      ]
    },
    {
      "cell_type": "code",
      "source": [
        "import numpy as np\n",
        "arr =np.array([1,2,3],dtype =np.int32)\n",
        "print(arr)"
      ],
      "metadata": {
        "colab": {
          "base_uri": "https://localhost:8080/"
        },
        "id": "ZzXlmpFmWSZV",
        "outputId": "145bd7ef-338d-4350-e71e-3107509f4d97"
      },
      "execution_count": null,
      "outputs": [
        {
          "output_type": "stream",
          "name": "stdout",
          "text": [
            "[1 2 3]\n"
          ]
        }
      ]
    },
    {
      "cell_type": "code",
      "source": [
        "import numpy as np\n",
        "arr =np.array([100,200,300],dtype =np.int64)\n",
        "print(arr)"
      ],
      "metadata": {
        "colab": {
          "base_uri": "https://localhost:8080/"
        },
        "id": "P-dcxXKHXFlF",
        "outputId": "68e18b0e-7571-4b1e-88ef-f8f237338f9a"
      },
      "execution_count": null,
      "outputs": [
        {
          "output_type": "stream",
          "name": "stdout",
          "text": [
            "[100 200 300]\n"
          ]
        }
      ]
    },
    {
      "cell_type": "code",
      "source": [
        "import numpy as np\n",
        "arr = np.array([1.0,2.5,3.7],dtype=np.float64)\n",
        "print(arr)"
      ],
      "metadata": {
        "colab": {
          "base_uri": "https://localhost:8080/"
        },
        "id": "xzx6Rt58XJwS",
        "outputId": "dbee4d8d-f62b-4b98-ec4c-b558a2f55192"
      },
      "execution_count": null,
      "outputs": [
        {
          "output_type": "stream",
          "name": "stdout",
          "text": [
            "[1.  2.5 3.7]\n"
          ]
        }
      ]
    },
    {
      "cell_type": "code",
      "source": [
        "import numpy as np\n",
        "arr = np.array([1+ 2j,3 + 2j],dtype=np.complex128)\n",
        "print(arr)"
      ],
      "metadata": {
        "colab": {
          "base_uri": "https://localhost:8080/"
        },
        "id": "po_T07X4Xs0E",
        "outputId": "6fe4a7cf-73dd-449f-9559-4661b38db1ec"
      },
      "execution_count": null,
      "outputs": [
        {
          "output_type": "stream",
          "name": "stdout",
          "text": [
            "[1.+2.j 3.+2.j]\n"
          ]
        }
      ]
    },
    {
      "cell_type": "code",
      "source": [
        "import numpy as np\n",
        "arr =np.array([True,False],dtype=np.bool)\n",
        "print (arr)"
      ],
      "metadata": {
        "colab": {
          "base_uri": "https://localhost:8080/"
        },
        "id": "YnAEEC63YTf0",
        "outputId": "698f105e-679e-4dc7-c58f-35568fe74a94"
      },
      "execution_count": null,
      "outputs": [
        {
          "output_type": "stream",
          "name": "stdout",
          "text": [
            "[ True False]\n"
          ]
        }
      ]
    },
    {
      "cell_type": "code",
      "source": [
        "import numpy as np\n",
        "arr = np.array(['apple',2,3.5] ,dtype=np.object_)\n",
        "print(arr)"
      ],
      "metadata": {
        "colab": {
          "base_uri": "https://localhost:8080/"
        },
        "id": "HwRAsTmoYsBb",
        "outputId": "afdc17e3-e709-48b8-d8cc-85738006dc9c"
      },
      "execution_count": null,
      "outputs": [
        {
          "output_type": "stream",
          "name": "stdout",
          "text": [
            "['apple' 2 3.5]\n"
          ]
        }
      ]
    },
    {
      "cell_type": "code",
      "source": [
        "import numpy as np\n",
        "arr = np.array(['hello','world'] ,dtype=np.bytes_)\n",
        "print(arr)"
      ],
      "metadata": {
        "colab": {
          "base_uri": "https://localhost:8080/"
        },
        "id": "ezJ978oGZBAU",
        "outputId": "a72b6ffe-7d2a-4cb4-b5a3-ddd8200283c4"
      },
      "execution_count": null,
      "outputs": [
        {
          "output_type": "stream",
          "name": "stdout",
          "text": [
            "[b'hello' b'world']\n"
          ]
        }
      ]
    },
    {
      "cell_type": "code",
      "source": [
        "import numpy as np\n",
        "date_arr=np.array(['2023-10-03', '2023-10-04'],dtype=np.datetime64)\n",
        "print(date_arr)"
      ],
      "metadata": {
        "colab": {
          "base_uri": "https://localhost:8080/"
        },
        "id": "DOt20UsdZnhc",
        "outputId": "292392a7-fddf-44f3-a9fc-78910d2c8978"
      },
      "execution_count": null,
      "outputs": [
        {
          "output_type": "stream",
          "name": "stdout",
          "text": [
            "['2023-10-03' '2023-10-04']\n"
          ]
        }
      ]
    },
    {
      "cell_type": "code",
      "source": [
        "import numpy as np\n",
        "#Examplewithtimedelta64\n",
        "time_diff=np.array(['1days', '3hours'],dtype=np.timedelta64)\n",
        "print(time_diff)"
      ],
      "metadata": {
        "colab": {
          "base_uri": "https://localhost:8080/",
          "height": 200
        },
        "id": "OyOH8A8UaDLC",
        "outputId": "e4d01744-d8fb-4039-ce16-124530a0a494"
      },
      "execution_count": null,
      "outputs": [
        {
          "output_type": "error",
          "ename": "ValueError",
          "evalue": "Could not convert object to NumPy timedelta",
          "traceback": [
            "\u001b[0;31m---------------------------------------------------------------------------\u001b[0m",
            "\u001b[0;31mValueError\u001b[0m                                Traceback (most recent call last)",
            "\u001b[0;32m<ipython-input-21-5dd7131b8b03>\u001b[0m in \u001b[0;36m<cell line: 0>\u001b[0;34m()\u001b[0m\n\u001b[1;32m      1\u001b[0m \u001b[0;32mimport\u001b[0m \u001b[0mnumpy\u001b[0m \u001b[0;32mas\u001b[0m \u001b[0mnp\u001b[0m\u001b[0;34m\u001b[0m\u001b[0;34m\u001b[0m\u001b[0m\n\u001b[1;32m      2\u001b[0m \u001b[0;31m#Examplewithtimedelta64\u001b[0m\u001b[0;34m\u001b[0m\u001b[0;34m\u001b[0m\u001b[0m\n\u001b[0;32m----> 3\u001b[0;31m \u001b[0mtime_diff\u001b[0m\u001b[0;34m=\u001b[0m\u001b[0mnp\u001b[0m\u001b[0;34m.\u001b[0m\u001b[0marray\u001b[0m\u001b[0;34m(\u001b[0m\u001b[0;34m[\u001b[0m\u001b[0;34m'1days'\u001b[0m\u001b[0;34m,\u001b[0m \u001b[0;34m'3hours'\u001b[0m\u001b[0;34m]\u001b[0m\u001b[0;34m,\u001b[0m\u001b[0mdtype\u001b[0m\u001b[0;34m=\u001b[0m\u001b[0mnp\u001b[0m\u001b[0;34m.\u001b[0m\u001b[0mtimedelta64\u001b[0m\u001b[0;34m)\u001b[0m\u001b[0;34m\u001b[0m\u001b[0;34m\u001b[0m\u001b[0m\n\u001b[0m\u001b[1;32m      4\u001b[0m \u001b[0mprint\u001b[0m\u001b[0;34m(\u001b[0m\u001b[0mtime_diff\u001b[0m\u001b[0;34m)\u001b[0m\u001b[0;34m\u001b[0m\u001b[0;34m\u001b[0m\u001b[0m\n",
            "\u001b[0;31mValueError\u001b[0m: Could not convert object to NumPy timedelta"
          ]
        }
      ]
    },
    {
      "cell_type": "code",
      "source": [
        "import numpy as np\n",
        "#Examplewithtimedelta64\n",
        "# Changed the format of the strings to be compatible with timedelta64\n",
        "time_diff = np.array(['1D', '3h'], dtype=np.timedelta64)\n",
        "print(time_diff)"
      ],
      "metadata": {
        "colab": {
          "base_uri": "https://localhost:8080/",
          "height": 200
        },
        "id": "SJkCdnoKaONy",
        "outputId": "831d0221-360a-47a6-a567-a5c23abb1b83"
      },
      "execution_count": null,
      "outputs": [
        {
          "output_type": "error",
          "ename": "ValueError",
          "evalue": "Could not convert object to NumPy timedelta",
          "traceback": [
            "\u001b[0;31m---------------------------------------------------------------------------\u001b[0m",
            "\u001b[0;31mValueError\u001b[0m                                Traceback (most recent call last)",
            "\u001b[0;32m<ipython-input-22-c26f8d2c680f>\u001b[0m in \u001b[0;36m<cell line: 0>\u001b[0;34m()\u001b[0m\n\u001b[1;32m      2\u001b[0m \u001b[0;31m#Examplewithtimedelta64\u001b[0m\u001b[0;34m\u001b[0m\u001b[0;34m\u001b[0m\u001b[0m\n\u001b[1;32m      3\u001b[0m \u001b[0;31m# Changed the format of the strings to be compatible with timedelta64\u001b[0m\u001b[0;34m\u001b[0m\u001b[0;34m\u001b[0m\u001b[0m\n\u001b[0;32m----> 4\u001b[0;31m \u001b[0mtime_diff\u001b[0m \u001b[0;34m=\u001b[0m \u001b[0mnp\u001b[0m\u001b[0;34m.\u001b[0m\u001b[0marray\u001b[0m\u001b[0;34m(\u001b[0m\u001b[0;34m[\u001b[0m\u001b[0;34m'1D'\u001b[0m\u001b[0;34m,\u001b[0m \u001b[0;34m'3h'\u001b[0m\u001b[0;34m]\u001b[0m\u001b[0;34m,\u001b[0m \u001b[0mdtype\u001b[0m\u001b[0;34m=\u001b[0m\u001b[0mnp\u001b[0m\u001b[0;34m.\u001b[0m\u001b[0mtimedelta64\u001b[0m\u001b[0;34m)\u001b[0m\u001b[0;34m\u001b[0m\u001b[0;34m\u001b[0m\u001b[0m\n\u001b[0m\u001b[1;32m      5\u001b[0m \u001b[0mprint\u001b[0m\u001b[0;34m(\u001b[0m\u001b[0mtime_diff\u001b[0m\u001b[0;34m)\u001b[0m\u001b[0;34m\u001b[0m\u001b[0;34m\u001b[0m\u001b[0m\n",
            "\u001b[0;31mValueError\u001b[0m: Could not convert object to NumPy timedelta"
          ]
        }
      ]
    },
    {
      "cell_type": "code",
      "source": [
        "#CreatinganArrayfromaListorTuple\n",
        "import numpy as np\n",
        "arr1=np.array([1,2,3])\n",
        "arr2=np.array((4,5,6))\n",
        "print(\"ArrayfromList:\",arr1)\n",
        "print(\"ArrayfromTuple:\",arr2)"
      ],
      "metadata": {
        "colab": {
          "base_uri": "https://localhost:8080/"
        },
        "id": "4j3JK6Blad8r",
        "outputId": "f8e74b76-b3a4-474f-a546-14a794576e29"
      },
      "execution_count": null,
      "outputs": [
        {
          "output_type": "stream",
          "name": "stdout",
          "text": [
            "ArrayfromList: [1 2 3]\n",
            "ArrayfromTuple: [4 5 6]\n"
          ]
        }
      ]
    },
    {
      "cell_type": "code",
      "source": [
        "#CreatinganArraywithaSpecifiedDataType\n",
        "import numpy as np\n",
        "arr=np.array([1,2,3],dtype=float)\n",
        "print(\"ArraywithDataType:\",arr)"
      ],
      "metadata": {
        "colab": {
          "base_uri": "https://localhost:8080/"
        },
        "id": "hZJJRBpAapay",
        "outputId": "1aae558e-6b51-40eb-fb08-adc6d1295fcc"
      },
      "execution_count": null,
      "outputs": [
        {
          "output_type": "stream",
          "name": "stdout",
          "text": [
            "ArraywithDataType: [1. 2. 3.]\n"
          ]
        }
      ]
    },
    {
      "cell_type": "code",
      "source": [
        "#CreatinganArraywithaRangeofValues\n",
        "import numpy as np\n",
        "#arr.np.array(10)\n",
        "arr=np.arange(10)\n",
        "print(\"ArraywithRangeofValues:\",arr)"
      ],
      "metadata": {
        "colab": {
          "base_uri": "https://localhost:8080/"
        },
        "id": "0M3PoE7Ha8Is",
        "outputId": "b8c970ac-e389-483c-b1e7-5986b0df6d91"
      },
      "execution_count": null,
      "outputs": [
        {
          "output_type": "stream",
          "name": "stdout",
          "text": [
            "ArraywithRangeofValues: [0 1 2 3 4 5 6 7 8 9]\n"
          ]
        }
      ]
    },
    {
      "cell_type": "code",
      "source": [
        "#CreatinganArrayofZerosorOnes\n",
        "import numpy as np\n",
        "zeros_arr=np.zeros((2,3))\n",
        "ones_arr=np.ones((3,2))\n",
        "print(\"ArrayofZeros:\")\n",
        "print(zeros_arr)\n",
        "print(\"ArrayofOnes:\")\n",
        "print(ones_arr)"
      ],
      "metadata": {
        "colab": {
          "base_uri": "https://localhost:8080/"
        },
        "id": "5Hg8-pf6bLz6",
        "outputId": "420f2223-a0b5-44e4-e57b-16a0314d4a77"
      },
      "execution_count": null,
      "outputs": [
        {
          "output_type": "stream",
          "name": "stdout",
          "text": [
            "ArrayofZeros:\n",
            "[[0. 0. 0.]\n",
            " [0. 0. 0.]]\n",
            "ArrayofOnes:\n",
            "[[1. 1.]\n",
            " [1. 1.]\n",
            " [1. 1.]]\n"
          ]
        }
      ]
    },
    {
      "cell_type": "code",
      "source": [
        "#CreatinganArrayofZerosorOnes\n",
        "import numpy as np\n",
        "arr1=np.zeros(5)\n",
        "arr2=np.ones(5)\n",
        "print(\"ArrayofZeros:\",arr1)\n",
        "print(\"ArrayofOnes:\",arr2)"
      ],
      "metadata": {
        "colab": {
          "base_uri": "https://localhost:8080/"
        },
        "id": "9BibbiWIb3P8",
        "outputId": "b8fdc813-4eee-47e8-8998-40caca94c9ec"
      },
      "execution_count": null,
      "outputs": [
        {
          "output_type": "stream",
          "name": "stdout",
          "text": [
            "ArrayofZeros: [0. 0. 0. 0. 0.]\n",
            "ArrayofOnes: [1. 1. 1. 1. 1.]\n"
          ]
        }
      ]
    },
    {
      "cell_type": "code",
      "source": [
        "#CreatinganIdentityMatrix\n",
        "import numpy as np\n",
        "identity_matrix=np.eye(3)\n",
        "print(\"IdentityMatrix:\")\n",
        "print(identity_matrix)"
      ],
      "metadata": {
        "colab": {
          "base_uri": "https://localhost:8080/"
        },
        "id": "zKypjPIrb_Wz",
        "outputId": "7aa68a38-c853-481b-d2d7-48461ff1aa99"
      },
      "execution_count": null,
      "outputs": [
        {
          "output_type": "stream",
          "name": "stdout",
          "text": [
            "IdentityMatrix:\n",
            "[[1. 0. 0.]\n",
            " [0. 1. 0.]\n",
            " [0. 0. 1.]]\n"
          ]
        }
      ]
    },
    {
      "cell_type": "code",
      "source": [
        "#.NumPyArrayIndexing\n",
        "import numpy as np\n",
        "arr = np.array ([1,2,4,5,6])\n",
        "print(\"Element at index 0:\", arr[0])\n",
        "print(\"Element at index 0:\", arr[2])\n",
        "\n",
        "print(\"Last element:\", arr[-1])\n",
        "print(\"second-to-Last element:\", arr[-2])\n",
        "#slicing array\n",
        "print(\"Elements from index 1 to 3:\", arr[1:4])\n",
        "#using slicing\n",
        "print(\"Every second element:\", arr[::2])"
      ],
      "metadata": {
        "colab": {
          "base_uri": "https://localhost:8080/"
        },
        "id": "gL2szrc3cZcj",
        "outputId": "e882a354-990e-4979-da34-672cf205adb8"
      },
      "execution_count": null,
      "outputs": [
        {
          "output_type": "stream",
          "name": "stdout",
          "text": [
            "Element at index 0: 1\n",
            "Element at index 0: 4\n",
            "Last element: 6\n",
            "second-to-Last element: 5\n",
            "Elements from index 1 to 3: [2 4 5]\n",
            "Every second element: [1 4 6]\n"
          ]
        }
      ]
    },
    {
      "cell_type": "code",
      "source": [
        "np.zeros((3,3))"
      ],
      "metadata": {
        "colab": {
          "base_uri": "https://localhost:8080/"
        },
        "id": "mWEMMgK6dF1K",
        "outputId": "aa0a79b6-8928-4f55-c875-c0fd8f71ed9f"
      },
      "execution_count": null,
      "outputs": [
        {
          "output_type": "execute_result",
          "data": {
            "text/plain": [
              "array([[0., 0., 0.],\n",
              "       [0., 0., 0.],\n",
              "       [0., 0., 0.]])"
            ]
          },
          "metadata": {},
          "execution_count": 34
        }
      ]
    },
    {
      "cell_type": "code",
      "source": [
        "np.ones((2,2))"
      ],
      "metadata": {
        "colab": {
          "base_uri": "https://localhost:8080/"
        },
        "id": "JQWhF_LYeWiC",
        "outputId": "d746dc83-d36e-47b1-cefb-685d0e8e9135"
      },
      "execution_count": null,
      "outputs": [
        {
          "output_type": "execute_result",
          "data": {
            "text/plain": [
              "array([[1., 1.],\n",
              "       [1., 1.]])"
            ]
          },
          "metadata": {},
          "execution_count": 35
        }
      ]
    },
    {
      "cell_type": "code",
      "source": [
        "np.eye(3)"
      ],
      "metadata": {
        "colab": {
          "base_uri": "https://localhost:8080/"
        },
        "id": "VnsfbBsMed7o",
        "outputId": "38c1b475-b52f-4cdb-a76b-a069eb6f95a2"
      },
      "execution_count": null,
      "outputs": [
        {
          "output_type": "execute_result",
          "data": {
            "text/plain": [
              "array([[1., 0., 0.],\n",
              "       [0., 1., 0.],\n",
              "       [0., 0., 1.]])"
            ]
          },
          "metadata": {},
          "execution_count": 36
        }
      ]
    },
    {
      "cell_type": "code",
      "source": [
        "#np.rand(np.random.rand(3,3))\n",
        "# Use np.random.rand() to generate random numbers\n",
        "np.random.rand(3,3)*6"
      ],
      "metadata": {
        "colab": {
          "base_uri": "https://localhost:8080/"
        },
        "id": "25P3cJbVe0m6",
        "outputId": "6156eb4c-ff3a-4a02-b562-94c645a4ffca"
      },
      "execution_count": null,
      "outputs": [
        {
          "output_type": "execute_result",
          "data": {
            "text/plain": [
              "array([[4.11708455, 1.74549008, 5.8498449 ],\n",
              "       [5.29776257, 2.93198142, 0.63964832],\n",
              "       [2.72659688, 3.84826418, 3.18248148]])"
            ]
          },
          "metadata": {},
          "execution_count": 39
        }
      ]
    },
    {
      "cell_type": "code",
      "source": [
        "#array name[row_index,column_index]\n",
        "# Create and assign an array to a variable\n",
        "some_array = np.array([[10, 20, 30], [40, 50, 60], [70, 80, 90]])\n",
        "\n",
        "# Now you can index 'some_array'\n",
        "print(some_array[1,1])"
      ],
      "metadata": {
        "colab": {
          "base_uri": "https://localhost:8080/"
        },
        "id": "s6vNIhshff8J",
        "outputId": "32bf2db0-cace-48ab-a184-7b914df2b609"
      },
      "execution_count": null,
      "outputs": [
        {
          "output_type": "stream",
          "name": "stdout",
          "text": [
            "50\n"
          ]
        }
      ]
    },
    {
      "cell_type": "code",
      "source": [
        "##Hi! I am new to Python numpy. Can you generate some real world situations where I can use a numpyarray with some source code.\n",
        "import numpy as np\n",
        "\n",
        "# Daily temperatures (°C) for one week\n",
        "temps = np.array([22.4, 24.1, 23.0, 25.6, 24.8, 26.1, 23.9])\n",
        "\n",
        "# Find average, min, max\n",
        "avg_temp = np.mean(temps)\n",
        "min_temp = np.min(temps)\n",
        "max_temp = np.max(temps)\n",
        "\n",
        "print(f\"Average Temperature: {avg_temp:.1f}°C\")\n",
        "print(f\"Minimum Temperature: {min_temp}°C\")\n",
        "print(f\"Maximum Temperature: {max_temp}°C\")\n"
      ],
      "metadata": {
        "colab": {
          "base_uri": "https://localhost:8080/"
        },
        "id": "UVE3YaMBgFC5",
        "outputId": "f2e8153c-41cd-43a7-e92c-b892c6a31c70"
      },
      "execution_count": null,
      "outputs": [
        {
          "output_type": "stream",
          "name": "stdout",
          "text": [
            "Average Temperature: 24.3°C\n",
            "Minimum Temperature: 22.4°C\n",
            "Maximum Temperature: 26.1°C\n"
          ]
        }
      ]
    },
    {
      "cell_type": "markdown",
      "source": [
        "# Numpy Slicing"
      ],
      "metadata": {
        "id": "A7ZcZQm0h-_7"
      }
    },
    {
      "cell_type": "code",
      "source": [
        "#Basic Slicing\n",
        "import numpy as np\n",
        "arr = np.array([0, 1, 2, 3, 4, 5])\n",
        "#Extract elements from index 1 to 4 (exclusive)\n",
        "sliced_array = arr[1:4]\n",
        "print(sliced_array)"
      ],
      "metadata": {
        "colab": {
          "base_uri": "https://localhost:8080/"
        },
        "id": "bRCdvHFEiJ2J",
        "outputId": "d07b40fc-9fe8-49e8-a8ab-d821360f485f"
      },
      "execution_count": null,
      "outputs": [
        {
          "output_type": "stream",
          "name": "stdout",
          "text": [
            "[1 2 3]\n"
          ]
        }
      ]
    },
    {
      "cell_type": "code",
      "source": [
        "#Step Slicing\n",
        "sliced_array = arr[-3:]\n",
        "print(sliced_array)"
      ],
      "metadata": {
        "colab": {
          "base_uri": "https://localhost:8080/"
        },
        "id": "3ApWpdfuiSIx",
        "outputId": "bb4e4d3f-1f56-4239-a788-24ea52a74fa0"
      },
      "execution_count": null,
      "outputs": [
        {
          "output_type": "stream",
          "name": "stdout",
          "text": [
            "[3 4 5]\n"
          ]
        }
      ]
    },
    {
      "cell_type": "code",
      "source": [
        "#Multidimensional Array Slicing\n",
        "arr = np.array([[1, 2, 3], [4, 5, 6], [7, 8, 9]])\n",
        "row = arr[1, :]\n",
        "print(row)\n",
        "col = arr[:, 1]\n",
        "print(col)"
      ],
      "metadata": {
        "colab": {
          "base_uri": "https://localhost:8080/"
        },
        "id": "rtr_saEniexa",
        "outputId": "591b5ec1-0657-4d8c-dfc7-cb8ba04e4605"
      },
      "execution_count": null,
      "outputs": [
        {
          "output_type": "stream",
          "name": "stdout",
          "text": [
            "[4 5 6]\n",
            "[2 5 8]\n"
          ]
        }
      ]
    },
    {
      "cell_type": "code",
      "source": [
        "#Boolean Indexing\n",
        "condition = arr > 2\n",
        "filtered_array = arr[condition]\n",
        "print(filtered_array)"
      ],
      "metadata": {
        "colab": {
          "base_uri": "https://localhost:8080/"
        },
        "id": "Y0w_TgCjir8o",
        "outputId": "678b4629-1cf2-47f5-c7be-6db447d0dc72"
      },
      "execution_count": null,
      "outputs": [
        {
          "output_type": "stream",
          "name": "stdout",
          "text": [
            "[3 4 5 6 7 8 9]\n"
          ]
        }
      ]
    },
    {
      "cell_type": "code",
      "source": [
        "arr = np.array([0, 1, 2, 3, 4, 5])\n",
        "arr[1:4] = 10\n",
        "print(arr)"
      ],
      "metadata": {
        "colab": {
          "base_uri": "https://localhost:8080/"
        },
        "id": "ZMZTQqNFjAZJ",
        "outputId": "672c8015-14e6-4c9f-deeb-0a71bb4dad36"
      },
      "execution_count": null,
      "outputs": [
        {
          "output_type": "stream",
          "name": "stdout",
          "text": [
            "[ 0 10 10 10  4  5]\n"
          ]
        }
      ]
    },
    {
      "cell_type": "code",
      "source": [
        "# NumPy Array Copy v/s View\n",
        "original_array = np.array([1,2,3,4,5])\n",
        "copied_array = original_array.copy()\n",
        "copied_array[0] = 100\n",
        "print(\"original_array:\",original_array)\n",
        "print(\"copied_array:\",copied_array)"
      ],
      "metadata": {
        "colab": {
          "base_uri": "https://localhost:8080/"
        },
        "id": "LqSa6a_JjJ3Y",
        "outputId": "8ee1210e-0f02-49b2-9a81-397881b4c0e7"
      },
      "execution_count": null,
      "outputs": [
        {
          "output_type": "stream",
          "name": "stdout",
          "text": [
            "original_array: [1 2 3 4 5]\n",
            "copied_array: [100   2   3   4   5]\n"
          ]
        }
      ]
    },
    {
      "cell_type": "code",
      "source": [
        "arr = np.array([[1, 2, 3], [4, 5, 6]])\n",
        "shape =arr.shape\n",
        "print(\"shape into the array :\",shape)"
      ],
      "metadata": {
        "colab": {
          "base_uri": "https://localhost:8080/"
        },
        "id": "2kzYgFqOj98R",
        "outputId": "5471957f-792a-4185-b2de-8285e45ccadc"
      },
      "execution_count": null,
      "outputs": [
        {
          "output_type": "stream",
          "name": "stdout",
          "text": [
            "shape into the array : (2, 3)\n"
          ]
        }
      ]
    },
    {
      "cell_type": "code",
      "source": [
        "#Reshaping with -1\n",
        "arr = np.array([1, 2, 3, 4, 5, 6])\n",
        "reshaped_array = arr.reshape(3, -1)\n",
        "print(\"Reshaped array:\")\n",
        "print(reshaped_array)"
      ],
      "metadata": {
        "colab": {
          "base_uri": "https://localhost:8080/"
        },
        "id": "PSf0efoakSfp",
        "outputId": "5868c961-5147-45a2-8f79-e13e356758e7"
      },
      "execution_count": null,
      "outputs": [
        {
          "output_type": "stream",
          "name": "stdout",
          "text": [
            "Reshaped array:\n",
            "[[1 2]\n",
            " [3 4]\n",
            " [5 6]]\n"
          ]
        }
      ]
    },
    {
      "cell_type": "code",
      "source": [
        "#1. Hi! Let's create a real-life example involving weather data. Use NumPy to analyze temperature data for a week, perform slicing, indexing, shaping, and reshaping operations, and calculate various statistics.\n",
        "import numpy as np\n",
        "temperatures = np.array([\n",
        "    [30.5, 32.0, 31.8, 33.2, 34.0, 32.5, 31.0],  # City A\n",
        "    [25.0, 26.5, 27.2, 28.0, 27.8, 26.9, 25.5]   # City B\n",
        "    ])\n",
        "\n",
        "print(\"Original Temperature Data:\\n\", temperatures)\n"
      ],
      "metadata": {
        "colab": {
          "base_uri": "https://localhost:8080/"
        },
        "id": "Lbe7TzmZkdsY",
        "outputId": "2d0eae89-ab89-46de-de53-11807b8146ef"
      },
      "execution_count": null,
      "outputs": [
        {
          "output_type": "stream",
          "name": "stdout",
          "text": [
            "Original Temperature Data:\n",
            " [[30.5 32.  31.8 33.2 34.  32.5 31. ]\n",
            " [25.  26.5 27.2 28.  27.8 26.9 25.5]]\n"
          ]
        }
      ]
    },
    {
      "cell_type": "code",
      "source": [
        "#1. Write a NumPy program to create an array of 10 zeros, 10 ones, and 10 fives.\n",
        "import numpy as np\n",
        "\n",
        "zeros_array = np.zeros(10)\n",
        "ones_array = np.ones(10)\n",
        "fives_array = np.full(10 , 5)\n",
        "\n",
        "print(\"Array of 10 Zeros:\", zeros_array)\n",
        "print(\"Array of 10 Ones:\", ones_array)\n",
        "print(\"Array of 10 Fives:\", fives_array)\n"
      ],
      "metadata": {
        "colab": {
          "base_uri": "https://localhost:8080/"
        },
        "id": "OJA6d6BKmzsJ",
        "outputId": "7fcbd037-b1ab-4b3c-936d-8839a7eb0d3e"
      },
      "execution_count": null,
      "outputs": [
        {
          "output_type": "stream",
          "name": "stdout",
          "text": [
            "Array of 10 Zeros: [0. 0. 0. 0. 0. 0. 0. 0. 0. 0.]\n",
            "Array of 10 Ones: [1. 1. 1. 1. 1. 1. 1. 1. 1. 1.]\n",
            "Array of 10 Fives: [5 5 5 5 5 5 5 5 5 5]\n"
          ]
        }
      ]
    },
    {
      "cell_type": "code",
      "source": [
        "##Write a NumPy program to create a 3x3 matrix with values ranging from 2 to 10.\n",
        "import numpy as np\n",
        "matrix = np.arange(2, 11).reshape(3, 3)\n",
        "print(\"3x3 Matrix with Values from 2 to 10:\")\n",
        "print(matrix)"
      ],
      "metadata": {
        "colab": {
          "base_uri": "https://localhost:8080/"
        },
        "id": "ZtUP4vrKnvI4",
        "outputId": "bc6b694e-f088-4c95-8672-edb9cca41b38"
      },
      "execution_count": null,
      "outputs": [
        {
          "output_type": "stream",
          "name": "stdout",
          "text": [
            "3x3 Matrix with Values from 2 to 10:\n",
            "[[ 2  3  4]\n",
            " [ 5  6  7]\n",
            " [ 8  9 10]]\n"
          ]
        }
      ]
    },
    {
      "cell_type": "code",
      "source": [
        "#1. Write a NumPy program to create an array of 10 zeros, 10 ones, and 10 fives.\n",
        "import numpy as np\n",
        "zeros_array = np.zeros(10)\n",
        "ones_array = np.ones(10)\n",
        "fives_array = np.full(10, 5)\n",
        "combined_array = np.concatenate([zeros_array, ones_array, fives_array])"
      ],
      "metadata": {
        "id": "bcH2LizBn5-y"
      },
      "execution_count": null,
      "outputs": []
    },
    {
      "cell_type": "code",
      "source": [
        "print(\"Combined Array:\")\n",
        "print(combined_array)"
      ],
      "metadata": {
        "colab": {
          "base_uri": "https://localhost:8080/"
        },
        "id": "vWJEk4xQoNf5",
        "outputId": "bc0e7650-d479-4b2c-b0e6-df36a69ce6bb"
      },
      "execution_count": null,
      "outputs": [
        {
          "output_type": "stream",
          "name": "stdout",
          "text": [
            "Combined Array:\n",
            "[0. 0. 0. 0. 0. 0. 0. 0. 0. 0. 1. 1. 1. 1. 1. 1. 1. 1. 1. 1. 5. 5. 5. 5.\n",
            " 5. 5. 5. 5. 5. 5.]\n"
          ]
        }
      ]
    },
    {
      "cell_type": "code",
      "source": [],
      "metadata": {
        "id": "8Zq_GIBOpCqp"
      },
      "execution_count": null,
      "outputs": []
    }
  ]
}