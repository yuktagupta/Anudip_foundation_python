{
  "nbformat": 4,
  "nbformat_minor": 0,
  "metadata": {
    "colab": {
      "provenance": [],
      "authorship_tag": "ABX9TyMN8iyfceXT+GXS+PPe7DAn",
      "include_colab_link": true
    },
    "kernelspec": {
      "name": "python3",
      "display_name": "Python 3"
    },
    "language_info": {
      "name": "python"
    }
  },
  "cells": [
    {
      "cell_type": "markdown",
      "metadata": {
        "id": "view-in-github",
        "colab_type": "text"
      },
      "source": [
        "<a href=\"https://colab.research.google.com/github/yuktagupta/Anudip_foundation_python/blob/main/Numpy.ipynb\" target=\"_parent\"><img src=\"https://colab.research.google.com/assets/colab-badge.svg\" alt=\"Open In Colab\"/></a>"
      ]
    },
    {
      "cell_type": "code",
      "execution_count": null,
      "metadata": {
        "colab": {
          "base_uri": "https://localhost:8080/"
        },
        "id": "6Boxm0x7Uq6z",
        "outputId": "01bbe53f-bd78-4f8b-d682-28585abcf43a"
      },
      "outputs": [
        {
          "output_type": "stream",
          "name": "stdout",
          "text": [
            "Requirement already satisfied: numpy in /usr/local/lib/python3.11/dist-packages (2.0.2)\n"
          ]
        }
      ],
      "source": [
        "pip install numpy"
      ]
    },
    {
      "cell_type": "code",
      "source": [
        "import numpy as np\n",
        "arr =np.array([1,2,3],dtype =np.int32)\n",
        "print(arr)"
      ],
      "metadata": {
        "colab": {
          "base_uri": "https://localhost:8080/"
        },
        "id": "ZzXlmpFmWSZV",
        "outputId": "145bd7ef-338d-4350-e71e-3107509f4d97"
      },
      "execution_count": null,
      "outputs": [
        {
          "output_type": "stream",
          "name": "stdout",
          "text": [
            "[1 2 3]\n"
          ]
        }
      ]
    },
    {
      "cell_type": "code",
      "source": [
        "import numpy as np\n",
        "arr =np.array([100,200,300],dtype =np.int64)\n",
        "print(arr)"
      ],
      "metadata": {
        "colab": {
          "base_uri": "https://localhost:8080/"
        },
        "id": "P-dcxXKHXFlF",
        "outputId": "68e18b0e-7571-4b1e-88ef-f8f237338f9a"
      },
      "execution_count": null,
      "outputs": [
        {
          "output_type": "stream",
          "name": "stdout",
          "text": [
            "[100 200 300]\n"
          ]
        }
      ]
    },
    {
      "cell_type": "code",
      "source": [
        "import numpy as np\n",
        "arr = np.array([1.0,2.5,3.7],dtype=np.float64)\n",
        "print(arr)"
      ],
      "metadata": {
        "colab": {
          "base_uri": "https://localhost:8080/"
        },
        "id": "xzx6Rt58XJwS",
        "outputId": "dbee4d8d-f62b-4b98-ec4c-b558a2f55192"
      },
      "execution_count": null,
      "outputs": [
        {
          "output_type": "stream",
          "name": "stdout",
          "text": [
            "[1.  2.5 3.7]\n"
          ]
        }
      ]
    },
    {
      "cell_type": "code",
      "source": [
        "import numpy as np\n",
        "arr = np.array([1+ 2j,3 + 2j],dtype=np.complex128)\n",
        "print(arr)"
      ],
      "metadata": {
        "colab": {
          "base_uri": "https://localhost:8080/"
        },
        "id": "po_T07X4Xs0E",
        "outputId": "6fe4a7cf-73dd-449f-9559-4661b38db1ec"
      },
      "execution_count": null,
      "outputs": [
        {
          "output_type": "stream",
          "name": "stdout",
          "text": [
            "[1.+2.j 3.+2.j]\n"
          ]
        }
      ]
    },
    {
      "cell_type": "code",
      "source": [
        "import numpy as np\n",
        "arr =np.array([True,False],dtype=np.bool)\n",
        "print (arr)"
      ],
      "metadata": {
        "colab": {
          "base_uri": "https://localhost:8080/"
        },
        "id": "YnAEEC63YTf0",
        "outputId": "698f105e-679e-4dc7-c58f-35568fe74a94"
      },
      "execution_count": null,
      "outputs": [
        {
          "output_type": "stream",
          "name": "stdout",
          "text": [
            "[ True False]\n"
          ]
        }
      ]
    },
    {
      "cell_type": "code",
      "source": [
        "import numpy as np\n",
        "arr = np.array(['apple',2,3.5] ,dtype=np.object_)\n",
        "print(arr)"
      ],
      "metadata": {
        "colab": {
          "base_uri": "https://localhost:8080/"
        },
        "id": "HwRAsTmoYsBb",
        "outputId": "afdc17e3-e709-48b8-d8cc-85738006dc9c"
      },
      "execution_count": null,
      "outputs": [
        {
          "output_type": "stream",
          "name": "stdout",
          "text": [
            "['apple' 2 3.5]\n"
          ]
        }
      ]
    },
    {
      "cell_type": "code",
      "source": [
        "import numpy as np\n",
        "arr = np.array(['hello','world'] ,dtype=np.bytes_)\n",
        "print(arr)"
      ],
      "metadata": {
        "colab": {
          "base_uri": "https://localhost:8080/"
        },
        "id": "ezJ978oGZBAU",
        "outputId": "a72b6ffe-7d2a-4cb4-b5a3-ddd8200283c4"
      },
      "execution_count": null,
      "outputs": [
        {
          "output_type": "stream",
          "name": "stdout",
          "text": [
            "[b'hello' b'world']\n"
          ]
        }
      ]
    },
    {
      "cell_type": "code",
      "source": [
        "import numpy as np\n",
        "date_arr=np.array(['2023-10-03', '2023-10-04'],dtype=np.datetime64)\n",
        "print(date_arr)"
      ],
      "metadata": {
        "colab": {
          "base_uri": "https://localhost:8080/"
        },
        "id": "DOt20UsdZnhc",
        "outputId": "292392a7-fddf-44f3-a9fc-78910d2c8978"
      },
      "execution_count": null,
      "outputs": [
        {
          "output_type": "stream",
          "name": "stdout",
          "text": [
            "['2023-10-03' '2023-10-04']\n"
          ]
        }
      ]
    },
    {
      "cell_type": "code",
      "source": [
        "import numpy as np\n",
        "#Examplewithtimedelta64\n",
        "time_diff=np.array(['1days', '3hours'],dtype=np.timedelta64)\n",
        "print(time_diff)"
      ],
      "metadata": {
        "colab": {
          "base_uri": "https://localhost:8080/",
          "height": 200
        },
        "id": "OyOH8A8UaDLC",
        "outputId": "e4d01744-d8fb-4039-ce16-124530a0a494"
      },
      "execution_count": null,
      "outputs": [
        {
          "output_type": "error",
          "ename": "ValueError",
          "evalue": "Could not convert object to NumPy timedelta",
          "traceback": [
            "\u001b[0;31m---------------------------------------------------------------------------\u001b[0m",
            "\u001b[0;31mValueError\u001b[0m                                Traceback (most recent call last)",
            "\u001b[0;32m<ipython-input-21-5dd7131b8b03>\u001b[0m in \u001b[0;36m<cell line: 0>\u001b[0;34m()\u001b[0m\n\u001b[1;32m      1\u001b[0m \u001b[0;32mimport\u001b[0m \u001b[0mnumpy\u001b[0m \u001b[0;32mas\u001b[0m \u001b[0mnp\u001b[0m\u001b[0;34m\u001b[0m\u001b[0;34m\u001b[0m\u001b[0m\n\u001b[1;32m      2\u001b[0m \u001b[0;31m#Examplewithtimedelta64\u001b[0m\u001b[0;34m\u001b[0m\u001b[0;34m\u001b[0m\u001b[0m\n\u001b[0;32m----> 3\u001b[0;31m \u001b[0mtime_diff\u001b[0m\u001b[0;34m=\u001b[0m\u001b[0mnp\u001b[0m\u001b[0;34m.\u001b[0m\u001b[0marray\u001b[0m\u001b[0;34m(\u001b[0m\u001b[0;34m[\u001b[0m\u001b[0;34m'1days'\u001b[0m\u001b[0;34m,\u001b[0m \u001b[0;34m'3hours'\u001b[0m\u001b[0;34m]\u001b[0m\u001b[0;34m,\u001b[0m\u001b[0mdtype\u001b[0m\u001b[0;34m=\u001b[0m\u001b[0mnp\u001b[0m\u001b[0;34m.\u001b[0m\u001b[0mtimedelta64\u001b[0m\u001b[0;34m)\u001b[0m\u001b[0;34m\u001b[0m\u001b[0;34m\u001b[0m\u001b[0m\n\u001b[0m\u001b[1;32m      4\u001b[0m \u001b[0mprint\u001b[0m\u001b[0;34m(\u001b[0m\u001b[0mtime_diff\u001b[0m\u001b[0;34m)\u001b[0m\u001b[0;34m\u001b[0m\u001b[0;34m\u001b[0m\u001b[0m\n",
            "\u001b[0;31mValueError\u001b[0m: Could not convert object to NumPy timedelta"
          ]
        }
      ]
    },
    {
      "cell_type": "code",
      "source": [
        "import numpy as np\n",
        "#Examplewithtimedelta64\n",
        "# Changed the format of the strings to be compatible with timedelta64\n",
        "time_diff = np.array(['1D', '3h'], dtype=np.timedelta64)\n",
        "print(time_diff)"
      ],
      "metadata": {
        "colab": {
          "base_uri": "https://localhost:8080/",
          "height": 200
        },
        "id": "SJkCdnoKaONy",
        "outputId": "831d0221-360a-47a6-a567-a5c23abb1b83"
      },
      "execution_count": null,
      "outputs": [
        {
          "output_type": "error",
          "ename": "ValueError",
          "evalue": "Could not convert object to NumPy timedelta",
          "traceback": [
            "\u001b[0;31m---------------------------------------------------------------------------\u001b[0m",
            "\u001b[0;31mValueError\u001b[0m                                Traceback (most recent call last)",
            "\u001b[0;32m<ipython-input-22-c26f8d2c680f>\u001b[0m in \u001b[0;36m<cell line: 0>\u001b[0;34m()\u001b[0m\n\u001b[1;32m      2\u001b[0m \u001b[0;31m#Examplewithtimedelta64\u001b[0m\u001b[0;34m\u001b[0m\u001b[0;34m\u001b[0m\u001b[0m\n\u001b[1;32m      3\u001b[0m \u001b[0;31m# Changed the format of the strings to be compatible with timedelta64\u001b[0m\u001b[0;34m\u001b[0m\u001b[0;34m\u001b[0m\u001b[0m\n\u001b[0;32m----> 4\u001b[0;31m \u001b[0mtime_diff\u001b[0m \u001b[0;34m=\u001b[0m \u001b[0mnp\u001b[0m\u001b[0;34m.\u001b[0m\u001b[0marray\u001b[0m\u001b[0;34m(\u001b[0m\u001b[0;34m[\u001b[0m\u001b[0;34m'1D'\u001b[0m\u001b[0;34m,\u001b[0m \u001b[0;34m'3h'\u001b[0m\u001b[0;34m]\u001b[0m\u001b[0;34m,\u001b[0m \u001b[0mdtype\u001b[0m\u001b[0;34m=\u001b[0m\u001b[0mnp\u001b[0m\u001b[0;34m.\u001b[0m\u001b[0mtimedelta64\u001b[0m\u001b[0;34m)\u001b[0m\u001b[0;34m\u001b[0m\u001b[0;34m\u001b[0m\u001b[0m\n\u001b[0m\u001b[1;32m      5\u001b[0m \u001b[0mprint\u001b[0m\u001b[0;34m(\u001b[0m\u001b[0mtime_diff\u001b[0m\u001b[0;34m)\u001b[0m\u001b[0;34m\u001b[0m\u001b[0;34m\u001b[0m\u001b[0m\n",
            "\u001b[0;31mValueError\u001b[0m: Could not convert object to NumPy timedelta"
          ]
        }
      ]
    },
    {
      "cell_type": "code",
      "source": [
        "#CreatinganArrayfromaListorTuple\n",
        "import numpy as np\n",
        "arr1=np.array([1,2,3])\n",
        "arr2=np.array((4,5,6))\n",
        "print(\"ArrayfromList:\",arr1)\n",
        "print(\"ArrayfromTuple:\",arr2)"
      ],
      "metadata": {
        "colab": {
          "base_uri": "https://localhost:8080/"
        },
        "id": "4j3JK6Blad8r",
        "outputId": "f8e74b76-b3a4-474f-a546-14a794576e29"
      },
      "execution_count": null,
      "outputs": [
        {
          "output_type": "stream",
          "name": "stdout",
          "text": [
            "ArrayfromList: [1 2 3]\n",
            "ArrayfromTuple: [4 5 6]\n"
          ]
        }
      ]
    },
    {
      "cell_type": "code",
      "source": [
        "#CreatinganArraywithaSpecifiedDataType\n",
        "import numpy as np\n",
        "arr=np.array([1,2,3],dtype=float)\n",
        "print(\"ArraywithDataType:\",arr)"
      ],
      "metadata": {
        "colab": {
          "base_uri": "https://localhost:8080/"
        },
        "id": "hZJJRBpAapay",
        "outputId": "1aae558e-6b51-40eb-fb08-adc6d1295fcc"
      },
      "execution_count": null,
      "outputs": [
        {
          "output_type": "stream",
          "name": "stdout",
          "text": [
            "ArraywithDataType: [1. 2. 3.]\n"
          ]
        }
      ]
    },
    {
      "cell_type": "code",
      "source": [
        "#CreatinganArraywithaRangeofValues\n",
        "import numpy as np\n",
        "#arr.np.array(10)\n",
        "arr=np.arange(10)\n",
        "print(\"ArraywithRangeofValues:\",arr)"
      ],
      "metadata": {
        "colab": {
          "base_uri": "https://localhost:8080/"
        },
        "id": "0M3PoE7Ha8Is",
        "outputId": "b8c970ac-e389-483c-b1e7-5986b0df6d91"
      },
      "execution_count": null,
      "outputs": [
        {
          "output_type": "stream",
          "name": "stdout",
          "text": [
            "ArraywithRangeofValues: [0 1 2 3 4 5 6 7 8 9]\n"
          ]
        }
      ]
    },
    {
      "cell_type": "code",
      "source": [
        "#CreatinganArrayofZerosorOnes\n",
        "import numpy as np\n",
        "zeros_arr=np.zeros((2,3))\n",
        "ones_arr=np.ones((3,2))\n",
        "print(\"ArrayofZeros:\")\n",
        "print(zeros_arr)\n",
        "print(\"ArrayofOnes:\")\n",
        "print(ones_arr)"
      ],
      "metadata": {
        "colab": {
          "base_uri": "https://localhost:8080/"
        },
        "id": "5Hg8-pf6bLz6",
        "outputId": "420f2223-a0b5-44e4-e57b-16a0314d4a77"
      },
      "execution_count": null,
      "outputs": [
        {
          "output_type": "stream",
          "name": "stdout",
          "text": [
            "ArrayofZeros:\n",
            "[[0. 0. 0.]\n",
            " [0. 0. 0.]]\n",
            "ArrayofOnes:\n",
            "[[1. 1.]\n",
            " [1. 1.]\n",
            " [1. 1.]]\n"
          ]
        }
      ]
    },
    {
      "cell_type": "code",
      "source": [
        "#CreatinganArrayofZerosorOnes\n",
        "import numpy as np\n",
        "arr1=np.zeros(5)\n",
        "arr2=np.ones(5)\n",
        "print(\"ArrayofZeros:\",arr1)\n",
        "print(\"ArrayofOnes:\",arr2)"
      ],
      "metadata": {
        "colab": {
          "base_uri": "https://localhost:8080/"
        },
        "id": "9BibbiWIb3P8",
        "outputId": "b8fdc813-4eee-47e8-8998-40caca94c9ec"
      },
      "execution_count": null,
      "outputs": [
        {
          "output_type": "stream",
          "name": "stdout",
          "text": [
            "ArrayofZeros: [0. 0. 0. 0. 0.]\n",
            "ArrayofOnes: [1. 1. 1. 1. 1.]\n"
          ]
        }
      ]
    },
    {
      "cell_type": "code",
      "source": [
        "#CreatinganIdentityMatrix\n",
        "import numpy as np\n",
        "identity_matrix=np.eye(3)\n",
        "print(\"IdentityMatrix:\")\n",
        "print(identity_matrix)"
      ],
      "metadata": {
        "colab": {
          "base_uri": "https://localhost:8080/"
        },
        "id": "zKypjPIrb_Wz",
        "outputId": "7aa68a38-c853-481b-d2d7-48461ff1aa99"
      },
      "execution_count": null,
      "outputs": [
        {
          "output_type": "stream",
          "name": "stdout",
          "text": [
            "IdentityMatrix:\n",
            "[[1. 0. 0.]\n",
            " [0. 1. 0.]\n",
            " [0. 0. 1.]]\n"
          ]
        }
      ]
    },
    {
      "cell_type": "code",
      "source": [
        "#.NumPyArrayIndexing\n",
        "import numpy as np\n",
        "arr = np.array ([1,2,4,5,6])\n",
        "print(\"Element at index 0:\", arr[0])\n",
        "print(\"Element at index 0:\", arr[2])\n",
        "\n",
        "print(\"Last element:\", arr[-1])\n",
        "print(\"second-to-Last element:\", arr[-2])\n",
        "#slicing array\n",
        "print(\"Elements from index 1 to 3:\", arr[1:4])\n",
        "#using slicing\n",
        "print(\"Every second element:\", arr[::2])"
      ],
      "metadata": {
        "colab": {
          "base_uri": "https://localhost:8080/"
        },
        "id": "gL2szrc3cZcj",
        "outputId": "e882a354-990e-4979-da34-672cf205adb8"
      },
      "execution_count": null,
      "outputs": [
        {
          "output_type": "stream",
          "name": "stdout",
          "text": [
            "Element at index 0: 1\n",
            "Element at index 0: 4\n",
            "Last element: 6\n",
            "second-to-Last element: 5\n",
            "Elements from index 1 to 3: [2 4 5]\n",
            "Every second element: [1 4 6]\n"
          ]
        }
      ]
    },
    {
      "cell_type": "code",
      "source": [
        "np.zeros((3,3))"
      ],
      "metadata": {
        "colab": {
          "base_uri": "https://localhost:8080/"
        },
        "id": "mWEMMgK6dF1K",
        "outputId": "aa0a79b6-8928-4f55-c875-c0fd8f71ed9f"
      },
      "execution_count": null,
      "outputs": [
        {
          "output_type": "execute_result",
          "data": {
            "text/plain": [
              "array([[0., 0., 0.],\n",
              "       [0., 0., 0.],\n",
              "       [0., 0., 0.]])"
            ]
          },
          "metadata": {},
          "execution_count": 34
        }
      ]
    },
    {
      "cell_type": "code",
      "source": [
        "np.ones((2,2))"
      ],
      "metadata": {
        "colab": {
          "base_uri": "https://localhost:8080/"
        },
        "id": "JQWhF_LYeWiC",
        "outputId": "d746dc83-d36e-47b1-cefb-685d0e8e9135"
      },
      "execution_count": null,
      "outputs": [
        {
          "output_type": "execute_result",
          "data": {
            "text/plain": [
              "array([[1., 1.],\n",
              "       [1., 1.]])"
            ]
          },
          "metadata": {},
          "execution_count": 35
        }
      ]
    },
    {
      "cell_type": "code",
      "source": [
        "np.eye(3)"
      ],
      "metadata": {
        "colab": {
          "base_uri": "https://localhost:8080/"
        },
        "id": "VnsfbBsMed7o",
        "outputId": "38c1b475-b52f-4cdb-a76b-a069eb6f95a2"
      },
      "execution_count": null,
      "outputs": [
        {
          "output_type": "execute_result",
          "data": {
            "text/plain": [
              "array([[1., 0., 0.],\n",
              "       [0., 1., 0.],\n",
              "       [0., 0., 1.]])"
            ]
          },
          "metadata": {},
          "execution_count": 36
        }
      ]
    },
    {
      "cell_type": "code",
      "source": [
        "#np.rand(np.random.rand(3,3))\n",
        "# Use np.random.rand() to generate random numbers\n",
        "np.random.rand(3,3)*6"
      ],
      "metadata": {
        "colab": {
          "base_uri": "https://localhost:8080/"
        },
        "id": "25P3cJbVe0m6",
        "outputId": "6156eb4c-ff3a-4a02-b562-94c645a4ffca"
      },
      "execution_count": null,
      "outputs": [
        {
          "output_type": "execute_result",
          "data": {
            "text/plain": [
              "array([[4.11708455, 1.74549008, 5.8498449 ],\n",
              "       [5.29776257, 2.93198142, 0.63964832],\n",
              "       [2.72659688, 3.84826418, 3.18248148]])"
            ]
          },
          "metadata": {},
          "execution_count": 39
        }
      ]
    },
    {
      "cell_type": "code",
      "source": [
        "#array name[row_index,column_index]\n",
        "# Create and assign an array to a variable\n",
        "some_array = np.array([[10, 20, 30], [40, 50, 60], [70, 80, 90]])\n",
        "\n",
        "# Now you can index 'some_array'\n",
        "print(some_array[1,1])"
      ],
      "metadata": {
        "colab": {
          "base_uri": "https://localhost:8080/"
        },
        "id": "s6vNIhshff8J",
        "outputId": "32bf2db0-cace-48ab-a184-7b914df2b609"
      },
      "execution_count": null,
      "outputs": [
        {
          "output_type": "stream",
          "name": "stdout",
          "text": [
            "50\n"
          ]
        }
      ]
    },
    {
      "cell_type": "code",
      "source": [
        "##Hi! I am new to Python numpy. Can you generate some real world situations where I can use a numpyarray with some source code.\n",
        "import numpy as np\n",
        "\n",
        "# Daily temperatures (°C) for one week\n",
        "temps = np.array([22.4, 24.1, 23.0, 25.6, 24.8, 26.1, 23.9])\n",
        "\n",
        "# Find average, min, max\n",
        "avg_temp = np.mean(temps)\n",
        "min_temp = np.min(temps)\n",
        "max_temp = np.max(temps)\n",
        "\n",
        "print(f\"Average Temperature: {avg_temp:.1f}°C\")\n",
        "print(f\"Minimum Temperature: {min_temp}°C\")\n",
        "print(f\"Maximum Temperature: {max_temp}°C\")\n"
      ],
      "metadata": {
        "colab": {
          "base_uri": "https://localhost:8080/"
        },
        "id": "UVE3YaMBgFC5",
        "outputId": "f2e8153c-41cd-43a7-e92c-b892c6a31c70"
      },
      "execution_count": null,
      "outputs": [
        {
          "output_type": "stream",
          "name": "stdout",
          "text": [
            "Average Temperature: 24.3°C\n",
            "Minimum Temperature: 22.4°C\n",
            "Maximum Temperature: 26.1°C\n"
          ]
        }
      ]
    },
    {
      "cell_type": "markdown",
      "source": [
        "# Numpy Slicing"
      ],
      "metadata": {
        "id": "A7ZcZQm0h-_7"
      }
    },
    {
      "cell_type": "code",
      "source": [
        "#Basic Slicing\n",
        "import numpy as np\n",
        "arr = np.array([0, 1, 2, 3, 4, 5])\n",
        "#Extract elements from index 1 to 4 (exclusive)\n",
        "sliced_array = arr[1:4]\n",
        "print(sliced_array)"
      ],
      "metadata": {
        "colab": {
          "base_uri": "https://localhost:8080/"
        },
        "id": "bRCdvHFEiJ2J",
        "outputId": "d07b40fc-9fe8-49e8-a8ab-d821360f485f"
      },
      "execution_count": null,
      "outputs": [
        {
          "output_type": "stream",
          "name": "stdout",
          "text": [
            "[1 2 3]\n"
          ]
        }
      ]
    },
    {
      "cell_type": "code",
      "source": [
        "#Step Slicing\n",
        "sliced_array = arr[-3:]\n",
        "print(sliced_array)"
      ],
      "metadata": {
        "colab": {
          "base_uri": "https://localhost:8080/"
        },
        "id": "3ApWpdfuiSIx",
        "outputId": "bb4e4d3f-1f56-4239-a788-24ea52a74fa0"
      },
      "execution_count": null,
      "outputs": [
        {
          "output_type": "stream",
          "name": "stdout",
          "text": [
            "[3 4 5]\n"
          ]
        }
      ]
    },
    {
      "cell_type": "code",
      "source": [
        "#Multidimensional Array Slicing\n",
        "arr = np.array([[1, 2, 3], [4, 5, 6], [7, 8, 9]])\n",
        "row = arr[1, :]\n",
        "print(row)\n",
        "col = arr[:, 1]\n",
        "print(col)"
      ],
      "metadata": {
        "colab": {
          "base_uri": "https://localhost:8080/"
        },
        "id": "rtr_saEniexa",
        "outputId": "591b5ec1-0657-4d8c-dfc7-cb8ba04e4605"
      },
      "execution_count": null,
      "outputs": [
        {
          "output_type": "stream",
          "name": "stdout",
          "text": [
            "[4 5 6]\n",
            "[2 5 8]\n"
          ]
        }
      ]
    },
    {
      "cell_type": "code",
      "source": [
        "#Boolean Indexing\n",
        "condition = arr > 2\n",
        "filtered_array = arr[condition]\n",
        "print(filtered_array)"
      ],
      "metadata": {
        "colab": {
          "base_uri": "https://localhost:8080/"
        },
        "id": "Y0w_TgCjir8o",
        "outputId": "678b4629-1cf2-47f5-c7be-6db447d0dc72"
      },
      "execution_count": null,
      "outputs": [
        {
          "output_type": "stream",
          "name": "stdout",
          "text": [
            "[3 4 5 6 7 8 9]\n"
          ]
        }
      ]
    },
    {
      "cell_type": "code",
      "source": [
        "arr = np.array([0, 1, 2, 3, 4, 5])\n",
        "arr[1:4] = 10\n",
        "print(arr)"
      ],
      "metadata": {
        "colab": {
          "base_uri": "https://localhost:8080/"
        },
        "id": "ZMZTQqNFjAZJ",
        "outputId": "672c8015-14e6-4c9f-deeb-0a71bb4dad36"
      },
      "execution_count": null,
      "outputs": [
        {
          "output_type": "stream",
          "name": "stdout",
          "text": [
            "[ 0 10 10 10  4  5]\n"
          ]
        }
      ]
    },
    {
      "cell_type": "code",
      "source": [
        "# NumPy Array Copy v/s View\n",
        "original_array = np.array([1,2,3,4,5])\n",
        "copied_array = original_array.copy()\n",
        "copied_array[0] = 100\n",
        "print(\"original_array:\",original_array)\n",
        "print(\"copied_array:\",copied_array)"
      ],
      "metadata": {
        "colab": {
          "base_uri": "https://localhost:8080/"
        },
        "id": "LqSa6a_JjJ3Y",
        "outputId": "8ee1210e-0f02-49b2-9a81-397881b4c0e7"
      },
      "execution_count": null,
      "outputs": [
        {
          "output_type": "stream",
          "name": "stdout",
          "text": [
            "original_array: [1 2 3 4 5]\n",
            "copied_array: [100   2   3   4   5]\n"
          ]
        }
      ]
    },
    {
      "cell_type": "code",
      "source": [
        "arr = np.array([[1, 2, 3], [4, 5, 6]])\n",
        "shape =arr.shape\n",
        "print(\"shape into the array :\",shape)"
      ],
      "metadata": {
        "colab": {
          "base_uri": "https://localhost:8080/"
        },
        "id": "2kzYgFqOj98R",
        "outputId": "5471957f-792a-4185-b2de-8285e45ccadc"
      },
      "execution_count": null,
      "outputs": [
        {
          "output_type": "stream",
          "name": "stdout",
          "text": [
            "shape into the array : (2, 3)\n"
          ]
        }
      ]
    },
    {
      "cell_type": "code",
      "source": [
        "#Reshaping with -1\n",
        "arr = np.array([1, 2, 3, 4, 5, 6])\n",
        "reshaped_array = arr.reshape(3, -1)\n",
        "print(\"Reshaped array:\")\n",
        "print(reshaped_array)"
      ],
      "metadata": {
        "colab": {
          "base_uri": "https://localhost:8080/"
        },
        "id": "PSf0efoakSfp",
        "outputId": "5868c961-5147-45a2-8f79-e13e356758e7"
      },
      "execution_count": null,
      "outputs": [
        {
          "output_type": "stream",
          "name": "stdout",
          "text": [
            "Reshaped array:\n",
            "[[1 2]\n",
            " [3 4]\n",
            " [5 6]]\n"
          ]
        }
      ]
    },
    {
      "cell_type": "code",
      "source": [
        "#1. Hi! Let's create a real-life example involving weather data. Use NumPy to analyze temperature data for a week, perform slicing, indexing, shaping, and reshaping operations, and calculate various statistics.\n",
        "import numpy as np\n",
        "temperatures = np.array([\n",
        "    [30.5, 32.0, 31.8, 33.2, 34.0, 32.5, 31.0],  # City A\n",
        "    [25.0, 26.5, 27.2, 28.0, 27.8, 26.9, 25.5]   # City B\n",
        "    ])\n",
        "\n",
        "print(\"Original Temperature Data:\\n\", temperatures)\n"
      ],
      "metadata": {
        "colab": {
          "base_uri": "https://localhost:8080/"
        },
        "id": "Lbe7TzmZkdsY",
        "outputId": "2d0eae89-ab89-46de-de53-11807b8146ef"
      },
      "execution_count": null,
      "outputs": [
        {
          "output_type": "stream",
          "name": "stdout",
          "text": [
            "Original Temperature Data:\n",
            " [[30.5 32.  31.8 33.2 34.  32.5 31. ]\n",
            " [25.  26.5 27.2 28.  27.8 26.9 25.5]]\n"
          ]
        }
      ]
    },
    {
      "cell_type": "code",
      "source": [
        "#1. Write a NumPy program to create an array of 10 zeros, 10 ones, and 10 fives.\n",
        "import numpy as np\n",
        "\n",
        "zeros_array = np.zeros(10)\n",
        "ones_array = np.ones(10)\n",
        "fives_array = np.full(10 , 5)\n",
        "\n",
        "print(\"Array of 10 Zeros:\", zeros_array)\n",
        "print(\"Array of 10 Ones:\", ones_array)\n",
        "print(\"Array of 10 Fives:\", fives_array)\n"
      ],
      "metadata": {
        "colab": {
          "base_uri": "https://localhost:8080/"
        },
        "id": "OJA6d6BKmzsJ",
        "outputId": "7fcbd037-b1ab-4b3c-936d-8839a7eb0d3e"
      },
      "execution_count": null,
      "outputs": [
        {
          "output_type": "stream",
          "name": "stdout",
          "text": [
            "Array of 10 Zeros: [0. 0. 0. 0. 0. 0. 0. 0. 0. 0.]\n",
            "Array of 10 Ones: [1. 1. 1. 1. 1. 1. 1. 1. 1. 1.]\n",
            "Array of 10 Fives: [5 5 5 5 5 5 5 5 5 5]\n"
          ]
        }
      ]
    },
    {
      "cell_type": "code",
      "source": [
        "##Write a NumPy program to create a 3x3 matrix with values ranging from 2 to 10.\n",
        "import numpy as np\n",
        "matrix = np.arange(2, 11).reshape(3, 3)\n",
        "print(\"3x3 Matrix with Values from 2 to 10:\")\n",
        "print(matrix)"
      ],
      "metadata": {
        "colab": {
          "base_uri": "https://localhost:8080/"
        },
        "id": "ZtUP4vrKnvI4",
        "outputId": "bc6b694e-f088-4c95-8672-edb9cca41b38"
      },
      "execution_count": null,
      "outputs": [
        {
          "output_type": "stream",
          "name": "stdout",
          "text": [
            "3x3 Matrix with Values from 2 to 10:\n",
            "[[ 2  3  4]\n",
            " [ 5  6  7]\n",
            " [ 8  9 10]]\n"
          ]
        }
      ]
    },
    {
      "cell_type": "code",
      "source": [
        "#1. Write a NumPy program to create an array of 10 zeros, 10 ones, and 10 fives.\n",
        "import numpy as np\n",
        "zeros_array = np.zeros(10)\n",
        "ones_array = np.ones(10)\n",
        "fives_array = np.full(10, 5)\n",
        "combined_array = np.concatenate([zeros_array, ones_array, fives_array])"
      ],
      "metadata": {
        "id": "bcH2LizBn5-y"
      },
      "execution_count": null,
      "outputs": []
    },
    {
      "cell_type": "code",
      "source": [
        "print(\"Combined Array:\")\n",
        "print(combined_array)"
      ],
      "metadata": {
        "colab": {
          "base_uri": "https://localhost:8080/"
        },
        "id": "vWJEk4xQoNf5",
        "outputId": "bc0e7650-d479-4b2c-b0e6-df36a69ce6bb"
      },
      "execution_count": null,
      "outputs": [
        {
          "output_type": "stream",
          "name": "stdout",
          "text": [
            "Combined Array:\n",
            "[0. 0. 0. 0. 0. 0. 0. 0. 0. 0. 1. 1. 1. 1. 1. 1. 1. 1. 1. 1. 5. 5. 5. 5.\n",
            " 5. 5. 5. 5. 5. 5.]\n"
          ]
        }
      ]
    },
    {
      "cell_type": "markdown",
      "source": [
        "# Numpy Function"
      ],
      "metadata": {
        "id": "qGzOD0Bdv2hS"
      }
    },
    {
      "cell_type": "code",
      "source": [
        "import numpy as np\n",
        "b = np.random.rand(3,3)"
      ],
      "metadata": {
        "id": "8Zq_GIBOpCqp",
        "colab": {
          "base_uri": "https://localhost:8080/"
        },
        "outputId": "96e16340-368b-4a18-eb52-c17963e40dea"
      },
      "execution_count": null,
      "outputs": [
        {
          "output_type": "execute_result",
          "data": {
            "text/plain": [
              "array([[0.40519076, 0.71416439, 0.31801685],\n",
              "       [0.4597027 , 0.0569696 , 0.98403708],\n",
              "       [0.67173437, 0.69352399, 0.9755202 ]])"
            ]
          },
          "metadata": {},
          "execution_count": 3
        }
      ]
    },
    {
      "cell_type": "code",
      "source": [
        "import numpy as np\n",
        "\n",
        "# Define the variable b\n",
        "b = np.random.rand(3, 3)\n",
        "\n",
        "# Now you can use b with np.transpose\n",
        "np.transpose(b)"
      ],
      "metadata": {
        "colab": {
          "base_uri": "https://localhost:8080/"
        },
        "id": "nI0_Vfgx2Wx6",
        "outputId": "843efa89-bddd-434f-f58e-edc83df7c475"
      },
      "execution_count": null,
      "outputs": [
        {
          "output_type": "execute_result",
          "data": {
            "text/plain": [
              "array([[0.97953251, 0.73776782, 0.34517628],\n",
              "       [0.47116732, 0.02134766, 0.74213114],\n",
              "       [0.35384694, 0.94994933, 0.86324711]])"
            ]
          },
          "metadata": {},
          "execution_count": 16
        }
      ]
    },
    {
      "cell_type": "code",
      "source": [
        "a = np.random.randn(3)"
      ],
      "metadata": {
        "id": "WkjfesrO1Piz"
      },
      "execution_count": null,
      "outputs": []
    },
    {
      "cell_type": "code",
      "source": [
        "a"
      ],
      "metadata": {
        "colab": {
          "base_uri": "https://localhost:8080/"
        },
        "id": "Mp4jbd3f1gQZ",
        "outputId": "999389b8-968b-4068-f368-5f78f9a21155"
      },
      "execution_count": null,
      "outputs": [
        {
          "output_type": "execute_result",
          "data": {
            "text/plain": [
              "array([ 0.93130353, -1.67805848, -0.05173439])"
            ]
          },
          "metadata": {},
          "execution_count": 6
        }
      ]
    },
    {
      "cell_type": "code",
      "source": [
        "np.where(a>5)"
      ],
      "metadata": {
        "colab": {
          "base_uri": "https://localhost:8080/"
        },
        "id": "p7M9EtAG1jN6",
        "outputId": "68ed6452-27ce-426e-8e0d-92fa81a78252"
      },
      "execution_count": null,
      "outputs": [
        {
          "output_type": "execute_result",
          "data": {
            "text/plain": [
              "(array([], dtype=int64),)"
            ]
          },
          "metadata": {},
          "execution_count": 7
        }
      ]
    },
    {
      "cell_type": "code",
      "source": [
        "a.T"
      ],
      "metadata": {
        "colab": {
          "base_uri": "https://localhost:8080/"
        },
        "id": "4BFZyZgM1q1R",
        "outputId": "e6ab8ef7-8401-4aa9-9a97-b9ff5a0ecaaa"
      },
      "execution_count": null,
      "outputs": [
        {
          "output_type": "execute_result",
          "data": {
            "text/plain": [
              "array([ 0.93130353, -1.67805848, -0.05173439])"
            ]
          },
          "metadata": {},
          "execution_count": 9
        }
      ]
    },
    {
      "cell_type": "code",
      "source": [
        "np.mean(a)"
      ],
      "metadata": {
        "colab": {
          "base_uri": "https://localhost:8080/"
        },
        "id": "bA4QNThm1tqZ",
        "outputId": "a637ae97-a8db-4743-fa5d-f78256605273"
      },
      "execution_count": null,
      "outputs": [
        {
          "output_type": "execute_result",
          "data": {
            "text/plain": [
              "np.float64(-0.26616311405528975)"
            ]
          },
          "metadata": {},
          "execution_count": 17
        }
      ]
    },
    {
      "cell_type": "code",
      "source": [
        "np.argmax(a)"
      ],
      "metadata": {
        "colab": {
          "base_uri": "https://localhost:8080/"
        },
        "id": "loZRrjKl1-Lp",
        "outputId": "84f8f18b-286d-4954-ab6c-535357d2840d"
      },
      "execution_count": null,
      "outputs": [
        {
          "output_type": "execute_result",
          "data": {
            "text/plain": [
              "np.int64(0)"
            ]
          },
          "metadata": {},
          "execution_count": 18
        }
      ]
    },
    {
      "cell_type": "code",
      "source": [
        "a"
      ],
      "metadata": {
        "colab": {
          "base_uri": "https://localhost:8080/"
        },
        "id": "1H6FCK3j2x05",
        "outputId": "43c25a45-16ca-4f26-809c-079928697ff2"
      },
      "execution_count": null,
      "outputs": [
        {
          "output_type": "execute_result",
          "data": {
            "text/plain": [
              "array([ 0.93130353, -1.67805848, -0.05173439])"
            ]
          },
          "metadata": {},
          "execution_count": 19
        }
      ]
    },
    {
      "cell_type": "code",
      "source": [
        "a[np.argmax(a)]"
      ],
      "metadata": {
        "colab": {
          "base_uri": "https://localhost:8080/"
        },
        "id": "0KgigcrH4DQp",
        "outputId": "f679444a-3d9b-4b8e-e39f-9ef19c50cdc0"
      },
      "execution_count": null,
      "outputs": [
        {
          "output_type": "execute_result",
          "data": {
            "text/plain": [
              "np.float64(0.9313035298385969)"
            ]
          },
          "metadata": {},
          "execution_count": 21
        }
      ]
    },
    {
      "cell_type": "code",
      "source": [
        "import numpy as np\n",
        "arr =np.array([1,3,4,5,6])\n",
        "max_index=np.argmax(arr)\n",
        "min_index = np.argmax(arr)\n",
        "print (\"index of maximum Value\",max_index)\n",
        "print (\"index of minimum Value\",min_index)"
      ],
      "metadata": {
        "colab": {
          "base_uri": "https://localhost:8080/"
        },
        "id": "q1vAFB8g214p",
        "outputId": "5c385a31-5b12-465a-f79f-1a922bdfdd69"
      },
      "execution_count": null,
      "outputs": [
        {
          "output_type": "stream",
          "name": "stdout",
          "text": [
            "index of maximum Value 4\n",
            "index of minimum Value 4\n"
          ]
        }
      ]
    },
    {
      "cell_type": "code",
      "source": [
        "np.argmin(a)"
      ],
      "metadata": {
        "colab": {
          "base_uri": "https://localhost:8080/"
        },
        "id": "h_1UNHsT3toR",
        "outputId": "145f9820-8a5e-4d9a-a093-2593e9a8e085"
      },
      "execution_count": null,
      "outputs": [
        {
          "output_type": "execute_result",
          "data": {
            "text/plain": [
              "np.int64(1)"
            ]
          },
          "metadata": {},
          "execution_count": 22
        }
      ]
    },
    {
      "cell_type": "code",
      "source": [
        "np.searchsorted(a,0.93130353)"
      ],
      "metadata": {
        "colab": {
          "base_uri": "https://localhost:8080/"
        },
        "id": "EVlbiuVz4Tox",
        "outputId": "128a0e04-f441-48d1-9ea6-a60e4aacddee"
      },
      "execution_count": null,
      "outputs": [
        {
          "output_type": "execute_result",
          "data": {
            "text/plain": [
              "np.int64(3)"
            ]
          },
          "metadata": {},
          "execution_count": 23
        }
      ]
    },
    {
      "cell_type": "code",
      "source": [
        "np.extract(a>5,a) ##filter"
      ],
      "metadata": {
        "colab": {
          "base_uri": "https://localhost:8080/"
        },
        "id": "KrEg7tfN4--R",
        "outputId": "1bc6305f-75df-43dd-c725-db2529d0a0e2"
      },
      "execution_count": null,
      "outputs": [
        {
          "output_type": "execute_result",
          "data": {
            "text/plain": [
              "array([], dtype=float64)"
            ]
          },
          "metadata": {},
          "execution_count": 24
        }
      ]
    },
    {
      "cell_type": "code",
      "source": [
        "a = np.random.rand(6)"
      ],
      "metadata": {
        "id": "p8Zr1ugF5Eog"
      },
      "execution_count": null,
      "outputs": []
    },
    {
      "cell_type": "code",
      "source": [
        "a"
      ],
      "metadata": {
        "colab": {
          "base_uri": "https://localhost:8080/"
        },
        "id": "UwI1_Jz25rAB",
        "outputId": "3bf6557f-965f-4751-9cbb-676c3b155cd9"
      },
      "execution_count": null,
      "outputs": [
        {
          "output_type": "execute_result",
          "data": {
            "text/plain": [
              "array([0.45502856, 0.84908545, 0.97600743, 0.61758778, 0.82863554,\n",
              "       0.14788163])"
            ]
          },
          "metadata": {},
          "execution_count": 27
        }
      ]
    },
    {
      "cell_type": "code",
      "source": [
        "np.split(a,3)"
      ],
      "metadata": {
        "colab": {
          "base_uri": "https://localhost:8080/"
        },
        "id": "IrxAGQWh5uzh",
        "outputId": "6cd2f05c-7946-41fe-d199-c8baa087e6ae"
      },
      "execution_count": null,
      "outputs": [
        {
          "output_type": "execute_result",
          "data": {
            "text/plain": [
              "[array([0.45502856, 0.84908545]),\n",
              " array([0.97600743, 0.61758778]),\n",
              " array([0.82863554, 0.14788163])]"
            ]
          },
          "metadata": {},
          "execution_count": 28
        }
      ]
    },
    {
      "cell_type": "code",
      "source": [
        "np.sort(a)"
      ],
      "metadata": {
        "colab": {
          "base_uri": "https://localhost:8080/"
        },
        "id": "g6pJbBsk51ZR",
        "outputId": "2969f42c-a864-4610-d63c-c58c08c5ed61"
      },
      "execution_count": null,
      "outputs": [
        {
          "output_type": "execute_result",
          "data": {
            "text/plain": [
              "array([0.14788163, 0.45502856, 0.61758778, 0.82863554, 0.84908545,\n",
              "       0.97600743])"
            ]
          },
          "metadata": {},
          "execution_count": 29
        }
      ]
    },
    {
      "cell_type": "code",
      "source": [
        "np.sort(a)[::-1]"
      ],
      "metadata": {
        "colab": {
          "base_uri": "https://localhost:8080/"
        },
        "id": "foPaW1Xk6EYa",
        "outputId": "c2bbd21d-03e0-4ebe-db7f-e9aaef396578"
      },
      "execution_count": null,
      "outputs": [
        {
          "output_type": "execute_result",
          "data": {
            "text/plain": [
              "array([0.97600743, 0.84908545, 0.82863554, 0.61758778, 0.45502856,\n",
              "       0.14788163])"
            ]
          },
          "metadata": {},
          "execution_count": 30
        }
      ]
    },
    {
      "cell_type": "code",
      "source": [
        "#Using array.sort() for In-Place Sorting:\n",
        "import numpy as np\n",
        "arr=np.array([3,2,1,5,4])\n",
        "arr .sort()\n",
        "print(\"sort array (ascending):\",arr)\n",
        "arr[::-1].sort()\n",
        "print(\"sort array(descending):\",arr)"
      ],
      "metadata": {
        "colab": {
          "base_uri": "https://localhost:8080/"
        },
        "id": "i2aYM6QP6QK5",
        "outputId": "40f3619e-d2c6-45fb-b371-401869395831"
      },
      "execution_count": null,
      "outputs": [
        {
          "output_type": "stream",
          "name": "stdout",
          "text": [
            "sort array (ascending): [1 2 3 4 5]\n",
            "sort array(descending): [5 4 3 2 1]\n"
          ]
        }
      ]
    },
    {
      "cell_type": "code",
      "source": [
        "import numpy as np\n",
        "matrix = np.array([[3, 1, 2], [6, 5, 4]])\n",
        "sorted_matrix = np.sort(matrix, axis=1)\n",
        "print(\"Sorted matrix (ascending along rows):\")\n",
        "print(sorted_matrix)"
      ],
      "metadata": {
        "colab": {
          "base_uri": "https://localhost:8080/"
        },
        "id": "ZFWNnOye7FOC",
        "outputId": "67d4808f-eaab-45d1-ebfe-042cbe056b7b"
      },
      "execution_count": null,
      "outputs": [
        {
          "output_type": "stream",
          "name": "stdout",
          "text": [
            "Sorted matrix (ascending along rows):\n",
            "[[1 2 3]\n",
            " [4 5 6]]\n"
          ]
        }
      ]
    },
    {
      "cell_type": "code",
      "source": [
        "arr1 = np.array([[1, 2], [3, 4]])\n",
        "arr2 = np.array([[5, 6]])\n",
        "result = np.concatenate((arr1, arr2), axis=0)\n",
        "print(result)"
      ],
      "metadata": {
        "colab": {
          "base_uri": "https://localhost:8080/"
        },
        "id": "M-dF61Ox7g8B",
        "outputId": "55d623f5-3c1d-4a81-dffd-2ba255479ab3"
      },
      "execution_count": null,
      "outputs": [
        {
          "output_type": "stream",
          "name": "stdout",
          "text": [
            "[[1 2]\n",
            " [3 4]\n",
            " [5 6]]\n"
          ]
        }
      ]
    },
    {
      "cell_type": "code",
      "source": [
        "arr1 = np.array([[1, 2], [3, 4]])\n",
        "arr2 = np.array([[5], [6]])\n",
        "\n",
        "result = np.concatenate((arr1, arr2), axis=1)\n",
        "print(result)"
      ],
      "metadata": {
        "colab": {
          "base_uri": "https://localhost:8080/"
        },
        "id": "SR1AXtBA7ryB",
        "outputId": "9779f3c0-fc72-4b9e-d071-66d49d6d97a8"
      },
      "execution_count": null,
      "outputs": [
        {
          "output_type": "stream",
          "name": "stdout",
          "text": [
            "[[1 2 5]\n",
            " [3 4 6]]\n"
          ]
        }
      ]
    },
    {
      "cell_type": "code",
      "source": [
        "##1. Suppose you have a dataset containing daily temperature readings for a city, and you\n",
        "# want to identify days with extreme temperature conditions. Find days where the\n",
        "# temperature either exceeded 35 degrees Celsius (hot day) or dropped below 5 degrees\n",
        "# Celsius (cold day).\n",
        "# Input:\n",
        "# temperatures = np.array([32.5, 34.2, 36.8, 29.3, 31.0, 38.7, 23.1, 18.5, 22.8, 37.2])\n",
        "\n",
        "import numpy as np\n",
        "\n",
        "temperatures = np.array([32.5, 34.2, 36.8, 29.3, 31.0, 38.7, 23.1, 18.5, 22.8, 37.2])\n",
        "\n",
        "# hot days (>35°C)\n",
        "hot_days = temperatures > 35\n",
        "\n",
        "# cold days (<5°C)\n",
        "cold_days = temperatures < 5\n",
        "\n",
        "print(\"Extreme Temperature Days:\")\n",
        "for i in range(len(temperatures)):\n",
        "    if hot_days[i]:\n",
        "        print(f\"Day {i+1}: {temperatures[i]}°C - Hot Day\")\n",
        "    elif cold_days[i]:\n",
        "        print(f\"Day {i+1}: {temperatures[i]}°C - Cold Day\")\n"
      ],
      "metadata": {
        "colab": {
          "base_uri": "https://localhost:8080/"
        },
        "id": "xjrQZc56AyF2",
        "outputId": "ddd912c8-4bf3-413e-ea86-0d4f7a44b966"
      },
      "execution_count": null,
      "outputs": [
        {
          "output_type": "stream",
          "name": "stdout",
          "text": [
            "Extreme Temperature Days:\n",
            "Day 3: 36.8°C - Hot Day\n",
            "Day 6: 38.7°C - Hot Day\n",
            "Day 10: 37.2°C - Hot Day\n"
          ]
        }
      ]
    },
    {
      "cell_type": "code",
      "source": [
        "import numpy as np\n",
        "\n",
        "# Sample temperature data for 10 days (in Celsius)\n",
        "temperatures = np.array([12, 37, 4, 29, 36, 2, 25, 5, 38, 3])\n",
        "#temperatures = np.array([32.5, 34.2, 36.8, 29.3, 31.0, 38.7, 23.1, 18.5, 22.8, 37.2])\n",
        "\n",
        "# hot days (>35°C)\n",
        "hot_days = temperatures > 35\n",
        "\n",
        "# cold days (<5°C)\n",
        "cold_days = temperatures < 5\n",
        "\n",
        "extreme_days = hot_days | cold_days\n",
        "\n",
        "print(\"Extreme temperature days:\")\n",
        "for i, is_extreme in enumerate(extreme_days):\n",
        "    if is_extreme:\n",
        "        condition = \"Hot Day\" if hot_days[i] else \"Cold Day\"\n",
        "        print(f\"Day {i+1}: {temperatures[i]}°C → {condition}\")\n"
      ],
      "metadata": {
        "colab": {
          "base_uri": "https://localhost:8080/"
        },
        "id": "WjzHxhK4CJyw",
        "outputId": "f96ace09-13ea-4373-ddb9-8a3cc059a60c"
      },
      "execution_count": null,
      "outputs": [
        {
          "output_type": "stream",
          "name": "stdout",
          "text": [
            "Extreme temperature days:\n",
            "Day 2: 37°C → Hot Day\n",
            "Day 3: 4°C → Cold Day\n",
            "Day 5: 36°C → Hot Day\n",
            "Day 6: 2°C → Cold Day\n",
            "Day 9: 38°C → Hot Day\n",
            "Day 10: 3°C → Cold Day\n"
          ]
        }
      ]
    },
    {
      "cell_type": "markdown",
      "source": [
        "# Numpy Stastical Function"
      ],
      "metadata": {
        "id": "WaKchF2wHPnj"
      }
    },
    {
      "cell_type": "markdown",
      "source": [
        "You have to prepare by yourself till monday: Percentile, Std Deviation, Variance, IQR\n",
        "\n",
        "\n",
        "\n"
      ],
      "metadata": {
        "id": "s0qn5FlpIclG"
      }
    },
    {
      "cell_type": "code",
      "source": [
        "import numpy as np\n",
        "temperatures = np.array([72, 68, 74, 80, 79, 82, 75])\n",
        "average_temperature = np.mean(temperatures)\n",
        "print(average_temperature)"
      ],
      "metadata": {
        "colab": {
          "base_uri": "https://localhost:8080/"
        },
        "id": "IFK5QzJsDLfA",
        "outputId": "6186a78b-3635-4049-a9a5-ea36ba6facb6"
      },
      "execution_count": null,
      "outputs": [
        {
          "output_type": "stream",
          "name": "stdout",
          "text": [
            "75.71428571428571\n"
          ]
        }
      ]
    },
    {
      "cell_type": "code",
      "source": [
        "incomes = np.array([45000, 55000, 60000, 65000, 70000, 80000, 90000])\n",
        "median_income = np.median(incomes)\n",
        "print (median_income)"
      ],
      "metadata": {
        "colab": {
          "base_uri": "https://localhost:8080/"
        },
        "id": "0wImtJAKK2O8",
        "outputId": "c6e5c776-5ce1-4cf5-b9f8-d7280cae930d"
      },
      "execution_count": null,
      "outputs": [
        {
          "output_type": "stream",
          "name": "stdout",
          "text": [
            "65000.0\n"
          ]
        }
      ]
    },
    {
      "cell_type": "code",
      "source": [
        "import numpy as np\n",
        "classA= np.array([85, 88, 90, 92, 95])\n",
        "classB= np.array([70, 80, 85, 95, 100])\n",
        "classA_std=np.std(classA)\n",
        "classB_std=np.std(classB)\n",
        "print('Class A Standard Deviation',classA_std )\n",
        "print('Class B Standard Deviation',classB_std )"
      ],
      "metadata": {
        "colab": {
          "base_uri": "https://localhost:8080/"
        },
        "id": "cKVsLZYuLJmx",
        "outputId": "c01a6033-7c84-4b70-eb39-2b7f695954d4"
      },
      "execution_count": null,
      "outputs": [
        {
          "output_type": "stream",
          "name": "stdout",
          "text": [
            "Class A Standard Deviation 3.40587727318528\n",
            "Class B Standard Deviation 10.677078252031311\n"
          ]
        }
      ]
    },
    {
      "cell_type": "code",
      "source": [
        "import numpy as np\n",
        "prd_a= np.array([4,3])\n",
        "prd_b= np.array([2,8])\n",
        "prdA_var=np.var(prd_a)\n",
        "prdB_var=np.var(prd_b)\n",
        "print('Production A Variance',prdA_var)\n",
        "print('Production B Variance',prdB_var)"
      ],
      "metadata": {
        "colab": {
          "base_uri": "https://localhost:8080/"
        },
        "id": "Kznwv8aULaep",
        "outputId": "ab366335-2bb3-4957-c4ec-89063054fa25"
      },
      "execution_count": null,
      "outputs": [
        {
          "output_type": "stream",
          "name": "stdout",
          "text": [
            "Production A Variance 0.25\n",
            "Production B Variance 9.0\n"
          ]
        }
      ]
    },
    {
      "cell_type": "code",
      "source": [
        "import numpy as np\n",
        "daily_traffic = np.array([1200, 1350, 1480, 1650, 1800, 1550, 1680])\n",
        "min_traffic = np.min(daily_traffic)\n",
        "max_traffic = np.max(daily_traffic)\n",
        "print(min_traffic )"
      ],
      "metadata": {
        "colab": {
          "base_uri": "https://localhost:8080/"
        },
        "id": "5ZMq2_0uLn94",
        "outputId": "2509e230-50b9-4614-c5c4-b85d6ce49481"
      },
      "execution_count": null,
      "outputs": [
        {
          "output_type": "stream",
          "name": "stdout",
          "text": [
            "1200\n"
          ]
        }
      ]
    },
    {
      "cell_type": "code",
      "source": [
        "test_scores = np.array([65, 75, 80, 85, 90, 92, 94, 95, 96, 98, 100, 102, 104, 106, 108, 110, 112, 114, 116, 118, 120, 122, 124, 126, 128, 130, 132, 134, 136, 138])\n",
        "median = np.percentile(test_scores, 50)\n",
        "print(\"median(50 precent):\",median)"
      ],
      "metadata": {
        "colab": {
          "base_uri": "https://localhost:8080/"
        },
        "id": "4BGEwmPcL1Go",
        "outputId": "2c9a0dd2-bff2-46ed-f7e6-1425057f1ecc"
      },
      "execution_count": null,
      "outputs": [
        {
          "output_type": "stream",
          "name": "stdout",
          "text": [
            "median(50 precent): 109.0\n"
          ]
        }
      ]
    },
    {
      "cell_type": "code",
      "source": [
        "##Upper Quartile (75th Percentile)\n",
        "\n",
        "q1 = np.percentile(test_scores, 25)\n",
        "q3 = np.percentile(test_scores, 75)\n",
        "print(\"Upper Quartile (75th Percentile):\", q3)\n"
      ],
      "metadata": {
        "colab": {
          "base_uri": "https://localhost:8080/"
        },
        "id": "Y1CiG1RBMCp2",
        "outputId": "765894b2-ef91-48fd-dd00-8b3db8d4a5f8"
      },
      "execution_count": null,
      "outputs": [
        {
          "output_type": "stream",
          "name": "stdout",
          "text": [
            "Upper Quartile (75th Percentile): 123.5\n"
          ]
        }
      ]
    },
    {
      "cell_type": "code",
      "source": [
        "percentile_90 = np.percentile(test_scores, 90)\n",
        "print(\"90th Percentile:\", percentile_90)"
      ],
      "metadata": {
        "colab": {
          "base_uri": "https://localhost:8080/"
        },
        "id": "KZ3fT1BDMVsI",
        "outputId": "0bbda05d-2e41-436b-8f42-ef580f9e804e"
      },
      "execution_count": null,
      "outputs": [
        {
          "output_type": "stream",
          "name": "stdout",
          "text": [
            "90th Percentile: 132.2\n"
          ]
        }
      ]
    },
    {
      "cell_type": "code",
      "source": [
        "sales = np.array([5500, 6200, 4800, 7200, 6800, 7500, 8100])\n",
        "total_revenue = np.sum(sales)\n",
        "print(total_revenue)"
      ],
      "metadata": {
        "colab": {
          "base_uri": "https://localhost:8080/"
        },
        "id": "ZKUrWpbcMaqA",
        "outputId": "3604532e-6c44-487a-ec94-06848c3f663c"
      },
      "execution_count": null,
      "outputs": [
        {
          "output_type": "stream",
          "name": "stdout",
          "text": [
            "46100\n"
          ]
        }
      ]
    },
    {
      "cell_type": "code",
      "source": [
        "scores = np.array([85, 92, 78, 88, 95, 72, 89])\n",
        "np.save('student_scores.npy', scores)\n",
        "loaded_scores = np.load('student_scores.npy')\n",
        "print(\"Original Scores:\", scores)\n",
        "print(\"Loaded Scores:\", loaded_scores)"
      ],
      "metadata": {
        "colab": {
          "base_uri": "https://localhost:8080/"
        },
        "id": "0AfT0h1hMjsU",
        "outputId": "e17c2013-9452-4fdb-ebe9-85712fb35b69"
      },
      "execution_count": null,
      "outputs": [
        {
          "output_type": "stream",
          "name": "stdout",
          "text": [
            "Original Scores: [85 92 78 88 95 72 89]\n",
            "Loaded Scores: [85 92 78 88 95 72 89]\n"
          ]
        }
      ]
    },
    {
      "cell_type": "code",
      "source": [
        "##.Hi! I have a dataset of daily temperatures over a week, and I want to calculate statistics like the mean, median, variance and standard deviation of temperatures. Can you please generate a complete program using Python numpy.\n",
        "import numpy as np\n",
        "\n",
        "# Sample temperature data for 7 days (in Celsius)\n",
        "temperatures = np.array([28, 30, 27, 35, 26, 31, 29])\n",
        "\n",
        "# Calculate statistics\n",
        "mean_temp = np.mean(temperatures)\n",
        "median_temp = np.median(temperatures)\n",
        "variance_temp = np.var(temperatures)\n",
        "std_deviation_temp = np.std(temperatures)\n",
        "\n",
        "# Display results\n",
        "print(\"Temperature Statistics for the Week:\")\n",
        "print(f\"Temperatures: {temperatures}\")\n",
        "print(f\"Mean Temperature       : {mean_temp:.2f}°C\")\n",
        "print(f\"Median Temperature     : {median_temp:.2f}°C\")\n",
        "print(f\"Variance               : {variance_temp:.2f}\")\n",
        "print(f\"Standard Deviation     : {std_deviation_temp:.2f}\")\n"
      ],
      "metadata": {
        "colab": {
          "base_uri": "https://localhost:8080/"
        },
        "id": "M5_HjAFtM0pJ",
        "outputId": "741a4ca7-2e89-4dd6-97c5-63b9f04fd665"
      },
      "execution_count": null,
      "outputs": [
        {
          "output_type": "stream",
          "name": "stdout",
          "text": [
            "Temperature Statistics for the Week:\n",
            "Temperatures: [28 30 27 35 26 31 29]\n",
            "Mean Temperature       : 29.43°C\n",
            "Median Temperature     : 29.00°C\n",
            "Variance               : 7.67\n",
            "Standard Deviation     : 2.77\n"
          ]
        }
      ]
    },
    {
      "cell_type": "markdown",
      "source": [
        "# Numpy Mathematical Operations"
      ],
      "metadata": {
        "id": "e0CqnsjFO3jw"
      }
    },
    {
      "cell_type": "code",
      "source": [
        "arr1 = np.array([1, 2, 3, 4])\n",
        "arr2 = np.array([5, 6, 7, 8])\n",
        "# Subtraction\n",
        "result_sub = arr1- arr2\n",
        "##add\n",
        "result_add = arr1 + arr2\n",
        "#division\n",
        "result_div = arr1 / arr2\n",
        "# Multiplication\n",
        "result_mul = arr1 * arr2\n",
        "\n",
        "print(\"Addition:\", result_add)\n",
        "print(\"Subtraction:\", result_sub)\n",
        "print(\"Multiplication:\", result_mul)\n",
        "print(\"Division:\", result_div)"
      ],
      "metadata": {
        "colab": {
          "base_uri": "https://localhost:8080/"
        },
        "id": "8bFf1Gx2N-wR",
        "outputId": "33e45f9c-5150-40a5-a3e4-d1e71ff531b3"
      },
      "execution_count": null,
      "outputs": [
        {
          "output_type": "stream",
          "name": "stdout",
          "text": [
            "Addition: [ 6  8 10 12]\n",
            "Subtraction: [-4 -4 -4 -4]\n",
            "Multiplication: [ 5 12 21 32]\n",
            "Division: [0.2        0.33333333 0.42857143 0.5       ]\n"
          ]
        }
      ]
    },
    {
      "cell_type": "code",
      "source": [
        "arr = np.array([2, 3, 4, 5])\n",
        "#Exponentiation (e^x)\n",
        "result_exp = np.exp(arr)\n",
        " # Natural logarithm (base e)\n",
        "result_log = np.log(arr)\n",
        "print(\"Exponentiation:\", result_exp)\n",
        "print(\"Natural Logarithm:\", result_log)"
      ],
      "metadata": {
        "colab": {
          "base_uri": "https://localhost:8080/"
        },
        "id": "9QhAqJfZPQkp",
        "outputId": "679106e5-c7f0-43b8-d214-54df1aec1fb6"
      },
      "execution_count": null,
      "outputs": [
        {
          "output_type": "stream",
          "name": "stdout",
          "text": [
            "Exponentiation: [  7.3890561   20.08553692  54.59815003 148.4131591 ]\n",
            "Natural Logarithm: [0.69314718 1.09861229 1.38629436 1.60943791]\n"
          ]
        }
      ]
    },
    {
      "cell_type": "code",
      "source": [
        "matrix_a = np.array([[1, 2], [3, 4]])\n",
        "matrix_b = np.array([[5, 6], [7, 8]])\n",
        "result_matmul = np.dot(matrix_a, matrix_b)\n",
        "result_transpose = np.transpose(matrix_a)\n",
        "print(\"Matrix Multiplication:\")\n",
        "print(result_matmul)\n",
        "print(\"Original Matrix\")\n",
        "print(matrix_a)\n",
        "print(\"After Matrix Transposition:\")\n",
        "print(result_transpose)"
      ],
      "metadata": {
        "colab": {
          "base_uri": "https://localhost:8080/"
        },
        "id": "cwq6TpOIPhgJ",
        "outputId": "16fe0987-cd6b-4f6a-9aae-08eeb162961d"
      },
      "execution_count": null,
      "outputs": [
        {
          "output_type": "stream",
          "name": "stdout",
          "text": [
            "Matrix Multiplication:\n",
            "[[19 22]\n",
            " [43 50]]\n",
            "Original Matrix\n",
            "[[1 2]\n",
            " [3 4]]\n",
            "After Matrix Transposition:\n",
            "[[1 3]\n",
            " [2 4]]\n"
          ]
        }
      ]
    },
    {
      "cell_type": "code",
      "source": [
        "data = np.array([3.14159, 2.71828, 1.61803])\n",
        "result_round = np.round(data, 2)\n",
        "result_trunc = np.trunc(data)\n",
        "print(\"Rounded Values:\", result_round)\n",
        "print(\"Truncated Values:\", result_trunc)"
      ],
      "metadata": {
        "colab": {
          "base_uri": "https://localhost:8080/"
        },
        "id": "6ruHXkpAQLbY",
        "outputId": "e4bba718-ab44-4624-9b1d-e39bfdd50f94"
      },
      "execution_count": null,
      "outputs": [
        {
          "output_type": "stream",
          "name": "stdout",
          "text": [
            "Rounded Values: [3.14 2.72 1.62]\n",
            "Truncated Values: [3. 2. 1.]\n"
          ]
        }
      ]
    },
    {
      "cell_type": "code",
      "source": [
        "#.Hi! I am a hiring manager responsible for screening job applicants for a software development position. I want to filter and identify qualified candidates based on their qualifications, which include having a relevant degree and a minimum number of years of experience. Can you please generate a complete program using Python numpy array.\n",
        "\n",
        "import numpy as np\n",
        "\n",
        "#dataset\n",
        "names = np.array(['Alice', 'Bob', 'Charlie', 'David', 'Eva', 'Frank'])\n",
        "degrees = np.array([1, 0, 1, 1, 0, 1])\n",
        "experience = np.array([2, 5, 4, 1, 3, 6])\n",
        "\n",
        "\n",
        "min_experience = 3\n",
        "relevant_degree_required = 1\n",
        "\n",
        "qualified_mask = (degrees == relevant_degree_required) & (experience >= min_experience)\n",
        "\n",
        "qualified_candidates = names[qualified_mask]\n",
        "\n",
        "print(\"Qualified Candidates for Software Development Role:\")\n",
        "for name in qualified_candidates:\n",
        "    print(f\"- {name}\")\n",
        "\n",
        "\n",
        "\n"
      ],
      "metadata": {
        "colab": {
          "base_uri": "https://localhost:8080/"
        },
        "id": "SX_ZUrW8Qo7I",
        "outputId": "da7bfa0e-a23e-43b5-b4e8-cbd81d297361"
      },
      "execution_count": null,
      "outputs": [
        {
          "output_type": "stream",
          "name": "stdout",
          "text": [
            "Qualified Candidates for Software Development Role:\n",
            "- Charlie\n",
            "- Frank\n"
          ]
        }
      ]
    },
    {
      "cell_type": "code",
      "source": [
        "#1. Calculate the total revenue generated by two product categories in a store\n",
        "# Input:\n",
        "# category1_revenue = np.array([500, 600, 700, 550])\n",
        "# category2_revenue = np.array([450, 700, 800, 600])\n",
        "# Output:\n",
        "# Total Revenue: [ 950 1300 1500 1150]\n",
        "import numpy as np\n",
        "\n",
        "category1_revenue = np.array([500, 600, 700, 550])\n",
        "category2_revenue = np.array([450, 700, 800, 600])\n",
        "\n",
        "total_revenue = category1_revenue + category2_revenue\n",
        "\n",
        "print(\"Total Revenue:\", total_revenue)\n"
      ],
      "metadata": {
        "id": "FHbQj37lRszI",
        "colab": {
          "base_uri": "https://localhost:8080/"
        },
        "outputId": "f54b5715-0496-473b-cb22-1cccc8e41747"
      },
      "execution_count": 1,
      "outputs": [
        {
          "output_type": "stream",
          "name": "stdout",
          "text": [
            "Total Revenue: [ 950 1300 1500 1150]\n"
          ]
        }
      ]
    },
    {
      "cell_type": "code",
      "source": [
        "#2. Calculate the profit made by a company\n",
        "# Input:\n",
        "# revenue = np.array([10000, 12000, 11000, 10500])\n",
        "# expenses = np.array([4000, 5000, 4500, 4800])\n",
        "# Output:\n",
        "# Profit: [6000 7000 6500 5700]\n",
        "import numpy as np\n",
        "\n",
        "revenue = np.array([10000, 12000, 11000, 10500])\n",
        "expenses = np.array([4000, 5000, 4500, 4800])\n",
        "\n",
        "\n",
        "profit = revenue - expenses\n",
        "print(\"Profit:\", profit)\n"
      ],
      "metadata": {
        "colab": {
          "base_uri": "https://localhost:8080/"
        },
        "id": "MfhonKIILv15",
        "outputId": "82850231-eca6-47b8-a65e-c96b2702d5d5"
      },
      "execution_count": 2,
      "outputs": [
        {
          "output_type": "stream",
          "name": "stdout",
          "text": [
            "Profit: [6000 7000 6500 5700]\n"
          ]
        }
      ]
    },
    {
      "cell_type": "markdown",
      "source": [
        "# Data Visualization"
      ],
      "metadata": {
        "id": "i9LN1cahPl6T"
      }
    },
    {
      "cell_type": "markdown",
      "source": [
        "BarCharts: Used for comparing categories or showing trends over time. ● LineCharts: Ideal for showing trends, changes, and fluctuations. ● Scatter Plots: Depict relationships and correlations between two variables. ● PieCharts: Display parts of a whole and proportions. ● Heatmaps:Visualize data using color intensity. ● Maps:Showgeographic data and spatial patterns. ● Histograms: Display distributions of continuous data. ● **BoxPlots/ whisker plot**: Reveal data distribution, outliers, and quartiles. ● AreaPlot:Used to display the cumulative contribution of multiple data series as they change over a continuous or categorical axis. Tools f\n",
        "\n"
      ],
      "metadata": {
        "id": "YnGGOGQbUH3p"
      }
    },
    {
      "cell_type": "code",
      "source": [
        "pip install matplotlib"
      ],
      "metadata": {
        "colab": {
          "base_uri": "https://localhost:8080/"
        },
        "id": "DwwavEAHbPqM",
        "outputId": "49494aeb-e8af-446f-bab4-838e125eb70e"
      },
      "execution_count": 3,
      "outputs": [
        {
          "output_type": "stream",
          "name": "stdout",
          "text": [
            "Requirement already satisfied: matplotlib in /usr/local/lib/python3.11/dist-packages (3.10.0)\n",
            "Requirement already satisfied: contourpy>=1.0.1 in /usr/local/lib/python3.11/dist-packages (from matplotlib) (1.3.2)\n",
            "Requirement already satisfied: cycler>=0.10 in /usr/local/lib/python3.11/dist-packages (from matplotlib) (0.12.1)\n",
            "Requirement already satisfied: fonttools>=4.22.0 in /usr/local/lib/python3.11/dist-packages (from matplotlib) (4.58.1)\n",
            "Requirement already satisfied: kiwisolver>=1.3.1 in /usr/local/lib/python3.11/dist-packages (from matplotlib) (1.4.8)\n",
            "Requirement already satisfied: numpy>=1.23 in /usr/local/lib/python3.11/dist-packages (from matplotlib) (2.0.2)\n",
            "Requirement already satisfied: packaging>=20.0 in /usr/local/lib/python3.11/dist-packages (from matplotlib) (24.2)\n",
            "Requirement already satisfied: pillow>=8 in /usr/local/lib/python3.11/dist-packages (from matplotlib) (11.2.1)\n",
            "Requirement already satisfied: pyparsing>=2.3.1 in /usr/local/lib/python3.11/dist-packages (from matplotlib) (3.2.3)\n",
            "Requirement already satisfied: python-dateutil>=2.7 in /usr/local/lib/python3.11/dist-packages (from matplotlib) (2.9.0.post0)\n",
            "Requirement already satisfied: six>=1.5 in /usr/local/lib/python3.11/dist-packages (from python-dateutil>=2.7->matplotlib) (1.17.0)\n"
          ]
        }
      ]
    },
    {
      "cell_type": "code",
      "source": [
        "import matplotlib.pyplot as plt\n",
        "l1=[1,2,3,4,5]\n",
        "l2=[10,20,25,30,35]\n",
        "plt.plot(l1,l2)\n",
        "plt.xlabel(\"l1-axis\")\n",
        "plt.ylabel(\"l2-axis\")\n",
        "plt.title(\"SimpleLinePlot\")\n",
        "plt.show()"
      ],
      "metadata": {
        "colab": {
          "base_uri": "https://localhost:8080/",
          "height": 472
        },
        "id": "39lGzD1-L95b",
        "outputId": "963c70fd-0d09-47d8-f147-f2ae67273c45"
      },
      "execution_count": 5,
      "outputs": [
        {
          "output_type": "display_data",
          "data": {
            "text/plain": [
              "<Figure size 640x480 with 1 Axes>"
            ],
            "image/png": "[encoded data removed]"
          },
          "metadata": {}
        }
      ]
    },
    {
      "cell_type": "code",
      "source": [
        "import matplotlib.pyplot as plt\n",
        "import numpy as np\n",
        "x =np.array(['Day 1','Day2','Day3','Day4','Day5'])\n",
        "y =np.array([10,20,5,30,40])\n"
      ],
      "metadata": {
        "id": "GmvQitO6bW5Y"
      },
      "execution_count": 16,
      "outputs": []
    },
    {
      "cell_type": "code",
      "source": [
        "plt.plot(x,y)\n",
        "plt.xlabel(\"sales day\")\n",
        "plt.ylabel(\"y-axis\")\n",
        "plt.title(\"Data wise sales\")\n",
        "plt.show()"
      ],
      "metadata": {
        "colab": {
          "base_uri": "https://localhost:8080/",
          "height": 472
        },
        "id": "qk_xGeqbc7mf",
        "outputId": "8bf3557f-5638-4abe-b2bc-c42b75bdd76b"
      },
      "execution_count": 19,
      "outputs": [
        {
          "output_type": "display_data",
          "data": {
            "text/plain": [
              "<Figure size 640x480 with 1 Axes>"
            ],
            "image/png": "[encoded data removed]"
          },
          "metadata": {}
        }
      ]
    },
    {
      "cell_type": "code",
      "source": [
        "##1.Hi! I am new in python matplotlib can you please generate few basic charts for me\n",
        "import matplotlib.pyplot as plt\n",
        "import matplotlib.pyplot as plt\n",
        "\n",
        "# Data\n",
        "labels = ['Apples', 'Bananas', 'Cherries', 'Dates']\n",
        "sizes = [25, 30, 20, 25]\n",
        "\n",
        "plt.pie(sizes, labels=labels, autopct='%1.1f%%')\n",
        "plt.title(\"Pie Chart\")\n",
        "plt.show()\n"
      ],
      "metadata": {
        "colab": {
          "base_uri": "https://localhost:8080/",
          "height": 428
        },
        "id": "gO7M8V7OdMjY",
        "outputId": "86986b21-af2c-40a9-b8d4-03db997fc598"
      },
      "execution_count": 20,
      "outputs": [
        {
          "output_type": "display_data",
          "data": {
            "text/plain": [
              "<Figure size 640x480 with 1 Axes>"
            ],
            "image/png": "[encoded data removed]"
          },
          "metadata": {}
        }
      ]
    },
    {
      "cell_type": "code",
      "source": [
        "import matplotlib.pyplot as plt\n",
        "\n",
        "# Data\n",
        "x = [1, 2, 3, 4, 5]\n",
        "y = [2, 3, 5, 7, 11]\n"
      ],
      "metadata": {
        "id": "kj4AQAl9eRYX"
      },
      "execution_count": 21,
      "outputs": []
    },
    {
      "cell_type": "code",
      "source": [
        "plt.plot(x, y)\n",
        "plt.title(\"Line Chart\")\n",
        "plt.xlabel(\"X-axis\")\n",
        "plt.ylabel(\"Y-axis\")\n",
        "plt.grid(True)\n",
        "plt.show()\n"
      ],
      "metadata": {
        "colab": {
          "base_uri": "https://localhost:8080/",
          "height": 472
        },
        "id": "uemPQf4ceWYQ",
        "outputId": "ce7d8a54-b868-47d6-8df2-2e9c4c623413"
      },
      "execution_count": 22,
      "outputs": [
        {
          "output_type": "display_data",
          "data": {
            "text/plain": [
              "<Figure size 640x480 with 1 Axes>"
            ],
            "image/png": "[encoded data removed]"
          },
          "metadata": {}
        }
      ]
    },
    {
      "cell_type": "code",
      "source": [
        "plt.bar(x,y)\n",
        "plt.title(\"Bar Chart\")\n",
        "plt.xlabel(\"Categories\")\n",
        "plt.ylabel(\"Values\")\n",
        "plt.show()"
      ],
      "metadata": {
        "colab": {
          "base_uri": "https://localhost:8080/",
          "height": 472
        },
        "id": "kEcIzcWKeWw4",
        "outputId": "d6c7ce88-551d-4dac-cc94-66003c1df68f"
      },
      "execution_count": 24,
      "outputs": [
        {
          "output_type": "display_data",
          "data": {
            "text/plain": [
              "<Figure size 640x480 with 1 Axes>"
            ],
            "image/png": "[encoded data removed]"
          },
          "metadata": {}
        }
      ]
    },
    {
      "cell_type": "code",
      "source": [
        "plt.bar(labels, sizes)\n",
        "plt.title(\"Bar Chart\")\n",
        "plt.xlabel(\"Categories\")\n",
        "plt.ylabel(\"Values\")\n",
        "plt.show()"
      ],
      "metadata": {
        "colab": {
          "base_uri": "https://localhost:8080/",
          "height": 472
        },
        "id": "hGa0Xt2jeaSo",
        "outputId": "04270666-21f6-44b6-8981-ecdb45acf2f4"
      },
      "execution_count": 25,
      "outputs": [
        {
          "output_type": "display_data",
          "data": {
            "text/plain": [
              "<Figure size 640x480 with 1 Axes>"
            ],
            "image/png": "[encoded data removed]"
          },
          "metadata": {}
        }
      ]
    },
    {
      "cell_type": "code",
      "source": [
        "plt.scatter(x, y)\n",
        "plt.title(\"Scatter Plot\")\n",
        "plt.xlabel(\"X\")\n",
        "plt.ylabel(\"Y\")\n",
        "plt.grid(True)\n",
        "plt.show()"
      ],
      "metadata": {
        "colab": {
          "base_uri": "https://localhost:8080/",
          "height": 472
        },
        "id": "rn7NVeK2emD5",
        "outputId": "c591d624-82d0-4134-dd91-75283a27a32e"
      },
      "execution_count": 26,
      "outputs": [
        {
          "output_type": "display_data",
          "data": {
            "text/plain": [
              "<Figure size 640x480 with 1 Axes>"
            ],
            "image/png": "[encoded data removed]"
          },
          "metadata": {}
        }
      ]
    },
    {
      "cell_type": "code",
      "source": [
        "data = [20, 22, 23, 22, 25, 28, 29, 30, 35, 37, 37, 38, 40, 41]\n",
        "\n",
        "# Plot\n",
        "plt.hist(data, bins=5, color='skyblue', edgecolor='black')\n",
        "plt.title(\"Histogram\")\n",
        "plt.xlabel(\"Value\")\n",
        "plt.ylabel(\"Frequency\")\n",
        "plt.show()"
      ],
      "metadata": {
        "colab": {
          "base_uri": "https://localhost:8080/",
          "height": 472
        },
        "id": "HVRWwsg6eqSw",
        "outputId": "1068c0c5-e114-4e7b-a821-8425f0bbe7be"
      },
      "execution_count": 27,
      "outputs": [
        {
          "output_type": "display_data",
          "data": {
            "text/plain": [
              "<Figure size 640x480 with 1 Axes>"
            ],
            "image/png": "[encoded data removed]"
          },
          "metadata": {}
        }
      ]
    },
    {
      "cell_type": "markdown",
      "source": [
        "# Matplotlib Bar plot & Histogram"
      ],
      "metadata": {
        "id": "THfreg0zgPN5"
      }
    },
    {
      "cell_type": "code",
      "source": [
        "import matplotlib.pyplot as plt\n",
        "\n",
        "# Age data\n",
        "ages = [1, 1, 2, 3, 3, 5, 7, 8, 9, 10, 10, 11, 11, 13, 13, 15, 16, 17, 18, 18, 18, 19, 20, 21, 21, 23, 24, 24, 25, 25,\n",
        "        25, 25, 26, 26, 26, 27, 27, 27, 27, 27, 29, 30, 30, 31, 33, 34, 34, 34, 35, 36, 36, 37, 37, 38, 38, 39, 40,\n",
        "        41, 41, 42, 43, 44, 45, 45, 46, 47, 48, 48, 49, 50, 51, 52, 53, 54, 55, 55, 56, 57, 58, 60, 61, 63, 64, 65,\n",
        "        66, 68, 70, 71, 72, 74, 75, 77, 81, 83, 84, 87, 89, 90, 90, 91]\n",
        "\n",
        "# Bin ranges (grouping ages into intervals)\n",
        "b = [0,10,20,30,40,50,60,70,80,90,100]\n",
        "\n",
        "# Plotting histogram\n",
        "plt.hist(ages, bins=b, edgecolor='k')\n",
        "plt.xlabel('Age')\n",
        "plt.ylabel('Number of Respondents')\n",
        "plt.title('Age Distribution of Survey Respondents')\n",
        "plt.show()\n"
      ],
      "metadata": {
        "colab": {
          "base_uri": "https://localhost:8080/",
          "height": 472
        },
        "id": "Erlh9rCweuGw",
        "outputId": "1a94c89c-56e2-4d30-9d5b-ccf531ecdde3"
      },
      "execution_count": 28,
      "outputs": [
        {
          "output_type": "display_data",
          "data": {
            "text/plain": [
              "<Figure size 640x480 with 1 Axes>"
            ],
            "image/png": "[encoded data removed]"
          },
          "metadata": {}
        }
      ]
    },
    {
      "cell_type": "markdown",
      "source": [
        "Intervals (bins) 0-9 10-19 20-29 Frequency (No of Respondents) 9 13 19 30-39 40-49 50-59 60-69 70-79 80-89 90–99 15 13 10 7 6 5 3"
      ],
      "metadata": {
        "id": "dI0Ri-6Hha78"
      }
    },
    {
      "cell_type": "code",
      "source": [
        "##Exercise Use GPT to write a program: 1.Hi! Suppose I am a teacher, and I want to analyze the exam scores of my students to understand how they performed on a recent math test. I have collected the exam scores, and I want to create a histogram to visualize the distribution of scores. Can you please generate a complete code. [Note: You need to share the exam scores in list format. For eg. 22,45,60,75,80]\n",
        "import matplotlib.pyplot as plt\n",
        "\n",
        "# Exam scores (you can edit or add more)\n",
        "exam_scores = [22, 45, 60, 75, 80, 35, 90, 55, 65, 70, 85, 95, 40, 50, 60, 62, 78, 88, 92, 100, 30, 25, 48]\n",
        "\n",
        "# Define score ranges (bins)\n",
        "score_bins = [0, 20, 40, 60, 80, 100]\n"
      ],
      "metadata": {
        "id": "dAJoLMALhVFR"
      },
      "execution_count": 29,
      "outputs": []
    },
    {
      "cell_type": "code",
      "source": [
        "plt.hist(exam_scores, bins=score_bins, edgecolor='black', color='skyblue')\n",
        "plt.title(\"Distribution of Math Test Scores\")\n",
        "plt.xlabel(\"Score Ranges\")\n",
        "plt.ylabel(\"Number of Students\")\n",
        "plt.grid(True)\n",
        "plt.show()\n"
      ],
      "metadata": {
        "colab": {
          "base_uri": "https://localhost:8080/",
          "height": 472
        },
        "id": "JYRmg9lVhtLR",
        "outputId": "90360f87-0556-4b4a-91da-18baa046a238"
      },
      "execution_count": 30,
      "outputs": [
        {
          "output_type": "display_data",
          "data": {
            "text/plain": [
              "<Figure size 640x480 with 1 Axes>"
            ],
            "image/png": "[encoded data removed]"
          },
          "metadata": {}
        }
      ]
    },
    {
      "cell_type": "code",
      "source": [
        "import matplotlib.pyplot as plt\n",
        "manufacturers = ['Samsung', 'Apple', 'Huawei', 'Xiaomi', 'Others']\n",
        "market_share = [30, 25, 18, 12, 15]\n",
        "colors = ['lightblue', 'lightcoral', 'lightgreen', 'lightpink', 'lightgrey']\n"
      ],
      "metadata": {
        "id": "PRJVbPtHhtjo"
      },
      "execution_count": 31,
      "outputs": []
    },
    {
      "cell_type": "code",
      "source": [
        "plt.pie(market_share, labels=manufacturers, colors=colors, autopct='%1.1f%%')\n",
        "plt.title(\"Market Share of Mobile Manufacturers\")\n",
        "plt.show()"
      ],
      "metadata": {
        "colab": {
          "base_uri": "https://localhost:8080/",
          "height": 428
        },
        "id": "M4sqUl-ys5xV",
        "outputId": "23877fa8-4d98-4672-a5ff-1252b497b87a"
      },
      "execution_count": 32,
      "outputs": [
        {
          "output_type": "display_data",
          "data": {
            "text/plain": [
              "<Figure size 640x480 with 1 Axes>"
            ],
            "image/png": "[encoded data removed]"
          },
          "metadata": {}
        }
      ]
    },
    {
      "cell_type": "code",
      "source": [
        "study_hours = [2, 3, 1, 4, 3, 5, 2, 6, 5, 7]\n",
        "exam_scores = [65, 75, 60, 80, 70, 85, 70, 90, 88, 92]\n",
        "plt.scatter(study_hours, exam_scores, c='green', marker='o', label='Student Data')\n",
        "plt.title(\"Relationship between Study Hours and Exam Scores\")\n",
        "plt.xlabel(\"Study Hours\")\n",
        "plt.ylabel(\"Exam Scores\")\n",
        "plt.grid(True)\n",
        "plt.legend()\n",
        "plt.show()"
      ],
      "metadata": {
        "colab": {
          "base_uri": "https://localhost:8080/",
          "height": 472
        },
        "id": "OYXG6I6Ws_Gj",
        "outputId": "af618b63-f9ff-4f64-90d1-b17d5abb5126"
      },
      "execution_count": 35,
      "outputs": [
        {
          "output_type": "display_data",
          "data": {
            "text/plain": [
              "<Figure size 640x480 with 1 Axes>"
            ],
            "image/png": "[encoded data removed]"
          },
          "metadata": {}
        }
      ]
    },
    {
      "cell_type": "code",
      "source": [
        "# Student names\n",
        "students = ['Jhon', 'Smith', 'Marry', 'Rose', 'Devid']\n",
        "math_scores = [85, 92, 78, 88, 90]\n",
        "science_scores = [76, 88, 92, 80, 78]"
      ],
      "metadata": {
        "id": "7Ce4tNB5tRIL"
      },
      "execution_count": 36,
      "outputs": []
    },
    {
      "cell_type": "code",
      "source": [
        "fig, axs = plt.subplots(1, 2, figsize=(12, 5))\n",
        "# Plot Math Scores\n",
        "axs[0].bar(students, math_scores, color='b')  # Blue bars\n",
        "axs[0].set_title('Math Scores')\n",
        "axs[0].set_xlabel('Students')\n",
        "axs[0].set_ylabel('Score')\n",
        "# Plot Science Scores\n",
        "axs[1].bar(students, science_scores, color='g')  # Green bars\n",
        "axs[1].set_title('Science Scores')\n",
        "axs[1].set_xlabel('Students')\n",
        "axs[1].set_ylabel('Score')\n",
        "# Adjust spacing between subplots\n",
        "plt.tight_layout()\n",
        "plt.show()"
      ],
      "metadata": {
        "colab": {
          "base_uri": "https://localhost:8080/",
          "height": 507
        },
        "id": "PmG0QiNKt4D8",
        "outputId": "a349cf3c-edd4-4023-bdb9-cf5f52407418"
      },
      "execution_count": 37,
      "outputs": [
        {
          "output_type": "display_data",
          "data": {
            "text/plain": [
              "<Figure size 1200x500 with 2 Axes>"
            ],
            "image/png": "[encoded data removed]"
          },
          "metadata": {}
        }
      ]
    },
    {
      "cell_type": "code",
      "source": [
        "##.Hi! Suppose I have sales data for a company, and I want to create a single figure with subplots to compare sales figures for different regions over time. Each subplot will represent a different region.Can you please generate a program on it. Af\n",
        "import matplotlib.pyplot as plt\n",
        "import matplotlib.pyplot as plt\n",
        "\n",
        "# Example sales data for 4 regions over 6 months\n",
        "months = ['Jan', 'Feb', 'Mar', 'Apr', 'May', 'Jun']\n",
        "north_sales = [200, 220, 250, 270, 300, 310]\n",
        "south_sales = [180, 190, 200, 210, 215, 220]\n",
        "east_sales = [150, 160, 170, 185, 190, 195]\n",
        "west_sales = [100, 120, 140, 160, 180, 200]\n",
        "\n",
        "# Create subplots: 2 rows, 2 columns\n",
        "fig, axs = plt.subplots(2, 2, figsize=(12, 8))\n",
        "fig.suptitle(\"Monthly Sales by Region\", fontsize=16)\n",
        "\n",
        "# North Region\n",
        "axs[0, 0].plot(months, north_sales, marker='o', color='blue')\n",
        "axs[0, 0].set_title(\"North Region\")\n",
        "axs[0, 0].set_ylabel(\"Sales\")\n",
        "\n",
        "axs[0, 1].plot(months, south_sales, marker='s', color='green')\n",
        "axs[0, 1].set_title(\"South Region\")\n",
        "\n",
        "axs[1, 0].plot(months, east_sales, marker='^', color='orange')\n",
        "axs[1, 0].set_title(\"East Region\")\n",
        "axs[1, 0].set_xlabel(\"Months\")\n",
        "axs[1, 0].set_ylabel(\"Sales\")\n",
        "\n",
        "axs[1, 1].plot(months, west_sales, marker='d', color='red')\n",
        "axs[1, 1].set_title(\"West Region\")\n",
        "axs[1, 1].set_xlabel(\"Months\")\n",
        "\n",
        "plt.tight_layout(rect=[0, 0.03, 1, 0.95])  # Leave space for the main title\n",
        "plt.show()\n"
      ],
      "metadata": {
        "colab": {
          "base_uri": "https://localhost:8080/",
          "height": 782
        },
        "id": "eIGT7ivquKvd",
        "outputId": "d6beba5d-0cdc-4970-e3ec-4f3af9fdd15b"
      },
      "execution_count": 38,
      "outputs": [
        {
          "output_type": "display_data",
          "data": {
            "text/plain": [
              "<Figure size 1200x800 with 4 Axes>"
            ],
            "image/png": "[encoded data removed]"
          },
          "metadata": {}
        }
      ]
    },
    {
      "cell_type": "code",
      "source": [],
      "metadata": {
        "id": "ApVLWSBXurik"
      },
      "execution_count": null,
      "outputs": []
    }
  ]
}